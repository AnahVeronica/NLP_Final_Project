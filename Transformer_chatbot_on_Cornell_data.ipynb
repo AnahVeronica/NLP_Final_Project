{
  "nbformat": 4,
  "nbformat_minor": 0,
  "metadata": {
    "colab": {
      "name": "Transformer chatbot on Cornell data.ipynb",
      "provenance": [],
      "collapsed_sections": [],
      "toc_visible": true
    },
    "kernelspec": {
      "name": "python3",
      "display_name": "Python 3"
    },
    "language_info": {
      "name": "python"
    },
    "accelerator": "GPU"
  },
  "cells": [
    {
      "cell_type": "markdown",
      "metadata": {
        "id": "XFoVnoKPmAIJ"
      },
      "source": [
        "#Transformer Chatbot with Cornell data"
      ]
    },
    {
      "cell_type": "markdown",
      "metadata": {
        "id": "sUmxmdZXmOWI"
      },
      "source": [
        "## Data loading and preprocessing"
      ]
    },
    {
      "cell_type": "code",
      "metadata": {
        "colab": {
          "base_uri": "https://localhost:8080/"
        },
        "id": "uDp-1UYBaxLU",
        "outputId": "7f442537-7ee1-4e83-8866-3f094d96d342"
      },
      "source": [
        "from google.colab import drive\n",
        "drive.mount('/content/drive')"
      ],
      "execution_count": null,
      "outputs": [
        {
          "output_type": "stream",
          "text": [
            "Mounted at /content/drive\n"
          ],
          "name": "stdout"
        }
      ]
    },
    {
      "cell_type": "code",
      "metadata": {
        "colab": {
          "base_uri": "https://localhost:8080/"
        },
        "id": "X2MvQRfXbCCa",
        "outputId": "21812ca9-efe2-4d8d-a015-136fc8970aea"
      },
      "source": [
        "!unzip \"/content/drive/MyDrive/cornell_movie_dialogs_corpus.zip\" -d \"/content/cornell_movie\""
      ],
      "execution_count": null,
      "outputs": [
        {
          "output_type": "stream",
          "text": [
            "Archive:  /content/drive/MyDrive/cornell_movie_dialogs_corpus.zip\n",
            "   creating: /content/cornell_movie/cornell movie-dialogs corpus/\n",
            "  inflating: /content/cornell_movie/cornell movie-dialogs corpus/.DS_Store  \n",
            "   creating: /content/cornell_movie/__MACOSX/\n",
            "   creating: /content/cornell_movie/__MACOSX/cornell movie-dialogs corpus/\n",
            "  inflating: /content/cornell_movie/__MACOSX/cornell movie-dialogs corpus/._.DS_Store  \n",
            "  inflating: /content/cornell_movie/cornell movie-dialogs corpus/chameleons.pdf  \n",
            "  inflating: /content/cornell_movie/__MACOSX/cornell movie-dialogs corpus/._chameleons.pdf  \n",
            "  inflating: /content/cornell_movie/cornell movie-dialogs corpus/movie_characters_metadata.txt  \n",
            "  inflating: /content/cornell_movie/cornell movie-dialogs corpus/movie_conversations.txt  \n",
            "  inflating: /content/cornell_movie/cornell movie-dialogs corpus/movie_lines.txt  \n",
            "  inflating: /content/cornell_movie/cornell movie-dialogs corpus/movie_titles_metadata.txt  \n",
            "  inflating: /content/cornell_movie/cornell movie-dialogs corpus/raw_script_urls.txt  \n",
            "  inflating: /content/cornell_movie/cornell movie-dialogs corpus/README.txt  \n",
            "  inflating: /content/cornell_movie/__MACOSX/cornell movie-dialogs corpus/._README.txt  \n"
          ],
          "name": "stdout"
        }
      ]
    },
    {
      "cell_type": "code",
      "metadata": {
        "id": "hlfbpAxka6nA"
      },
      "source": [
        "import numpy as np # linear algebra\n",
        "import pandas as pd # data processing, CSV file I/O (e.g. pd.read_csv)\n",
        "import tensorflow as tf\n",
        "import re\n",
        "import time\n",
        "import os\n",
        "from keras.preprocessing.sequence import pad_sequences\n",
        "from keras.models import Model\n",
        "from keras.layers import Input, LSTM, Dense, Embedding, Bidirectional, concatenate\n",
        "from keras.callbacks import EarlyStopping, ModelCheckpoint, ReduceLROnPlateau\n"
      ],
      "execution_count": null,
      "outputs": []
    },
    {
      "cell_type": "code",
      "metadata": {
        "id": "I2dfiTjcbFft"
      },
      "source": [
        "import codecs\n",
        "\n",
        "with codecs.open(\"/content/cornell_movie/cornell movie-dialogs corpus/movie_lines.txt\", \"rb\", encoding=\"utf-8\", errors=\"ignore\") as f:\n",
        "    lines = f.read().split(\"\\n\")\n",
        "    conversations = []\n",
        "    for line in lines:\n",
        "        data = line.split(\" +++$+++ \")\n",
        "        conversations.append(data)"
      ],
      "execution_count": null,
      "outputs": []
    },
    {
      "cell_type": "code",
      "metadata": {
        "id": "3t6EPyv4elWm"
      },
      "source": [
        "with codecs.open(\"/content/drive/MyDrive/short_questions.txt\", \"rb\", encoding=\"utf-8\", errors=\"ignore\") as f:\n",
        "    lines = f.read().split(\"\\n\")\n",
        "    short_questions = []\n",
        "    for line in lines:\n",
        "        data = line.split(\"\\n\")[0]\n",
        "        short_questions.append(data)"
      ],
      "execution_count": null,
      "outputs": []
    },
    {
      "cell_type": "code",
      "metadata": {
        "colab": {
          "base_uri": "https://localhost:8080/"
        },
        "id": "QArEUKJlKrw-",
        "outputId": "b76ecc5d-51fd-49b2-8296-f961123014f3"
      },
      "source": [
        "short_questions = short_questions[:-1]\n",
        "len(short_questions)"
      ],
      "execution_count": null,
      "outputs": [
        {
          "output_type": "execute_result",
          "data": {
            "text/plain": [
              "113507"
            ]
          },
          "metadata": {
            "tags": []
          },
          "execution_count": 6
        }
      ]
    },
    {
      "cell_type": "code",
      "metadata": {
        "id": "iQSODvCze6NL"
      },
      "source": [
        "with codecs.open(\"/content/drive/MyDrive/short_answers.txt\", \"rb\", encoding=\"utf-8\", errors=\"ignore\") as f:\n",
        "    lines = f.read().split(\"\\n\")\n",
        "    short_answers = []\n",
        "    for line in lines:\n",
        "        data = line.split(\"\\n\")[0]\n",
        "        short_answers.append(data)"
      ],
      "execution_count": null,
      "outputs": []
    },
    {
      "cell_type": "code",
      "metadata": {
        "id": "xth4esLklZyP"
      },
      "source": [
        "import re\n",
        "def clean_text(text):\n",
        "    # Clean text by removing unnecessary characters and altering the format of words\n",
        "\n",
        "    text = text.lower()\n",
        "    \n",
        "    text = re.sub(r\"i'm\", \"i am\", text)\n",
        "    text = re.sub(r\"he's\", \"he is\", text)\n",
        "    text = re.sub(r\"she's\", \"she is\", text)\n",
        "    text = re.sub(r\"it's\", \"it is\", text)\n",
        "    text = re.sub(r\"that's\", \"that is\", text)\n",
        "    text = re.sub(r\"what's\", \"that is\", text)\n",
        "    text = re.sub(r\"where's\", \"where is\", text)\n",
        "    text = re.sub(r\"how's\", \"how is\", text)\n",
        "    text = re.sub(r\"\\'ll\", \" will\", text)\n",
        "    text = re.sub(r\"\\'ve\", \" have\", text)\n",
        "    text = re.sub(r\"\\'re\", \" are\", text)\n",
        "    text = re.sub(r\"\\'d\", \" would\", text)\n",
        "    text = re.sub(r\"\\'re\", \" are\", text)\n",
        "    text = re.sub(r\"won't\", \"will not\", text)\n",
        "    text = re.sub(r\"can't\", \"cannot\", text)\n",
        "    text = re.sub(r\"n't\", \" not\", text)\n",
        "    text = re.sub(r\"n'\", \"ng\", text)\n",
        "    text = re.sub(r\"'bout\", \"about\", text)\n",
        "    text = re.sub(r\"'til\", \"until\", text)\n",
        "    text = re.sub(r\"[-()\\\"#/@;:<>{}`+=~|.!?,]\", \"\", text)\n",
        "    \n",
        "    return text"
      ],
      "execution_count": null,
      "outputs": []
    },
    {
      "cell_type": "code",
      "metadata": {
        "id": "n-sHc6vOfMKv"
      },
      "source": [
        "#choosing number of samples\n",
        "num_samples = 30000  # Number of samples to train on.\n",
        "short_questions = short_questions[:num_samples]\n",
        "short_answers = short_answers[:num_samples]"
      ],
      "execution_count": null,
      "outputs": []
    },
    {
      "cell_type": "code",
      "metadata": {
        "id": "Ug5JJsASPaTV"
      },
      "source": [
        "with codecs.open(\"/content/drive/MyDrive/faq_ques.txt\", \"rb\", encoding=\"utf-8\", errors=\"ignore\") as f:\n",
        "    lines = f.read().split(\"\\n\")\n",
        "    faq_questions = []\n",
        "    for line in lines:\n",
        "        data = line.split(\"\\n\")[0]\n",
        "        faq_questions.append(data)"
      ],
      "execution_count": null,
      "outputs": []
    },
    {
      "cell_type": "code",
      "metadata": {
        "id": "Qryg8-OtPzJL"
      },
      "source": [
        "with codecs.open(\"/content/drive/MyDrive/faq_ans.txt\", \"rb\", encoding=\"utf-8\", errors=\"ignore\") as f:\n",
        "    lines = f.read().split(\"\\n\")\n",
        "    faq_answers = []\n",
        "    for line in lines:\n",
        "        data = line.split(\"\\n\")[0]\n",
        "        faq_answers.append(data)"
      ],
      "execution_count": null,
      "outputs": []
    },
    {
      "cell_type": "code",
      "metadata": {
        "id": "j-wg-pqm4vYk"
      },
      "source": [
        "import tensorflow as tf"
      ],
      "execution_count": null,
      "outputs": []
    },
    {
      "cell_type": "code",
      "metadata": {
        "id": "mztrC3TL5QgE"
      },
      "source": [
        "import tensorflow_datasets as tfds"
      ],
      "execution_count": null,
      "outputs": []
    },
    {
      "cell_type": "code",
      "metadata": {
        "id": "HXPd0Brc5E7n"
      },
      "source": [
        "tokenizer = tfds.deprecated.text.SubwordTextEncoder.build_from_corpus(\n",
        "    short_questions + short_answers + faq_questions + faq_answers, target_vocab_size=2000)\n",
        "\n",
        "# Define start and end token to indicate the start and end of a sentence\n",
        "START_TOKEN, END_TOKEN = [tokenizer.vocab_size], [tokenizer.vocab_size + 1]\n",
        "\n",
        "# Vocabulary size plus start and end token\n",
        "VOCAB_SIZE = tokenizer.vocab_size + 2"
      ],
      "execution_count": null,
      "outputs": []
    },
    {
      "cell_type": "code",
      "metadata": {
        "colab": {
          "base_uri": "https://localhost:8080/"
        },
        "id": "kHewr7QA5hOs",
        "outputId": "0b9f01b8-150f-42a9-e06f-2b8f825c7c8c"
      },
      "source": [
        "print(tokenizer.encode(short_questions[20]))"
      ],
      "execution_count": null,
      "outputs": [
        {
          "output_type": "stream",
          "text": [
            "[423, 80, 37, 964, 51, 66, 24, 7, 329, 761]\n"
          ],
          "name": "stdout"
        }
      ]
    },
    {
      "cell_type": "code",
      "metadata": {
        "id": "MdD6Chf17mwN"
      },
      "source": [
        "MAX_LENGTH = 16"
      ],
      "execution_count": null,
      "outputs": []
    },
    {
      "cell_type": "code",
      "metadata": {
        "id": "FL_uHrnQ7TDF"
      },
      "source": [
        "def tokenize_and_filter(inputs, outputs):\n",
        "  tokenized_inputs, tokenized_outputs = [], []\n",
        "  \n",
        "  for (sentence1, sentence2) in zip(inputs, outputs):\n",
        "    # tokenize sentence\n",
        "    sentence1 = START_TOKEN + tokenizer.encode(sentence1) + END_TOKEN\n",
        "    sentence2 = START_TOKEN + tokenizer.encode(sentence2) + END_TOKEN\n",
        "    # check tokenized sentence max length\n",
        "    if len(sentence1) <=MAX_LENGTH  and len(sentence2) <= MAX_LENGTH:\n",
        "      tokenized_inputs.append(sentence1)\n",
        "      tokenized_outputs.append(sentence2)\n",
        "  \n",
        "  # pad tokenized sentences\n",
        "  tokenized_inputs = tf.keras.preprocessing.sequence.pad_sequences(\n",
        "      tokenized_inputs, maxlen=MAX_LENGTH, padding='post')\n",
        "  tokenized_outputs = tf.keras.preprocessing.sequence.pad_sequences(\n",
        "      tokenized_outputs, maxlen=MAX_LENGTH, padding='post')\n",
        "  \n",
        "  return tokenized_inputs, tokenized_outputs\n"
      ],
      "execution_count": null,
      "outputs": []
    },
    {
      "cell_type": "code",
      "metadata": {
        "id": "K70yvneEQQHS"
      },
      "source": [
        "questions, answers = tokenize_and_filter(short_questions, short_answers)"
      ],
      "execution_count": null,
      "outputs": []
    },
    {
      "cell_type": "code",
      "metadata": {
        "colab": {
          "base_uri": "https://localhost:8080/"
        },
        "id": "TWIG91hg7hSW",
        "outputId": "a48ad135-76c5-4974-e127-8aae271bcb24"
      },
      "source": [
        "print(VOCAB_SIZE, len(questions), len(answers))"
      ],
      "execution_count": null,
      "outputs": [
        {
          "output_type": "stream",
          "text": [
            "1999 14528 14528\n"
          ],
          "name": "stdout"
        }
      ]
    },
    {
      "cell_type": "code",
      "metadata": {
        "id": "SC_m2jOa7u8C"
      },
      "source": [
        "NUM_LAYERS = 2\n",
        "D_MODEL = 256\n",
        "NUM_HEADS = 8\n",
        "UNITS = 512\n",
        "DROPOUT = 0.1"
      ],
      "execution_count": null,
      "outputs": []
    },
    {
      "cell_type": "code",
      "metadata": {
        "id": "8SqRr_Ir8I6a"
      },
      "source": [
        "dataset = tf.data.Dataset.from_tensor_slices((\n",
        "    {\n",
        "        'inputs': questions,\n",
        "        'dec_inputs': answers[:, :-1]\n",
        "    },\n",
        "    {\n",
        "        'outputs': answers[:, 1:]\n",
        "    },\n",
        "))\n",
        "\n",
        "dataset = dataset.cache()\n",
        "dataset = dataset.shuffle(1000)\n",
        "dataset = dataset.batch(16)\n",
        "dataset = dataset.prefetch(1)"
      ],
      "execution_count": null,
      "outputs": []
    },
    {
      "cell_type": "markdown",
      "metadata": {
        "id": "piW09AsL8THG"
      },
      "source": [
        "## Transformer Model"
      ]
    },
    {
      "cell_type": "code",
      "metadata": {
        "id": "73uNI7cE8LmR"
      },
      "source": [
        "def create_padding_mask(x):\n",
        "  mask = tf.cast(tf.math.equal(x, 0), tf.float32)\n",
        "  # (batch_size, 1, 1, sequence length)\n",
        "  return mask[:, tf.newaxis, tf.newaxis, :] "
      ],
      "execution_count": null,
      "outputs": []
    },
    {
      "cell_type": "code",
      "metadata": {
        "id": "Hrf6bI438WKT"
      },
      "source": [
        "def create_look_ahead_mask(x):\n",
        "  seq_len = tf.shape(x)[1]\n",
        "  look_ahead_mask = 1 - tf.linalg.band_part(tf.ones((seq_len, seq_len)), -1, 0)\n",
        "  padding_mask = create_padding_mask(x)\n",
        "  return tf.maximum(look_ahead_mask, padding_mask)"
      ],
      "execution_count": null,
      "outputs": []
    },
    {
      "cell_type": "code",
      "metadata": {
        "id": "HGbhaJRw8YD4"
      },
      "source": [
        "def scaled_dot_product_attention(query, key, value, mask):\n",
        "  \"\"\"Calculate the attention weights. \"\"\"\n",
        "  matmul_qk = tf.matmul(query, key, transpose_b=True)\n",
        "\n",
        "  # scale matmul_qk\n",
        "  depth = tf.cast(tf.shape(key)[-1], tf.float32)\n",
        "  logits = matmul_qk / tf.math.sqrt(depth)\n",
        "\n",
        "  # add the mask to zero out padding tokens\n",
        "  if mask is not None:\n",
        "    logits += (mask * -1e9)\n",
        "\n",
        "  # softmax is normalized on the last axis (seq_len_k)\n",
        "  attention_weights = tf.nn.softmax(logits, axis=-1)\n",
        "\n",
        "  output = tf.matmul(attention_weights, value)\n",
        "\n",
        "  return output"
      ],
      "execution_count": null,
      "outputs": []
    },
    {
      "cell_type": "code",
      "metadata": {
        "id": "vVDxyCXS8auH"
      },
      "source": [
        "class MultiHeadAttention(tf.keras.layers.Layer):\n",
        "\n",
        "  def __init__(self, d_model, num_heads, name=\"multi_head_attention\"):\n",
        "    super(MultiHeadAttention, self).__init__(name=name)\n",
        "    self.num_heads = num_heads\n",
        "    self.d_model = d_model\n",
        "\n",
        "    assert d_model % self.num_heads == 0\n",
        "\n",
        "    self.depth = d_model // self.num_heads\n",
        "\n",
        "    self.query_dense = tf.keras.layers.Dense(units=d_model)\n",
        "    self.key_dense = tf.keras.layers.Dense(units=d_model)\n",
        "    self.value_dense = tf.keras.layers.Dense(units=d_model)\n",
        "\n",
        "    self.dense = tf.keras.layers.Dense(units=d_model)\n",
        "\n",
        "  def split_heads(self, inputs, batch_size):\n",
        "    inputs = tf.reshape(\n",
        "        inputs, shape=(batch_size, -1, self.num_heads, self.depth))\n",
        "    return tf.transpose(inputs, perm=[0, 2, 1, 3])\n",
        "\n",
        "  def call(self, inputs):\n",
        "    query, key, value, mask = inputs['query'], inputs['key'], inputs[\n",
        "        'value'], inputs['mask']\n",
        "    batch_size = tf.shape(query)[0]\n",
        "\n",
        "    # linear layers\n",
        "    query = self.query_dense(query)\n",
        "    key = self.key_dense(key)\n",
        "    value = self.value_dense(value)\n",
        "\n",
        "    # split heads\n",
        "    query = self.split_heads(query, batch_size)\n",
        "    key = self.split_heads(key, batch_size)\n",
        "    value = self.split_heads(value, batch_size)\n",
        "\n",
        "    # scaled dot-product attention\n",
        "    scaled_attention = scaled_dot_product_attention(query, key, value, mask)\n",
        "\n",
        "    scaled_attention = tf.transpose(scaled_attention, perm=[0, 2, 1, 3])\n",
        "\n",
        "    # concatenation of heads\n",
        "    concat_attention = tf.reshape(scaled_attention,\n",
        "                                  (batch_size, -1, self.d_model))\n",
        "\n",
        "    # final linear layer\n",
        "    outputs = self.dense(concat_attention)\n",
        "\n",
        "    return outputs"
      ],
      "execution_count": null,
      "outputs": []
    },
    {
      "cell_type": "code",
      "metadata": {
        "id": "QKMoKIBw8cvs"
      },
      "source": [
        "class PositionalEncoding(tf.keras.layers.Layer):\n",
        "\n",
        "  def __init__(self, position, d_model):\n",
        "    super(PositionalEncoding, self).__init__()\n",
        "    self.pos_encoding = self.positional_encoding(position, d_model)\n",
        "\n",
        "  def get_angles(self, position, i, d_model):\n",
        "    angles = 1 / tf.pow(10000, (2 * (i // 2)) / tf.cast(d_model, tf.float32))\n",
        "    return position * angles\n",
        "\n",
        "  def positional_encoding(self, position, d_model):\n",
        "    angle_rads = self.get_angles(\n",
        "        position=tf.range(position, dtype=tf.float32)[:, tf.newaxis],\n",
        "        i=tf.range(d_model, dtype=tf.float32)[tf.newaxis, :],\n",
        "        d_model=d_model)\n",
        "    # apply sin to even index in the array\n",
        "    sines = tf.math.sin(angle_rads[:, 0::2])\n",
        "    # apply cos to odd index in the array\n",
        "    cosines = tf.math.cos(angle_rads[:, 1::2])\n",
        "\n",
        "    pos_encoding = tf.concat([sines, cosines], axis=-1)\n",
        "    pos_encoding = pos_encoding[tf.newaxis, ...]\n",
        "    return tf.cast(pos_encoding, tf.float32)\n",
        "\n",
        "  def call(self, inputs):\n",
        "    return inputs + self.pos_encoding[:, :tf.shape(inputs)[1], :]"
      ],
      "execution_count": null,
      "outputs": []
    },
    {
      "cell_type": "code",
      "metadata": {
        "id": "oPhrNhq88w31"
      },
      "source": [
        "def encoder_layer(units, d_model, num_heads, dropout, name=\"encoder_layer\"):\n",
        "  inputs = tf.keras.Input(shape=(None, d_model), name=\"inputs\")\n",
        "  padding_mask = tf.keras.Input(shape=(1, 1, None), name=\"padding_mask\")\n",
        "\n",
        "  attention = MultiHeadAttention(\n",
        "      d_model, num_heads, name=\"attention\")({\n",
        "          'query': inputs,\n",
        "          'key': inputs,\n",
        "          'value': inputs,\n",
        "          'mask': padding_mask\n",
        "      })\n",
        "  attention = tf.keras.layers.Dropout(rate=dropout)(attention)\n",
        "  attention = tf.keras.layers.LayerNormalization(\n",
        "      epsilon=1e-6)(inputs + attention)\n",
        "\n",
        "  outputs = tf.keras.layers.Dense(units=units, activation='relu')(attention)\n",
        "  outputs = tf.keras.layers.Dense(units=d_model)(outputs)\n",
        "  outputs = tf.keras.layers.Dropout(rate=dropout)(outputs)\n",
        "  outputs = tf.keras.layers.LayerNormalization(\n",
        "      epsilon=1e-6)(attention + outputs)\n",
        "\n",
        "  return tf.keras.Model(\n",
        "      inputs=[inputs, padding_mask], outputs=outputs, name=name)"
      ],
      "execution_count": null,
      "outputs": []
    },
    {
      "cell_type": "code",
      "metadata": {
        "id": "eBBeAbdA8y8E"
      },
      "source": [
        "def encoder(vocab_size,\n",
        "            num_layers,\n",
        "            units,\n",
        "            d_model,\n",
        "            num_heads,\n",
        "            dropout,\n",
        "            name=\"encoder\"):\n",
        "  inputs = tf.keras.Input(shape=(None,), name=\"inputs\")\n",
        "  padding_mask = tf.keras.Input(shape=(1, 1, None), name=\"padding_mask\")\n",
        "\n",
        "  embeddings = tf.keras.layers.Embedding(vocab_size, d_model)(inputs)\n",
        "  embeddings *= tf.math.sqrt(tf.cast(d_model, tf.float32))\n",
        "  embeddings = PositionalEncoding(vocab_size, d_model)(embeddings)\n",
        "\n",
        "  outputs = tf.keras.layers.Dropout(rate=dropout)(embeddings)\n",
        "  for i in range(int(num_layers)):\n",
        "    outputs = encoder_layer(\n",
        "        units=units,\n",
        "        d_model=d_model,\n",
        "        num_heads=num_heads,\n",
        "        dropout=dropout,\n",
        "        name=\"encoder_layer_{}\".format(i),\n",
        "    )([outputs, padding_mask])\n",
        "\n",
        "  return tf.keras.Model(\n",
        "      inputs=[inputs, padding_mask], outputs=outputs, name=name)"
      ],
      "execution_count": null,
      "outputs": []
    },
    {
      "cell_type": "code",
      "metadata": {
        "id": "Jn8eJI868031"
      },
      "source": [
        "def decoder_layer(units, d_model, num_heads, dropout, name=\"decoder_layer\"):\n",
        "  inputs = tf.keras.Input(shape=(None, d_model), name=\"inputs\")\n",
        "  enc_outputs = tf.keras.Input(shape=(None, d_model), name=\"encoder_outputs\")\n",
        "  look_ahead_mask = tf.keras.Input(\n",
        "      shape=(1, None, None), name=\"look_ahead_mask\")\n",
        "  padding_mask = tf.keras.Input(shape=(1, 1, None), name='padding_mask')\n",
        "\n",
        "  attention1 = MultiHeadAttention(\n",
        "      d_model, num_heads, name=\"attention_1\")(inputs={\n",
        "          'query': inputs,\n",
        "          'key': inputs,\n",
        "          'value': inputs,\n",
        "          'mask': look_ahead_mask\n",
        "      })\n",
        "  attention1 = tf.keras.layers.LayerNormalization(\n",
        "      epsilon=1e-6)(attention1 + inputs)\n",
        "\n",
        "  attention2 = MultiHeadAttention(\n",
        "      d_model, num_heads, name=\"attention_2\")(inputs={\n",
        "          'query': attention1,\n",
        "          'key': enc_outputs,\n",
        "          'value': enc_outputs,\n",
        "          'mask': padding_mask\n",
        "      })\n",
        "  attention2 = tf.keras.layers.Dropout(rate=dropout)(attention2)\n",
        "  attention2 = tf.keras.layers.LayerNormalization(\n",
        "      epsilon=1e-6)(attention2 + attention1)\n",
        "\n",
        "  outputs = tf.keras.layers.Dense(units=units, activation='relu')(attention2)\n",
        "  outputs = tf.keras.layers.Dense(units=d_model)(outputs)\n",
        "  outputs = tf.keras.layers.Dropout(rate=dropout)(outputs)\n",
        "  outputs = tf.keras.layers.LayerNormalization(\n",
        "      epsilon=1e-6)(outputs + attention2)\n",
        "\n",
        "  return tf.keras.Model(\n",
        "      inputs=[inputs, enc_outputs, look_ahead_mask, padding_mask],\n",
        "      outputs=outputs,\n",
        "      name=name)"
      ],
      "execution_count": null,
      "outputs": []
    },
    {
      "cell_type": "code",
      "metadata": {
        "id": "7NkU-bgZ85Pb"
      },
      "source": [
        "def decoder(vocab_size,\n",
        "            num_layers,\n",
        "            units,\n",
        "            d_model,\n",
        "            num_heads,\n",
        "            dropout,\n",
        "            name='decoder'):\n",
        "  inputs = tf.keras.Input(shape=(None,), name='inputs')\n",
        "  enc_outputs = tf.keras.Input(shape=(None, d_model), name='encoder_outputs')\n",
        "  look_ahead_mask = tf.keras.Input(\n",
        "      shape=(1, None, None), name='look_ahead_mask')\n",
        "  padding_mask = tf.keras.Input(shape=(1, 1, None), name='padding_mask')\n",
        "  \n",
        "  embeddings = tf.keras.layers.Embedding(vocab_size, d_model)(inputs)\n",
        "  embeddings *= tf.math.sqrt(tf.cast(d_model, tf.float32))\n",
        "  embeddings = PositionalEncoding(vocab_size, d_model)(embeddings)\n",
        "\n",
        "  outputs = tf.keras.layers.Dropout(rate=dropout)(embeddings)\n",
        "\n",
        "  for i in range(int(num_layers)):\n",
        "    outputs = decoder_layer(\n",
        "        units=units,\n",
        "        d_model=d_model,\n",
        "        num_heads=num_heads,\n",
        "        dropout=dropout,\n",
        "        name='decoder_layer_{}'.format(i),\n",
        "    )(inputs=[outputs, enc_outputs, look_ahead_mask, padding_mask])\n",
        "\n",
        "  return tf.keras.Model(\n",
        "      inputs=[inputs, enc_outputs, look_ahead_mask, padding_mask],\n",
        "      outputs=outputs,\n",
        "      name=name)"
      ],
      "execution_count": null,
      "outputs": []
    },
    {
      "cell_type": "code",
      "metadata": {
        "id": "U1t_gL6Q87rx"
      },
      "source": [
        "def transformer(vocab_size,\n",
        "                num_layers,\n",
        "                units,\n",
        "                d_model,\n",
        "                num_heads,\n",
        "                dropout,\n",
        "                name=\"transformer\"):\n",
        "  inputs = tf.keras.Input(shape=(None,), name=\"inputs\")\n",
        "  dec_inputs = tf.keras.Input(shape=(None,), name=\"dec_inputs\")\n",
        "\n",
        "  enc_padding_mask = tf.keras.layers.Lambda(\n",
        "      create_padding_mask, output_shape=(1, 1, None),\n",
        "      name='enc_padding_mask')(inputs)\n",
        "  # mask the future tokens for decoder inputs at the 1st attention block\n",
        "  look_ahead_mask = tf.keras.layers.Lambda(\n",
        "      create_look_ahead_mask,\n",
        "      output_shape=(1, None, None),\n",
        "      name='look_ahead_mask')(dec_inputs)\n",
        "  # mask the encoder outputs for the 2nd attention block\n",
        "  dec_padding_mask = tf.keras.layers.Lambda(\n",
        "      create_padding_mask, output_shape=(1, 1, None),\n",
        "      name='dec_padding_mask')(inputs)\n",
        "\n",
        "  enc_outputs = encoder(\n",
        "      vocab_size=vocab_size,\n",
        "      num_layers=num_layers,\n",
        "      units=units,\n",
        "      d_model=d_model,\n",
        "      num_heads=num_heads,\n",
        "      dropout=dropout,\n",
        "  )(inputs=[inputs, enc_padding_mask])\n",
        "\n",
        "  dec_outputs = decoder(\n",
        "      vocab_size=vocab_size,\n",
        "      num_layers=num_layers,\n",
        "      units=units,\n",
        "      d_model=d_model,\n",
        "      num_heads=num_heads,\n",
        "      dropout=dropout,\n",
        "  )(inputs=[dec_inputs, enc_outputs, look_ahead_mask, dec_padding_mask])\n",
        "\n",
        "  outputs = tf.keras.layers.Dense(units=vocab_size, name=\"outputs\")(dec_outputs)\n",
        "\n",
        "  return tf.keras.Model(inputs=[inputs, dec_inputs], outputs=outputs, name=name)"
      ],
      "execution_count": null,
      "outputs": []
    },
    {
      "cell_type": "code",
      "metadata": {
        "id": "vHKMGAgK89tS"
      },
      "source": [
        "def loss_function(y_true, y_pred):\n",
        "  y_true = tf.reshape(y_true, shape=(-1, MAX_LENGTH - 1))\n",
        "  \n",
        "  loss = tf.keras.losses.SparseCategoricalCrossentropy(\n",
        "      from_logits=True, reduction='none')(y_true, y_pred)\n",
        "\n",
        "  mask = tf.cast(tf.not_equal(y_true, 0), tf.float32)\n",
        "  loss = tf.multiply(loss, mask)\n",
        "\n",
        "  return tf.reduce_mean(loss)"
      ],
      "execution_count": null,
      "outputs": []
    },
    {
      "cell_type": "code",
      "metadata": {
        "id": "1KwlMIqC8_my"
      },
      "source": [
        "class CustomSchedule(tf.keras.optimizers.schedules.LearningRateSchedule):\n",
        "\n",
        "  def __init__(self, d_model, warmup_steps=4000):\n",
        "    super(CustomSchedule, self).__init__()\n",
        "\n",
        "    self.d_model = d_model\n",
        "    self.d_model = tf.cast(self.d_model, tf.float32)\n",
        "\n",
        "    self.warmup_steps = warmup_steps\n",
        "\n",
        "  def __call__(self, step):\n",
        "    arg1 = tf.math.rsqrt(step)\n",
        "    arg2 = step * (self.warmup_steps**-1.5)\n",
        "\n",
        "    return tf.math.rsqrt(self.d_model) * tf.math.minimum(arg1, arg2)"
      ],
      "execution_count": null,
      "outputs": []
    },
    {
      "cell_type": "code",
      "metadata": {
        "id": "mtsGF73y9Bwo"
      },
      "source": [
        "tf.keras.backend.clear_session()\n",
        "\n",
        "learning_rate = CustomSchedule(D_MODEL)\n",
        "\n",
        "optimizer = tf.keras.optimizers.Adam(\n",
        "    learning_rate, beta_1=0.9, beta_2=0.98, epsilon=1e-9)\n",
        "\n",
        "def accuracy(y_true, y_pred):\n",
        "  # ensure labels have shape (batch_size, MAX_LENGTH - 1)\n",
        "  y_true = tf.reshape(y_true, shape=(-1, MAX_LENGTH - 1))\n",
        "  return tf.keras.metrics.sparse_categorical_accuracy(y_true, y_pred)"
      ],
      "execution_count": null,
      "outputs": []
    },
    {
      "cell_type": "code",
      "metadata": {
        "colab": {
          "base_uri": "https://localhost:8080/"
        },
        "id": "URElL0hf9DvS",
        "outputId": "007f44c1-bf11-47c9-c7f1-893f58acdd81"
      },
      "source": [
        "model = transformer(\n",
        "      vocab_size=VOCAB_SIZE,\n",
        "      num_layers=NUM_LAYERS,\n",
        "      units=UNITS,\n",
        "      d_model=D_MODEL,\n",
        "      num_heads=NUM_HEADS,\n",
        "      dropout=DROPOUT)\n",
        "model.compile(optimizer=optimizer, loss=loss_function, metrics=[accuracy])\n",
        "\n",
        "model.summary()"
      ],
      "execution_count": null,
      "outputs": [
        {
          "output_type": "stream",
          "text": [
            "Model: \"transformer\"\n",
            "__________________________________________________________________________________________________\n",
            "Layer (type)                    Output Shape         Param #     Connected to                     \n",
            "==================================================================================================\n",
            "inputs (InputLayer)             [(None, None)]       0                                            \n",
            "__________________________________________________________________________________________________\n",
            "dec_inputs (InputLayer)         [(None, None)]       0                                            \n",
            "__________________________________________________________________________________________________\n",
            "enc_padding_mask (Lambda)       (None, 1, 1, None)   0           inputs[0][0]                     \n",
            "__________________________________________________________________________________________________\n",
            "encoder (Functional)            (None, None, 256)    1565952     inputs[0][0]                     \n",
            "                                                                 enc_padding_mask[0][0]           \n",
            "__________________________________________________________________________________________________\n",
            "look_ahead_mask (Lambda)        (None, 1, None, None 0           dec_inputs[0][0]                 \n",
            "__________________________________________________________________________________________________\n",
            "dec_padding_mask (Lambda)       (None, 1, 1, None)   0           inputs[0][0]                     \n",
            "__________________________________________________________________________________________________\n",
            "decoder (Functional)            (None, None, 256)    2093312     dec_inputs[0][0]                 \n",
            "                                                                 encoder[0][0]                    \n",
            "                                                                 look_ahead_mask[0][0]            \n",
            "                                                                 dec_padding_mask[0][0]           \n",
            "__________________________________________________________________________________________________\n",
            "outputs (Dense)                 (None, None, 1999)   513743      decoder[0][0]                    \n",
            "==================================================================================================\n",
            "Total params: 4,173,007\n",
            "Trainable params: 4,173,007\n",
            "Non-trainable params: 0\n",
            "__________________________________________________________________________________________________\n"
          ],
          "name": "stdout"
        }
      ]
    },
    {
      "cell_type": "code",
      "metadata": {
        "colab": {
          "base_uri": "https://localhost:8080/"
        },
        "id": "dNdQ_Yqj9Fyr",
        "outputId": "2cf1db13-9119-4fae-d025-7461db684922"
      },
      "source": [
        "model.fit(dataset, epochs=40)"
      ],
      "execution_count": null,
      "outputs": [
        {
          "output_type": "stream",
          "text": [
            "Epoch 1/40\n",
            "908/908 [==============================] - 36s 30ms/step - loss: 3.1789 - accuracy: 0.0891\n",
            "Epoch 2/40\n",
            "908/908 [==============================] - 27s 30ms/step - loss: 2.5927 - accuracy: 0.1255\n",
            "Epoch 3/40\n",
            "908/908 [==============================] - 27s 30ms/step - loss: 2.3974 - accuracy: 0.1391\n",
            "Epoch 4/40\n",
            "908/908 [==============================] - 27s 30ms/step - loss: 2.2794 - accuracy: 0.1474\n",
            "Epoch 5/40\n",
            "908/908 [==============================] - 27s 30ms/step - loss: 2.1965 - accuracy: 0.1531\n",
            "Epoch 6/40\n",
            "908/908 [==============================] - 27s 30ms/step - loss: 2.0859 - accuracy: 0.1609\n",
            "Epoch 7/40\n",
            "908/908 [==============================] - 27s 30ms/step - loss: 1.9740 - accuracy: 0.1712\n",
            "Epoch 8/40\n",
            "908/908 [==============================] - 27s 30ms/step - loss: 1.8692 - accuracy: 0.1805\n",
            "Epoch 9/40\n",
            "908/908 [==============================] - 27s 30ms/step - loss: 1.7709 - accuracy: 0.1915\n",
            "Epoch 10/40\n",
            "908/908 [==============================] - 27s 30ms/step - loss: 1.6805 - accuracy: 0.2030\n",
            "Epoch 11/40\n",
            "908/908 [==============================] - 27s 30ms/step - loss: 1.5967 - accuracy: 0.2146\n",
            "Epoch 12/40\n",
            "908/908 [==============================] - 27s 30ms/step - loss: 1.5157 - accuracy: 0.2272\n",
            "Epoch 13/40\n",
            "908/908 [==============================] - 28s 31ms/step - loss: 1.4468 - accuracy: 0.2384\n",
            "Epoch 14/40\n",
            "908/908 [==============================] - 28s 31ms/step - loss: 1.3839 - accuracy: 0.2482\n",
            "Epoch 15/40\n",
            "908/908 [==============================] - 27s 30ms/step - loss: 1.3262 - accuracy: 0.2607\n",
            "Epoch 16/40\n",
            "908/908 [==============================] - 27s 30ms/step - loss: 1.2758 - accuracy: 0.2704\n",
            "Epoch 17/40\n",
            "908/908 [==============================] - 28s 30ms/step - loss: 1.2322 - accuracy: 0.2783\n",
            "Epoch 18/40\n",
            "908/908 [==============================] - 28s 30ms/step - loss: 1.1902 - accuracy: 0.2876\n",
            "Epoch 19/40\n",
            "908/908 [==============================] - 27s 30ms/step - loss: 1.1537 - accuracy: 0.2946\n",
            "Epoch 20/40\n",
            "908/908 [==============================] - 27s 30ms/step - loss: 1.1187 - accuracy: 0.3028\n",
            "Epoch 21/40\n",
            "908/908 [==============================] - 27s 30ms/step - loss: 1.0897 - accuracy: 0.3087\n",
            "Epoch 22/40\n",
            "908/908 [==============================] - 27s 30ms/step - loss: 1.0621 - accuracy: 0.3154\n",
            "Epoch 23/40\n",
            "908/908 [==============================] - 27s 30ms/step - loss: 1.0395 - accuracy: 0.3198\n",
            "Epoch 24/40\n",
            "908/908 [==============================] - 27s 30ms/step - loss: 1.0171 - accuracy: 0.3252\n",
            "Epoch 25/40\n",
            "908/908 [==============================] - 27s 30ms/step - loss: 0.9988 - accuracy: 0.3298\n",
            "Epoch 26/40\n",
            "908/908 [==============================] - 27s 30ms/step - loss: 0.9814 - accuracy: 0.3339\n",
            "Epoch 27/40\n",
            "908/908 [==============================] - 27s 30ms/step - loss: 0.9603 - accuracy: 0.3387\n",
            "Epoch 28/40\n",
            "908/908 [==============================] - 27s 30ms/step - loss: 0.9486 - accuracy: 0.3409\n",
            "Epoch 29/40\n",
            "908/908 [==============================] - 28s 31ms/step - loss: 0.9333 - accuracy: 0.3442\n",
            "Epoch 30/40\n",
            "908/908 [==============================] - 28s 31ms/step - loss: 0.9200 - accuracy: 0.3475\n",
            "Epoch 31/40\n",
            "908/908 [==============================] - 28s 31ms/step - loss: 0.9077 - accuracy: 0.3507\n",
            "Epoch 32/40\n",
            "908/908 [==============================] - 28s 31ms/step - loss: 0.8965 - accuracy: 0.3521\n",
            "Epoch 33/40\n",
            "908/908 [==============================] - 27s 30ms/step - loss: 0.8863 - accuracy: 0.3555\n",
            "Epoch 34/40\n",
            "908/908 [==============================] - 27s 30ms/step - loss: 0.8750 - accuracy: 0.3575\n",
            "Epoch 35/40\n",
            "908/908 [==============================] - 27s 30ms/step - loss: 0.8647 - accuracy: 0.3603\n",
            "Epoch 36/40\n",
            "908/908 [==============================] - 27s 30ms/step - loss: 0.8560 - accuracy: 0.3621\n",
            "Epoch 37/40\n",
            "908/908 [==============================] - 27s 30ms/step - loss: 0.8471 - accuracy: 0.3642\n",
            "Epoch 38/40\n",
            "908/908 [==============================] - 28s 30ms/step - loss: 0.8405 - accuracy: 0.3651\n",
            "Epoch 39/40\n",
            "908/908 [==============================] - 27s 30ms/step - loss: 0.8304 - accuracy: 0.3673\n",
            "Epoch 40/40\n",
            "908/908 [==============================] - 27s 29ms/step - loss: 0.8249 - accuracy: 0.3686\n"
          ],
          "name": "stdout"
        },
        {
          "output_type": "execute_result",
          "data": {
            "text/plain": [
              "<tensorflow.python.keras.callbacks.History at 0x7fe1131da510>"
            ]
          },
          "metadata": {
            "tags": []
          },
          "execution_count": 35
        }
      ]
    },
    {
      "cell_type": "code",
      "metadata": {
        "id": "AoPJgnZnI9ef"
      },
      "source": [
        "model.save_weights('transformer_2.0_40epochs.h5')"
      ],
      "execution_count": null,
      "outputs": []
    },
    {
      "cell_type": "markdown",
      "metadata": {
        "id": "qSzvs-8SIqYV"
      },
      "source": [
        "#### Evaluation and Inference"
      ]
    },
    {
      "cell_type": "code",
      "metadata": {
        "id": "UHkCGv8C9WSN"
      },
      "source": [
        "def evaluate(sentence, model):\n",
        "  sentence = clean_text(sentence)\n",
        "\n",
        "  sentence = tf.expand_dims(\n",
        "      START_TOKEN + tokenizer.encode(sentence) + END_TOKEN, axis=0)\n",
        "\n",
        "  output = tf.expand_dims(START_TOKEN, 0)\n",
        "\n",
        "  for i in range(MAX_LENGTH):\n",
        "    predictions = model(inputs=[sentence, output], training=False)\n",
        "\n",
        "    # select the last word from the seq_len dimension\n",
        "    predictions = predictions[:, -1:, :]\n",
        "    predicted_id = tf.cast(tf.argmax(predictions, axis=-1), tf.int32)\n",
        "\n",
        "    # return the result if the predicted_id is equal to the end token\n",
        "    if tf.equal(predicted_id, END_TOKEN[0]):\n",
        "      break\n",
        "\n",
        "    # concatenated the predicted_id to the output which is given to the decoder\n",
        "    # as its input.\n",
        "    output = tf.concat([output, predicted_id], axis=-1)\n",
        "\n",
        "  return tf.squeeze(output, axis=0)"
      ],
      "execution_count": null,
      "outputs": []
    },
    {
      "cell_type": "code",
      "metadata": {
        "id": "grGsFdQaI3pG"
      },
      "source": [
        "def predict(sentence,model):\n",
        "  prediction = evaluate(sentence,model)\n",
        "\n",
        "  predicted_sentence = tokenizer.decode(\n",
        "      [i for i in prediction if i < tokenizer.vocab_size])\n",
        "\n",
        "  print('Input: {}'.format(sentence))\n",
        "  print('Output: {}'.format(predicted_sentence))\n",
        "\n",
        "  return predicted_sentence"
      ],
      "execution_count": null,
      "outputs": []
    },
    {
      "cell_type": "code",
      "metadata": {
        "id": "emGUmKe4I6aa"
      },
      "source": [
        "loaded_model = transformer(\n",
        "      vocab_size=VOCAB_SIZE,\n",
        "      num_layers=NUM_LAYERS,\n",
        "      units=UNITS,\n",
        "      d_model=D_MODEL,  \n",
        "      num_heads=NUM_HEADS,\n",
        "      dropout=DROPOUT)\n",
        "\n",
        "#import h5py\n",
        "#with h5py.File('saved_weights.h5', 'w') as f:\n",
        "loaded_model.compile(optimizer=optimizer, loss=loss_function, metrics=[accuracy])\n",
        "loaded_model.load_weights('transformer_2.0_40epochs.h5')"
      ],
      "execution_count": null,
      "outputs": []
    },
    {
      "cell_type": "code",
      "metadata": {
        "colab": {
          "base_uri": "https://localhost:8080/"
        },
        "id": "D7ry_wq2JJJ0",
        "outputId": "e01234b1-3b51-4151-ffad-53f3ce109a06"
      },
      "source": [
        "output = predict('Hello', loaded_model)"
      ],
      "execution_count": null,
      "outputs": [
        {
          "output_type": "stream",
          "text": [
            "Input: Hello\n",
            "Output: good day\n"
          ],
          "name": "stdout"
        }
      ]
    },
    {
      "cell_type": "code",
      "metadata": {
        "colab": {
          "base_uri": "https://localhost:8080/"
        },
        "id": "cYtZjYE5UKuf",
        "outputId": "9041fd9e-d591-44b8-8f65-8ad37c3fbe4b"
      },
      "source": [
        "sentence = 'Hello there'\n",
        "for _ in range(5):\n",
        "  sentence = predict(sentence, loaded_model)\n",
        "  print('')"
      ],
      "execution_count": null,
      "outputs": [
        {
          "output_type": "stream",
          "text": [
            "Input: Hello there\n",
            "Output: hello hello maria\n",
            "\n",
            "Input: hello hello maria\n",
            "Output: it is a calder\n",
            "\n",
            "Input: it is a calder\n",
            "Output: you are not a bitch\n",
            "\n",
            "Input: you are not a bitch\n",
            "Output: i am not sure that he is ffing at all\n",
            "\n",
            "Input: i am not sure that he is ffing at all\n",
            "Output: you are a moron you know that\n",
            "\n"
          ],
          "name": "stdout"
        }
      ]
    },
    {
      "cell_type": "markdown",
      "metadata": {
        "id": "slx1sbuLRASE"
      },
      "source": [
        "## Fine Tuning"
      ]
    },
    {
      "cell_type": "code",
      "metadata": {
        "id": "gboVDj-JRNgR"
      },
      "source": [
        "faqs, ans = tokenize_and_filter(faq_questions, faq_answers)"
      ],
      "execution_count": null,
      "outputs": []
    },
    {
      "cell_type": "code",
      "metadata": {
        "id": "jrq4MDBvaNCS"
      },
      "source": [
        "dataset2 = tf.data.Dataset.from_tensor_slices((\n",
        "    {\n",
        "        'inputs': faqs,\n",
        "        'dec_inputs': ans[:, :-1]\n",
        "    },\n",
        "    {\n",
        "        'outputs': ans[:, 1:]\n",
        "    },\n",
        "))\n",
        "\n",
        "dataset2 = dataset2.cache()\n",
        "dataset2 = dataset2.shuffle(5)\n",
        "dataset2 = dataset2.batch(1)\n",
        "dataset2 = dataset2.prefetch(1)"
      ],
      "execution_count": null,
      "outputs": []
    },
    {
      "cell_type": "code",
      "metadata": {
        "colab": {
          "base_uri": "https://localhost:8080/"
        },
        "id": "qSABd9GURZAq",
        "outputId": "3e25f640-ef57-4d83-9b63-b04a64ecfda0"
      },
      "source": [
        "loaded_model.fit(dataset2, epochs=100)"
      ],
      "execution_count": null,
      "outputs": [
        {
          "output_type": "stream",
          "text": [
            "Epoch 1/100\n",
            "8/8 [==============================] - 5s 28ms/step - loss: 4.1442 - accuracy: 0.1333\n",
            "Epoch 2/100\n",
            "8/8 [==============================] - 0s 29ms/step - loss: 1.3056 - accuracy: 0.4333\n",
            "Epoch 3/100\n",
            "8/8 [==============================] - 0s 27ms/step - loss: 0.5043 - accuracy: 0.5500\n",
            "Epoch 4/100\n",
            "8/8 [==============================] - 0s 29ms/step - loss: 0.3172 - accuracy: 0.6000\n",
            "Epoch 5/100\n",
            "8/8 [==============================] - 0s 28ms/step - loss: 0.2198 - accuracy: 0.5833\n",
            "Epoch 6/100\n",
            "8/8 [==============================] - 0s 27ms/step - loss: 0.1691 - accuracy: 0.6167\n",
            "Epoch 7/100\n",
            "8/8 [==============================] - 0s 27ms/step - loss: 0.1362 - accuracy: 0.6083\n",
            "Epoch 8/100\n",
            "8/8 [==============================] - 0s 28ms/step - loss: 0.1296 - accuracy: 0.6250\n",
            "Epoch 9/100\n",
            "8/8 [==============================] - 0s 27ms/step - loss: 0.0704 - accuracy: 0.6333\n",
            "Epoch 10/100\n",
            "8/8 [==============================] - 0s 27ms/step - loss: 0.0504 - accuracy: 0.6333\n",
            "Epoch 11/100\n",
            "8/8 [==============================] - 0s 27ms/step - loss: 0.0342 - accuracy: 0.6500\n",
            "Epoch 12/100\n",
            "8/8 [==============================] - 0s 29ms/step - loss: 0.0225 - accuracy: 0.6500\n",
            "Epoch 13/100\n",
            "8/8 [==============================] - 0s 28ms/step - loss: 0.0270 - accuracy: 0.6417\n",
            "Epoch 14/100\n",
            "8/8 [==============================] - 0s 28ms/step - loss: 0.0101 - accuracy: 0.6500\n",
            "Epoch 15/100\n",
            "8/8 [==============================] - 0s 27ms/step - loss: 0.0096 - accuracy: 0.6500\n",
            "Epoch 16/100\n",
            "8/8 [==============================] - 0s 29ms/step - loss: 0.0071 - accuracy: 0.6500\n",
            "Epoch 17/100\n",
            "8/8 [==============================] - 0s 28ms/step - loss: 0.0075 - accuracy: 0.6500\n",
            "Epoch 18/100\n",
            "8/8 [==============================] - 0s 28ms/step - loss: 0.0048 - accuracy: 0.6500\n",
            "Epoch 19/100\n",
            "8/8 [==============================] - 0s 27ms/step - loss: 0.0067 - accuracy: 0.6500\n",
            "Epoch 20/100\n",
            "8/8 [==============================] - 0s 27ms/step - loss: 0.0029 - accuracy: 0.6500\n",
            "Epoch 21/100\n",
            "8/8 [==============================] - 0s 30ms/step - loss: 0.0021 - accuracy: 0.6500\n",
            "Epoch 22/100\n",
            "8/8 [==============================] - 0s 28ms/step - loss: 0.0024 - accuracy: 0.6500\n",
            "Epoch 23/100\n",
            "8/8 [==============================] - 0s 27ms/step - loss: 0.0019 - accuracy: 0.6500\n",
            "Epoch 24/100\n",
            "8/8 [==============================] - 0s 27ms/step - loss: 0.0019 - accuracy: 0.6500\n",
            "Epoch 25/100\n",
            "8/8 [==============================] - 0s 31ms/step - loss: 0.0013 - accuracy: 0.6500\n",
            "Epoch 26/100\n",
            "8/8 [==============================] - 0s 29ms/step - loss: 0.0019 - accuracy: 0.6500\n",
            "Epoch 27/100\n",
            "8/8 [==============================] - 0s 28ms/step - loss: 0.0019 - accuracy: 0.6500\n",
            "Epoch 28/100\n",
            "8/8 [==============================] - 0s 29ms/step - loss: 7.6478e-04 - accuracy: 0.6500\n",
            "Epoch 29/100\n",
            "8/8 [==============================] - 0s 29ms/step - loss: 0.0011 - accuracy: 0.6500\n",
            "Epoch 30/100\n",
            "8/8 [==============================] - 0s 28ms/step - loss: 9.8929e-04 - accuracy: 0.6500\n",
            "Epoch 31/100\n",
            "8/8 [==============================] - 0s 28ms/step - loss: 0.0066 - accuracy: 0.6500\n",
            "Epoch 32/100\n",
            "8/8 [==============================] - 0s 27ms/step - loss: 0.0012 - accuracy: 0.6500\n",
            "Epoch 33/100\n",
            "8/8 [==============================] - 0s 30ms/step - loss: 0.0477 - accuracy: 0.6417\n",
            "Epoch 34/100\n",
            "8/8 [==============================] - 0s 29ms/step - loss: 0.0014 - accuracy: 0.6500\n",
            "Epoch 35/100\n",
            "8/8 [==============================] - 0s 27ms/step - loss: 0.0108 - accuracy: 0.6417\n",
            "Epoch 36/100\n",
            "8/8 [==============================] - 0s 27ms/step - loss: 0.0102 - accuracy: 0.6417\n",
            "Epoch 37/100\n",
            "8/8 [==============================] - 0s 29ms/step - loss: 0.0279 - accuracy: 0.6417\n",
            "Epoch 38/100\n",
            "8/8 [==============================] - 0s 29ms/step - loss: 0.0106 - accuracy: 0.6417\n",
            "Epoch 39/100\n",
            "8/8 [==============================] - 0s 27ms/step - loss: 8.3862e-04 - accuracy: 0.6500\n",
            "Epoch 40/100\n",
            "8/8 [==============================] - 0s 28ms/step - loss: 0.0096 - accuracy: 0.6417\n",
            "Epoch 41/100\n",
            "8/8 [==============================] - 0s 29ms/step - loss: 0.0017 - accuracy: 0.6500\n",
            "Epoch 42/100\n",
            "8/8 [==============================] - 0s 29ms/step - loss: 0.0301 - accuracy: 0.6417\n",
            "Epoch 43/100\n",
            "8/8 [==============================] - 0s 29ms/step - loss: 0.0058 - accuracy: 0.6500\n",
            "Epoch 44/100\n",
            "8/8 [==============================] - 0s 28ms/step - loss: 0.0353 - accuracy: 0.6417\n",
            "Epoch 45/100\n",
            "8/8 [==============================] - 0s 27ms/step - loss: 0.0146 - accuracy: 0.6417\n",
            "Epoch 46/100\n",
            "8/8 [==============================] - 0s 29ms/step - loss: 0.0071 - accuracy: 0.6500\n",
            "Epoch 47/100\n",
            "8/8 [==============================] - 0s 31ms/step - loss: 0.0011 - accuracy: 0.6500\n",
            "Epoch 48/100\n",
            "8/8 [==============================] - 0s 28ms/step - loss: 9.0644e-04 - accuracy: 0.6500\n",
            "Epoch 49/100\n",
            "8/8 [==============================] - 0s 28ms/step - loss: 0.0059 - accuracy: 0.6500\n",
            "Epoch 50/100\n",
            "8/8 [==============================] - 0s 29ms/step - loss: 3.3515e-04 - accuracy: 0.6500\n",
            "Epoch 51/100\n",
            "8/8 [==============================] - 0s 27ms/step - loss: 9.3477e-04 - accuracy: 0.6500\n",
            "Epoch 52/100\n",
            "8/8 [==============================] - 0s 27ms/step - loss: 8.7924e-04 - accuracy: 0.6500\n",
            "Epoch 53/100\n",
            "8/8 [==============================] - 0s 27ms/step - loss: 3.4927e-04 - accuracy: 0.6500\n",
            "Epoch 54/100\n",
            "8/8 [==============================] - 0s 30ms/step - loss: 8.0634e-04 - accuracy: 0.6500\n",
            "Epoch 55/100\n",
            "8/8 [==============================] - 0s 30ms/step - loss: 4.7556e-04 - accuracy: 0.6500\n",
            "Epoch 56/100\n",
            "8/8 [==============================] - 0s 29ms/step - loss: 7.4645e-04 - accuracy: 0.6500\n",
            "Epoch 57/100\n",
            "8/8 [==============================] - 0s 28ms/step - loss: 1.3268e-04 - accuracy: 0.6500\n",
            "Epoch 58/100\n",
            "8/8 [==============================] - 0s 29ms/step - loss: 1.6083e-04 - accuracy: 0.6500\n",
            "Epoch 59/100\n",
            "8/8 [==============================] - 0s 30ms/step - loss: 4.0335e-04 - accuracy: 0.6500\n",
            "Epoch 60/100\n",
            "8/8 [==============================] - 0s 28ms/step - loss: 3.5008e-04 - accuracy: 0.6500\n",
            "Epoch 61/100\n",
            "8/8 [==============================] - 0s 28ms/step - loss: 6.9652e-04 - accuracy: 0.6500\n",
            "Epoch 62/100\n",
            "8/8 [==============================] - 0s 27ms/step - loss: 1.1794e-04 - accuracy: 0.6500\n",
            "Epoch 63/100\n",
            "8/8 [==============================] - 0s 28ms/step - loss: 1.9045e-04 - accuracy: 0.6500\n",
            "Epoch 64/100\n",
            "8/8 [==============================] - 0s 28ms/step - loss: 1.0133e-04 - accuracy: 0.6500\n",
            "Epoch 65/100\n",
            "8/8 [==============================] - 0s 26ms/step - loss: 3.7231e-04 - accuracy: 0.6500\n",
            "Epoch 66/100\n",
            "8/8 [==============================] - 0s 27ms/step - loss: 1.4387e-04 - accuracy: 0.6500\n",
            "Epoch 67/100\n",
            "8/8 [==============================] - 0s 28ms/step - loss: 7.8005e-05 - accuracy: 0.6500\n",
            "Epoch 68/100\n",
            "8/8 [==============================] - 0s 28ms/step - loss: 5.9444e-05 - accuracy: 0.6500\n",
            "Epoch 69/100\n",
            "8/8 [==============================] - 0s 28ms/step - loss: 1.0441e-04 - accuracy: 0.6500\n",
            "Epoch 70/100\n",
            "8/8 [==============================] - 0s 29ms/step - loss: 4.9267e-05 - accuracy: 0.6500\n",
            "Epoch 71/100\n",
            "8/8 [==============================] - 0s 28ms/step - loss: 2.1124e-04 - accuracy: 0.6500\n",
            "Epoch 72/100\n",
            "8/8 [==============================] - 0s 28ms/step - loss: 4.8578e-05 - accuracy: 0.6500\n",
            "Epoch 73/100\n",
            "8/8 [==============================] - 0s 28ms/step - loss: 3.3562e-05 - accuracy: 0.6500\n",
            "Epoch 74/100\n",
            "8/8 [==============================] - 0s 27ms/step - loss: 3.5075e-04 - accuracy: 0.6500\n",
            "Epoch 75/100\n",
            "8/8 [==============================] - 0s 28ms/step - loss: 3.3448e-05 - accuracy: 0.6500\n",
            "Epoch 76/100\n",
            "8/8 [==============================] - 0s 30ms/step - loss: 0.0058 - accuracy: 0.6500\n",
            "Epoch 77/100\n",
            "8/8 [==============================] - 0s 27ms/step - loss: 2.8787e-04 - accuracy: 0.6500\n",
            "Epoch 78/100\n",
            "8/8 [==============================] - 0s 27ms/step - loss: 0.0127 - accuracy: 0.6417\n",
            "Epoch 79/100\n",
            "8/8 [==============================] - 0s 28ms/step - loss: 0.0077 - accuracy: 0.6417\n",
            "Epoch 80/100\n",
            "8/8 [==============================] - 0s 28ms/step - loss: 0.0172 - accuracy: 0.6417\n",
            "Epoch 81/100\n",
            "8/8 [==============================] - 0s 29ms/step - loss: 0.0043 - accuracy: 0.6500\n",
            "Epoch 82/100\n",
            "8/8 [==============================] - 0s 28ms/step - loss: 7.7020e-04 - accuracy: 0.6500\n",
            "Epoch 83/100\n",
            "8/8 [==============================] - 0s 27ms/step - loss: 0.0287 - accuracy: 0.6417\n",
            "Epoch 84/100\n",
            "8/8 [==============================] - 0s 29ms/step - loss: 0.0287 - accuracy: 0.6417\n",
            "Epoch 85/100\n",
            "8/8 [==============================] - 0s 28ms/step - loss: 0.0016 - accuracy: 0.6500\n",
            "Epoch 86/100\n",
            "8/8 [==============================] - 0s 27ms/step - loss: 0.0010 - accuracy: 0.6500\n",
            "Epoch 87/100\n",
            "8/8 [==============================] - 0s 28ms/step - loss: 9.2170e-05 - accuracy: 0.6500\n",
            "Epoch 88/100\n",
            "8/8 [==============================] - 0s 28ms/step - loss: 3.7061e-05 - accuracy: 0.6500\n",
            "Epoch 89/100\n",
            "8/8 [==============================] - 0s 29ms/step - loss: 3.6458e-05 - accuracy: 0.6500\n",
            "Epoch 90/100\n",
            "8/8 [==============================] - 0s 27ms/step - loss: 2.0847e-05 - accuracy: 0.6500\n",
            "Epoch 91/100\n",
            "8/8 [==============================] - 0s 28ms/step - loss: 1.9105e-04 - accuracy: 0.6500\n",
            "Epoch 92/100\n",
            "8/8 [==============================] - 0s 30ms/step - loss: 1.7469e-04 - accuracy: 0.6500\n",
            "Epoch 93/100\n",
            "8/8 [==============================] - 0s 28ms/step - loss: 2.2266e-05 - accuracy: 0.6500\n",
            "Epoch 94/100\n",
            "8/8 [==============================] - 0s 29ms/step - loss: 1.1443e-04 - accuracy: 0.6500\n",
            "Epoch 95/100\n",
            "8/8 [==============================] - 0s 27ms/step - loss: 1.4522e-05 - accuracy: 0.6500\n",
            "Epoch 96/100\n",
            "8/8 [==============================] - 0s 29ms/step - loss: 3.6656e-05 - accuracy: 0.6500\n",
            "Epoch 97/100\n",
            "8/8 [==============================] - 0s 32ms/step - loss: 3.5434e-05 - accuracy: 0.6500\n",
            "Epoch 98/100\n",
            "8/8 [==============================] - 0s 29ms/step - loss: 9.9246e-06 - accuracy: 0.6500\n",
            "Epoch 99/100\n",
            "8/8 [==============================] - 0s 28ms/step - loss: 2.0903e-05 - accuracy: 0.6500\n",
            "Epoch 100/100\n",
            "8/8 [==============================] - 0s 27ms/step - loss: 2.3786e-05 - accuracy: 0.6500\n"
          ],
          "name": "stdout"
        },
        {
          "output_type": "execute_result",
          "data": {
            "text/plain": [
              "<tensorflow.python.keras.callbacks.History at 0x7fe111b24a50>"
            ]
          },
          "metadata": {
            "tags": []
          },
          "execution_count": 85
        }
      ]
    },
    {
      "cell_type": "code",
      "metadata": {
        "id": "WT879FOXZW2M"
      },
      "source": [
        "model.save_weights('fine_transformer_2.0_40_100epochs.h5')"
      ],
      "execution_count": null,
      "outputs": []
    },
    {
      "cell_type": "code",
      "metadata": {
        "id": "QCYEsjZGZJOC"
      },
      "source": [
        "fine_loaded_model = transformer(\n",
        "      vocab_size=VOCAB_SIZE,\n",
        "      num_layers=NUM_LAYERS,\n",
        "      units=UNITS,\n",
        "      d_model=D_MODEL,  \n",
        "      num_heads=NUM_HEADS,\n",
        "      dropout=DROPOUT)\n",
        "\n",
        "#import h5py\n",
        "#with h5py.File('saved_weights.h5', 'w') as f:\n",
        "fine_loaded_model.compile(optimizer=optimizer, loss=loss_function, metrics=[accuracy])\n",
        "fine_loaded_model.load_weights('fine_transformer_2.0_40_100epochs.h5')"
      ],
      "execution_count": null,
      "outputs": []
    },
    {
      "cell_type": "code",
      "metadata": {
        "colab": {
          "base_uri": "https://localhost:8080/"
        },
        "id": "alVSml1bY9o4",
        "outputId": "4ce1f4f8-fbd7-480a-acfb-27763a56d573"
      },
      "source": [
        "output = predict('my homework partner is not responding', fine_loaded_model)"
      ],
      "execution_count": null,
      "outputs": [
        {
          "output_type": "stream",
          "text": [
            "Input: my homework partner is not responding\n",
            "Output: please post a private message on edstem\n"
          ],
          "name": "stdout"
        }
      ]
    },
    {
      "cell_type": "code",
      "metadata": {
        "colab": {
          "base_uri": "https://localhost:8080/"
        },
        "id": "ItlaAKSeankG",
        "outputId": "c2900cd2-f289-4fe7-a056-828acd7d44d3"
      },
      "source": [
        "output = predict('is presentation a group activity', fine_loaded_model)"
      ],
      "execution_count": null,
      "outputs": [
        {
          "output_type": "stream",
          "text": [
            "Input: is presentation a group activity\n",
            "Output: recording links will be posted on edstem\n"
          ],
          "name": "stdout"
        }
      ]
    },
    {
      "cell_type": "code",
      "metadata": {
        "colab": {
          "base_uri": "https://localhost:8080/"
        },
        "id": "p4KKrjdvbhL0",
        "outputId": "62ab0dc5-34ae-49dc-d49a-6cf2fa308a0f"
      },
      "source": [
        "output = predict('i have a different approach to the exercise why is the autograder still failing me', fine_loaded_model)"
      ],
      "execution_count": null,
      "outputs": [
        {
          "output_type": "stream",
          "text": [
            "Input: i have a different approach to the exercise why is the autograder still failing me\n",
            "Output: recording links will be posted on edstem\n"
          ],
          "name": "stdout"
        }
      ]
    },
    {
      "cell_type": "markdown",
      "metadata": {
        "id": "Kn6YnHNRl3GT"
      },
      "source": [
        "#### Evaluation on test data"
      ]
    },
    {
      "cell_type": "code",
      "metadata": {
        "id": "8mKUON8TaaNL"
      },
      "source": [
        "test = pd.read_csv('/content/drive/MyDrive/test.csv')"
      ],
      "execution_count": null,
      "outputs": []
    },
    {
      "cell_type": "code",
      "metadata": {
        "colab": {
          "base_uri": "https://localhost:8080/",
          "height": 203
        },
        "id": "7c9Ozb9IfQvD",
        "outputId": "ab0775b2-5320-4123-90a4-0ef1d9eab496"
      },
      "source": [
        "test.head()"
      ],
      "execution_count": null,
      "outputs": [
        {
          "output_type": "execute_result",
          "data": {
            "text/html": [
              "<div>\n",
              "<style scoped>\n",
              "    .dataframe tbody tr th:only-of-type {\n",
              "        vertical-align: middle;\n",
              "    }\n",
              "\n",
              "    .dataframe tbody tr th {\n",
              "        vertical-align: top;\n",
              "    }\n",
              "\n",
              "    .dataframe thead th {\n",
              "        text-align: right;\n",
              "    }\n",
              "</style>\n",
              "<table border=\"1\" class=\"dataframe\">\n",
              "  <thead>\n",
              "    <tr style=\"text-align: right;\">\n",
              "      <th></th>\n",
              "      <th>Questions</th>\n",
              "    </tr>\n",
              "  </thead>\n",
              "  <tbody>\n",
              "    <tr>\n",
              "      <th>0</th>\n",
              "      <td>Will the pre-class session be recorded?</td>\n",
              "    </tr>\n",
              "    <tr>\n",
              "      <th>1</th>\n",
              "      <td>What is the deadline for quiz submission?</td>\n",
              "    </tr>\n",
              "    <tr>\n",
              "      <th>2</th>\n",
              "      <td>What is the deadline for exercise submission?</td>\n",
              "    </tr>\n",
              "    <tr>\n",
              "      <th>3</th>\n",
              "      <td>How many hours do I need to complete this course?</td>\n",
              "    </tr>\n",
              "    <tr>\n",
              "      <th>4</th>\n",
              "      <td>Who will grade the exercise?</td>\n",
              "    </tr>\n",
              "  </tbody>\n",
              "</table>\n",
              "</div>"
            ],
            "text/plain": [
              "                                           Questions\n",
              "0            Will the pre-class session be recorded?\n",
              "1          What is the deadline for quiz submission?\n",
              "2      What is the deadline for exercise submission?\n",
              "3  How many hours do I need to complete this course?\n",
              "4                       Who will grade the exercise?"
            ]
          },
          "metadata": {
            "tags": []
          },
          "execution_count": 88
        }
      ]
    },
    {
      "cell_type": "code",
      "metadata": {
        "colab": {
          "base_uri": "https://localhost:8080/",
          "height": 35
        },
        "id": "et1aToz9fc1s",
        "outputId": "418f29f7-707a-46c5-813a-4fbb937d23bf"
      },
      "source": [
        "test.Questions.values[0]"
      ],
      "execution_count": null,
      "outputs": [
        {
          "output_type": "execute_result",
          "data": {
            "application/vnd.google.colaboratory.intrinsic+json": {
              "type": "string"
            },
            "text/plain": [
              "'Will the pre-class session be recorded?'"
            ]
          },
          "metadata": {
            "tags": []
          },
          "execution_count": 91
        }
      ]
    },
    {
      "cell_type": "code",
      "metadata": {
        "id": "CMuKulNPfRcz"
      },
      "source": [
        "pred_test = []\n",
        "for q in test.Questions.values:\n",
        "  pred_test.append(predict(q, fine_loaded_model))"
      ],
      "execution_count": null,
      "outputs": []
    },
    {
      "cell_type": "code",
      "metadata": {
        "id": "Px6AV0CRgGUk"
      },
      "source": [
        "predictions_test_data = pd.DataFrame()\n",
        "predictions_test_data['Questions'] = test.Questions.values\n",
        "predictions_test_data['Predicted_answers'] = pred_test"
      ],
      "execution_count": null,
      "outputs": []
    },
    {
      "cell_type": "code",
      "metadata": {
        "colab": {
          "base_uri": "https://localhost:8080/",
          "height": 788
        },
        "id": "ZRV7x2xbghiv",
        "outputId": "f268d469-3d44-4437-dd16-57f822fa0df5"
      },
      "source": [
        "predictions_test_data"
      ],
      "execution_count": null,
      "outputs": [
        {
          "output_type": "execute_result",
          "data": {
            "text/html": [
              "<div>\n",
              "<style scoped>\n",
              "    .dataframe tbody tr th:only-of-type {\n",
              "        vertical-align: middle;\n",
              "    }\n",
              "\n",
              "    .dataframe tbody tr th {\n",
              "        vertical-align: top;\n",
              "    }\n",
              "\n",
              "    .dataframe thead th {\n",
              "        text-align: right;\n",
              "    }\n",
              "</style>\n",
              "<table border=\"1\" class=\"dataframe\">\n",
              "  <thead>\n",
              "    <tr style=\"text-align: right;\">\n",
              "      <th></th>\n",
              "      <th>Questions</th>\n",
              "      <th>Predicted_answers</th>\n",
              "    </tr>\n",
              "  </thead>\n",
              "  <tbody>\n",
              "    <tr>\n",
              "      <th>0</th>\n",
              "      <td>Will the pre-class session be recorded?</td>\n",
              "      <td>yes all sessions will be recorded</td>\n",
              "    </tr>\n",
              "    <tr>\n",
              "      <th>1</th>\n",
              "      <td>What is the deadline for quiz submission?</td>\n",
              "      <td>5 minutes</td>\n",
              "    </tr>\n",
              "    <tr>\n",
              "      <th>2</th>\n",
              "      <td>What is the deadline for exercise submission?</td>\n",
              "      <td>5 minutes</td>\n",
              "    </tr>\n",
              "    <tr>\n",
              "      <th>3</th>\n",
              "      <td>How many hours do I need to complete this course?</td>\n",
              "      <td>yes 4 of you together</td>\n",
              "    </tr>\n",
              "    <tr>\n",
              "      <th>4</th>\n",
              "      <td>Who will grade the exercise?</td>\n",
              "      <td>please post a private message on edstem</td>\n",
              "    </tr>\n",
              "    <tr>\n",
              "      <th>5</th>\n",
              "      <td>Why is the auto-grader failing me?</td>\n",
              "      <td>please post a private message on edstem</td>\n",
              "    </tr>\n",
              "    <tr>\n",
              "      <th>6</th>\n",
              "      <td>Do I do the exercises individually?</td>\n",
              "      <td>yes 4 of you together</td>\n",
              "    </tr>\n",
              "    <tr>\n",
              "      <th>7</th>\n",
              "      <td>Is the lab compulsory?</td>\n",
              "      <td>recording links will be posted on edstem</td>\n",
              "    </tr>\n",
              "    <tr>\n",
              "      <th>8</th>\n",
              "      <td>Will the sessions be recorded?</td>\n",
              "      <td>yes all sessions will be recorded</td>\n",
              "    </tr>\n",
              "    <tr>\n",
              "      <th>9</th>\n",
              "      <td>Can I have access to the recorded videos?</td>\n",
              "      <td>recording links will be posted on edstem</td>\n",
              "    </tr>\n",
              "    <tr>\n",
              "      <th>10</th>\n",
              "      <td>Where are the recordings?</td>\n",
              "      <td>yes office hours will not be recorded</td>\n",
              "    </tr>\n",
              "    <tr>\n",
              "      <th>11</th>\n",
              "      <td>Where can I ask questions regarding reading ma...</td>\n",
              "      <td>recording links will be posted on edstem</td>\n",
              "    </tr>\n",
              "    <tr>\n",
              "      <th>12</th>\n",
              "      <td>Where to find course material?</td>\n",
              "      <td>yes 4 of you together</td>\n",
              "    </tr>\n",
              "    <tr>\n",
              "      <th>13</th>\n",
              "      <td>Do we have homework?</td>\n",
              "      <td>yes 4 of you together</td>\n",
              "    </tr>\n",
              "    <tr>\n",
              "      <th>14</th>\n",
              "      <td>Where can I find the homework?</td>\n",
              "      <td>please post a private message on edstem</td>\n",
              "    </tr>\n",
              "    <tr>\n",
              "      <th>15</th>\n",
              "      <td>Where to submit the homework?</td>\n",
              "      <td>recording links will be posted on edstem</td>\n",
              "    </tr>\n",
              "    <tr>\n",
              "      <th>16</th>\n",
              "      <td>Where do I find the homework?</td>\n",
              "      <td>yes 4 of you together</td>\n",
              "    </tr>\n",
              "    <tr>\n",
              "      <th>17</th>\n",
              "      <td>Where do I submit my homework assignment?</td>\n",
              "      <td>yes 4 of you together</td>\n",
              "    </tr>\n",
              "    <tr>\n",
              "      <th>18</th>\n",
              "      <td>Will the professor take office hours?</td>\n",
              "      <td>5 minutes</td>\n",
              "    </tr>\n",
              "    <tr>\n",
              "      <th>19</th>\n",
              "      <td>What is the OH zoom link?</td>\n",
              "      <td>5 minutes</td>\n",
              "    </tr>\n",
              "    <tr>\n",
              "      <th>20</th>\n",
              "      <td>What will we do in projects?</td>\n",
              "      <td>recording links will be posted on edstem</td>\n",
              "    </tr>\n",
              "    <tr>\n",
              "      <th>21</th>\n",
              "      <td>What should be the duration of the presentatio...</td>\n",
              "      <td>please post a private message on edstem</td>\n",
              "    </tr>\n",
              "    <tr>\n",
              "      <th>22</th>\n",
              "      <td>Do I need to submit the project in a group?</td>\n",
              "      <td>yes 4 of you together</td>\n",
              "    </tr>\n",
              "    <tr>\n",
              "      <th>23</th>\n",
              "      <td>Does attendance count to grading?</td>\n",
              "      <td>5 minutes</td>\n",
              "    </tr>\n",
              "  </tbody>\n",
              "</table>\n",
              "</div>"
            ],
            "text/plain": [
              "                                            Questions                         Predicted_answers\n",
              "0             Will the pre-class session be recorded?         yes all sessions will be recorded\n",
              "1           What is the deadline for quiz submission?                                 5 minutes\n",
              "2       What is the deadline for exercise submission?                                 5 minutes\n",
              "3   How many hours do I need to complete this course?                     yes 4 of you together\n",
              "4                        Who will grade the exercise?   please post a private message on edstem\n",
              "5                  Why is the auto-grader failing me?   please post a private message on edstem\n",
              "6                 Do I do the exercises individually?                     yes 4 of you together\n",
              "7                              Is the lab compulsory?  recording links will be posted on edstem\n",
              "8                      Will the sessions be recorded?         yes all sessions will be recorded\n",
              "9           Can I have access to the recorded videos?  recording links will be posted on edstem\n",
              "10                          Where are the recordings?     yes office hours will not be recorded\n",
              "11  Where can I ask questions regarding reading ma...  recording links will be posted on edstem\n",
              "12                     Where to find course material?                     yes 4 of you together\n",
              "13                               Do we have homework?                     yes 4 of you together\n",
              "14                     Where can I find the homework?   please post a private message on edstem\n",
              "15                      Where to submit the homework?  recording links will be posted on edstem\n",
              "16                      Where do I find the homework?                     yes 4 of you together\n",
              "17          Where do I submit my homework assignment?                     yes 4 of you together\n",
              "18              Will the professor take office hours?                                 5 minutes\n",
              "19                          What is the OH zoom link?                                 5 minutes\n",
              "20                       What will we do in projects?  recording links will be posted on edstem\n",
              "21  What should be the duration of the presentatio...   please post a private message on edstem\n",
              "22        Do I need to submit the project in a group?                     yes 4 of you together\n",
              "23                  Does attendance count to grading?                                 5 minutes"
            ]
          },
          "metadata": {
            "tags": []
          },
          "execution_count": 95
        }
      ]
    },
    {
      "cell_type": "code",
      "metadata": {
        "id": "AEd6mP_Sgi43"
      },
      "source": [
        "predictions_test_data.to_csv('/content/drive/MyDrive/test_data_predictions_transformer_Cornell.csv',index=False)"
      ],
      "execution_count": null,
      "outputs": []
    }
  ]
}