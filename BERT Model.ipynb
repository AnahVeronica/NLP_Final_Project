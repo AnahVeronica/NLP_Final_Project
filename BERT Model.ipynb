{
  "nbformat": 4,
  "nbformat_minor": 0,
  "metadata": {
    "colab": {
      "name": "Copy of text_extraction_with_bert",
      "provenance": [],
      "collapsed_sections": [],
      "toc_visible": true
    },
    "kernelspec": {
      "display_name": "Python 3",
      "language": "python",
      "name": "python3"
    },
    "language_info": {
      "codemirror_mode": {
        "name": "ipython",
        "version": 3
      },
      "file_extension": ".py",
      "mimetype": "text/x-python",
      "name": "python",
      "nbconvert_exporter": "python",
      "pygments_lexer": "ipython3",
      "version": "3.7.0"
    },
    "accelerator": "TPU"
  },
  "cells": [
    {
      "cell_type": "markdown",
      "metadata": {
        "id": "NCk2ugMR0UmI"
      },
      "source": [
        "# BERT (from HuggingFace Transformers) for Text Extraction\n"
      ]
    },
    {
      "cell_type": "markdown",
      "metadata": {
        "id": "0SA3wqyv0UmK"
      },
      "source": [
        "## Setup\n"
      ]
    },
    {
      "cell_type": "code",
      "metadata": {
        "colab": {
          "base_uri": "https://localhost:8080/"
        },
        "id": "8LqGrit_3-ah",
        "outputId": "8d7f6dcb-6ad1-4ae0-9cc4-dbf8ebbd0a1b"
      },
      "source": [
        "!pip install transformers"
      ],
      "execution_count": 280,
      "outputs": [
        {
          "output_type": "stream",
          "text": [
            "Requirement already satisfied: transformers in /usr/local/lib/python3.7/dist-packages (4.6.1)\n",
            "Requirement already satisfied: sacremoses in /usr/local/lib/python3.7/dist-packages (from transformers) (0.0.45)\n",
            "Requirement already satisfied: numpy>=1.17 in /usr/local/lib/python3.7/dist-packages (from transformers) (1.19.5)\n",
            "Requirement already satisfied: tokenizers<0.11,>=0.10.1 in /usr/local/lib/python3.7/dist-packages (from transformers) (0.10.3)\n",
            "Requirement already satisfied: huggingface-hub==0.0.8 in /usr/local/lib/python3.7/dist-packages (from transformers) (0.0.8)\n",
            "Requirement already satisfied: packaging in /usr/local/lib/python3.7/dist-packages (from transformers) (20.9)\n",
            "Requirement already satisfied: tqdm>=4.27 in /usr/local/lib/python3.7/dist-packages (from transformers) (4.41.1)\n",
            "Requirement already satisfied: importlib-metadata; python_version < \"3.8\" in /usr/local/lib/python3.7/dist-packages (from transformers) (4.0.1)\n",
            "Requirement already satisfied: regex!=2019.12.17 in /usr/local/lib/python3.7/dist-packages (from transformers) (2019.12.20)\n",
            "Requirement already satisfied: requests in /usr/local/lib/python3.7/dist-packages (from transformers) (2.23.0)\n",
            "Requirement already satisfied: filelock in /usr/local/lib/python3.7/dist-packages (from transformers) (3.0.12)\n",
            "Requirement already satisfied: joblib in /usr/local/lib/python3.7/dist-packages (from sacremoses->transformers) (1.0.1)\n",
            "Requirement already satisfied: click in /usr/local/lib/python3.7/dist-packages (from sacremoses->transformers) (7.1.2)\n",
            "Requirement already satisfied: six in /usr/local/lib/python3.7/dist-packages (from sacremoses->transformers) (1.15.0)\n",
            "Requirement already satisfied: pyparsing>=2.0.2 in /usr/local/lib/python3.7/dist-packages (from packaging->transformers) (2.4.7)\n",
            "Requirement already satisfied: zipp>=0.5 in /usr/local/lib/python3.7/dist-packages (from importlib-metadata; python_version < \"3.8\"->transformers) (3.4.1)\n",
            "Requirement already satisfied: typing-extensions>=3.6.4; python_version < \"3.8\" in /usr/local/lib/python3.7/dist-packages (from importlib-metadata; python_version < \"3.8\"->transformers) (3.7.4.3)\n",
            "Requirement already satisfied: urllib3!=1.25.0,!=1.25.1,<1.26,>=1.21.1 in /usr/local/lib/python3.7/dist-packages (from requests->transformers) (1.24.3)\n",
            "Requirement already satisfied: chardet<4,>=3.0.2 in /usr/local/lib/python3.7/dist-packages (from requests->transformers) (3.0.4)\n",
            "Requirement already satisfied: certifi>=2017.4.17 in /usr/local/lib/python3.7/dist-packages (from requests->transformers) (2020.12.5)\n",
            "Requirement already satisfied: idna<3,>=2.5 in /usr/local/lib/python3.7/dist-packages (from requests->transformers) (2.10)\n"
          ],
          "name": "stdout"
        }
      ]
    },
    {
      "cell_type": "code",
      "metadata": {
        "colab": {
          "base_uri": "https://localhost:8080/"
        },
        "id": "ZG8ZsCVe4F54",
        "outputId": "574840f6-93c2-4833-9539-3fca046ec642"
      },
      "source": [
        "!pip install tokenizers\n"
      ],
      "execution_count": 281,
      "outputs": [
        {
          "output_type": "stream",
          "text": [
            "Requirement already satisfied: tokenizers in /usr/local/lib/python3.7/dist-packages (0.10.3)\n"
          ],
          "name": "stdout"
        }
      ]
    },
    {
      "cell_type": "code",
      "metadata": {
        "id": "rU7G9njK0UmL"
      },
      "source": [
        "#Imports\n",
        "\n",
        "import os\n",
        "import re\n",
        "import json\n",
        "import string\n",
        "import pandas as pd\n",
        "import numpy as np\n",
        "import tensorflow as tf\n",
        "from tensorflow import keras\n",
        "from tensorflow.keras import layers\n",
        "from tokenizers import BertWordPieceTokenizer\n",
        "from transformers import BertTokenizer, TFBertModel, BertConfig\n",
        "\n",
        "max_len = 384\n",
        "configuration = BertConfig()  # default parameters and configuration for BERT\n"
      ],
      "execution_count": 282,
      "outputs": []
    },
    {
      "cell_type": "markdown",
      "metadata": {
        "id": "suDp9_o80UmM"
      },
      "source": [
        "## Set-up BERT tokenizer\n"
      ]
    },
    {
      "cell_type": "code",
      "metadata": {
        "id": "UyqkGnHN0UmM"
      },
      "source": [
        "# Save the slow pretrained tokenizer\n",
        "slow_tokenizer = BertTokenizer.from_pretrained(\"bert-base-uncased\")\n",
        "save_path = \"bert_base_uncased/\"\n",
        "if not os.path.exists(save_path):\n",
        "    os.makedirs(save_path)\n",
        "slow_tokenizer.save_pretrained(save_path)\n",
        "\n",
        "# Load the fast tokenizer from saved file\n",
        "tokenizer = BertWordPieceTokenizer(\"bert_base_uncased/vocab.txt\", lowercase=True)\n"
      ],
      "execution_count": 283,
      "outputs": []
    },
    {
      "cell_type": "markdown",
      "metadata": {
        "id": "0h4YAK5HbezP"
      },
      "source": [
        "## Neccessary Functions"
      ]
    },
    {
      "cell_type": "code",
      "metadata": {
        "id": "L-MU-6Lb0UmO"
      },
      "source": [
        "class SquadExample:\n",
        "    def __init__(self, question, context, start_char_idx, answer_text, all_answers):\n",
        "        self.question = question\n",
        "        self.context = context\n",
        "        self.start_char_idx = start_char_idx\n",
        "        self.answer_text = answer_text\n",
        "        self.all_answers = all_answers\n",
        "        self.skip = False\n",
        "\n",
        "    def preprocess(self):\n",
        "        context = self.context\n",
        "        question = self.question\n",
        "        answer_text = self.answer_text\n",
        "        start_char_idx = self.start_char_idx\n",
        "\n",
        "        # Clean context, answer and question\n",
        "        context = \" \".join(str(context).split())\n",
        "        question = \" \".join(str(question).split())\n",
        "        answer = \" \".join(str(answer_text).split())\n",
        "\n",
        "        # Find end character index of answer in context\n",
        "        end_char_idx = start_char_idx + len(answer)\n",
        "        if end_char_idx >= len(context):\n",
        "            self.skip = True\n",
        "            return\n",
        "\n",
        "        # Mark the character indexes in context that are in answer\n",
        "        is_char_in_ans = [0] * len(context)\n",
        "        for idx in range(start_char_idx, end_char_idx):\n",
        "            is_char_in_ans[idx] = 1\n",
        "\n",
        "        # Tokenize context\n",
        "        tokenized_context = tokenizer.encode(context)\n",
        "\n",
        "        # Find tokens that were created from answer characters\n",
        "        ans_token_idx = []\n",
        "        for idx, (start, end) in enumerate(tokenized_context.offsets):\n",
        "            if sum(is_char_in_ans[start:end]) > 0:\n",
        "                ans_token_idx.append(idx)\n",
        "\n",
        "        if len(ans_token_idx) == 0:\n",
        "            self.skip = True\n",
        "            return\n",
        "\n",
        "        # Find start and end token index for tokens from answer\n",
        "        start_token_idx = ans_token_idx[0]\n",
        "        end_token_idx = ans_token_idx[-1]\n",
        "\n",
        "        # Tokenize question\n",
        "        tokenized_question = tokenizer.encode(question)\n",
        "\n",
        "        # Create inputs\n",
        "        input_ids = tokenized_context.ids + tokenized_question.ids[1:]\n",
        "        token_type_ids = [0] * len(tokenized_context.ids) + [1] * len(\n",
        "            tokenized_question.ids[1:]\n",
        "        )\n",
        "        attention_mask = [1] * len(input_ids)\n",
        "\n",
        "        # Pad and create attention masks.\n",
        "        # Skip if truncation is needed\n",
        "        padding_length = max_len - len(input_ids)\n",
        "        if padding_length > 0:  # pad\n",
        "            input_ids = input_ids + ([0] * padding_length)\n",
        "            attention_mask = attention_mask + ([0] * padding_length)\n",
        "            token_type_ids = token_type_ids + ([0] * padding_length)\n",
        "        elif padding_length < 0:  # skip\n",
        "            self.skip = True\n",
        "            return\n",
        "\n",
        "        self.input_ids = input_ids\n",
        "        self.token_type_ids = token_type_ids\n",
        "        self.attention_mask = attention_mask\n",
        "        self.start_token_idx = start_token_idx\n",
        "        self.end_token_idx = end_token_idx\n",
        "        self.context_token_to_char = tokenized_context.offsets\n"
      ],
      "execution_count": 284,
      "outputs": []
    },
    {
      "cell_type": "code",
      "metadata": {
        "id": "kb4Pf_Ca6Il4"
      },
      "source": [
        "def create_squad_examples(raw_data):\n",
        "    squad_examples = []\n",
        "    for item in raw_data[\"data\"]:\n",
        "        for para in item[\"paragraphs\"]:\n",
        "            context = para[\"context\"]\n",
        "            for qa in para[\"qas\"]:\n",
        "                question = qa[\"question\"]\n",
        "                answer_text = qa[\"answers\"][0][\"text\"]\n",
        "                all_answers = [_[\"text\"] for _ in qa[\"answers\"]]\n",
        "                start_char_idx = qa[\"answers\"][0][\"answer_start\"]\n",
        "                squad_eg = SquadExample(\n",
        "                    question, context, start_char_idx, answer_text, all_answers\n",
        "                )\n",
        "                squad_eg.preprocess()\n",
        "                squad_examples.append(squad_eg)\n",
        "    return squad_examples\n"
      ],
      "execution_count": 285,
      "outputs": []
    },
    {
      "cell_type": "code",
      "metadata": {
        "id": "fxg1Z6Pj6L8y"
      },
      "source": [
        "def create_inputs_targets(squad_examples):\n",
        "    dataset_dict = {\n",
        "        \"input_ids\": [],\n",
        "        \"token_type_ids\": [],\n",
        "        \"attention_mask\": [],\n",
        "        \"start_token_idx\": [],\n",
        "        \"end_token_idx\": [],\n",
        "    }\n",
        "    for item in squad_examples:\n",
        "        if item.skip == False:\n",
        "            for key in dataset_dict:\n",
        "                dataset_dict[key].append(getattr(item, key))\n",
        "    for key in dataset_dict:\n",
        "        dataset_dict[key] = np.array(dataset_dict[key])\n",
        "\n",
        "    x = [\n",
        "        dataset_dict[\"input_ids\"],\n",
        "        dataset_dict[\"token_type_ids\"],\n",
        "        dataset_dict[\"attention_mask\"],\n",
        "    ]\n",
        "    y = [dataset_dict[\"start_token_idx\"], dataset_dict[\"end_token_idx\"]]\n",
        "    return x, y\n"
      ],
      "execution_count": 286,
      "outputs": []
    },
    {
      "cell_type": "markdown",
      "metadata": {
        "id": "SD0zo25DcbCH"
      },
      "source": [
        "# Load Data"
      ]
    },
    {
      "cell_type": "code",
      "metadata": {
        "id": "b2YS-m_Ss781"
      },
      "source": [
        "ft_data = pd.read_csv('/content/faq.csv')"
      ],
      "execution_count": 287,
      "outputs": []
    },
    {
      "cell_type": "code",
      "metadata": {
        "colab": {
          "base_uri": "https://localhost:8080/",
          "height": 194
        },
        "id": "46ynZMpet3Uj",
        "outputId": "3586a146-d09f-4b61-dc43-85b1a379c81a"
      },
      "source": [
        "ft_data.head()"
      ],
      "execution_count": 288,
      "outputs": [
        {
          "output_type": "execute_result",
          "data": {
            "text/html": [
              "<div>\n",
              "<style scoped>\n",
              "    .dataframe tbody tr th:only-of-type {\n",
              "        vertical-align: middle;\n",
              "    }\n",
              "\n",
              "    .dataframe tbody tr th {\n",
              "        vertical-align: top;\n",
              "    }\n",
              "\n",
              "    .dataframe thead th {\n",
              "        text-align: right;\n",
              "    }\n",
              "</style>\n",
              "<table border=\"1\" class=\"dataframe\">\n",
              "  <thead>\n",
              "    <tr style=\"text-align: right;\">\n",
              "      <th></th>\n",
              "      <th>Question</th>\n",
              "      <th>Unnamed: 1</th>\n",
              "      <th>Answer</th>\n",
              "      <th>Changed answer</th>\n",
              "      <th>answer_start</th>\n",
              "      <th>Context_index</th>\n",
              "    </tr>\n",
              "  </thead>\n",
              "  <tbody>\n",
              "    <tr>\n",
              "      <th>0</th>\n",
              "      <td>Are session pre-class quizzes graded?</td>\n",
              "      <td>Grading</td>\n",
              "      <td>No. Pre-class quiz is to just check your under...</td>\n",
              "      <td>pre class quizzes will not be graded</td>\n",
              "      <td>322</td>\n",
              "      <td>0</td>\n",
              "    </tr>\n",
              "    <tr>\n",
              "      <th>1</th>\n",
              "      <td>When is the deadline for the submission of ses...</td>\n",
              "      <td>Deadlines</td>\n",
              "      <td>5 PM on the day of the following lecture.</td>\n",
              "      <td>before five pm on the day of the following lec...</td>\n",
              "      <td>97</td>\n",
              "      <td>1</td>\n",
              "    </tr>\n",
              "    <tr>\n",
              "      <th>2</th>\n",
              "      <td>Will there be any extension allowed for the qu...</td>\n",
              "      <td>Deadlines</td>\n",
              "      <td>Only for exceptional cases.</td>\n",
              "      <td>Extensions will be allowed only in exceptional...</td>\n",
              "      <td>149</td>\n",
              "      <td>1</td>\n",
              "    </tr>\n",
              "    <tr>\n",
              "      <th>3</th>\n",
              "      <td>How many hours will I need to dedicate to succ...</td>\n",
              "      <td>General</td>\n",
              "      <td>About 15 hours per week.</td>\n",
              "      <td>about fifteen hours a week</td>\n",
              "      <td>26</td>\n",
              "      <td>2</td>\n",
              "    </tr>\n",
              "    <tr>\n",
              "      <th>4</th>\n",
              "      <td>Who will grade my exercise?</td>\n",
              "      <td>Grading</td>\n",
              "      <td>The exercises are auto-graded once you click t...</td>\n",
              "      <td>they are auto graded by the edstem platform</td>\n",
              "      <td>456</td>\n",
              "      <td>0</td>\n",
              "    </tr>\n",
              "  </tbody>\n",
              "</table>\n",
              "</div>"
            ],
            "text/plain": [
              "                                            Question  ... Context_index\n",
              "0              Are session pre-class quizzes graded?  ...             0\n",
              "1  When is the deadline for the submission of ses...  ...             1\n",
              "2  Will there be any extension allowed for the qu...  ...             1\n",
              "3  How many hours will I need to dedicate to succ...  ...             2\n",
              "4                        Who will grade my exercise?  ...             0\n",
              "\n",
              "[5 rows x 6 columns]"
            ]
          },
          "metadata": {
            "tags": []
          },
          "execution_count": 288
        }
      ]
    },
    {
      "cell_type": "code",
      "metadata": {
        "id": "Mz2Lg2q-t8On"
      },
      "source": [
        "f = open('/content/Custom_Context.txt', 'r')\n",
        "content = f.read()"
      ],
      "execution_count": 289,
      "outputs": []
    },
    {
      "cell_type": "code",
      "metadata": {
        "colab": {
          "base_uri": "https://localhost:8080/",
          "height": 142
        },
        "id": "dCzASe0f0MBE",
        "outputId": "86bc81e0-5c0f-439b-9dee-22fb62bc0d44"
      },
      "source": [
        "content"
      ],
      "execution_count": 290,
      "outputs": [
        {
          "output_type": "execute_result",
          "data": {
            "application/vnd.google.colaboratory.intrinsic+json": {
              "type": "string"
            },
            "text/plain": [
              "\"['Your final grade will be determined based on the weighted average of the exercises, participation, homework and a final project. The faculty reserves the flexibility to change the grade thresholds for the final grade. Exercises and the post class quizzes comprise of a total of thirty five percent of the final grade. The pre class quizzes are only for your understanding and will not be graded. The exercises need to be submitted before set deadlines and they are auto graded by the edstem platform. You need to be careful before changing some part of your code if you approach a question differently as the auto grader does not accept alternative solutions please follow the instructions. Ten percent of your grade is participation. Attendance is graded and has a small percent in the final grade. Labs are not graded. Check the Course Information page for more.']\\n\\n['All the assignments have set deadlines. The exercise and post class quizzes have to be submitted before five pm on the day of the following lecture. Extensions will be allowed only in exceptional cases. Exceptional cases may be considered for extending the project deadline.']\\n\\n['We expect you to work for about fifteen hours a week. Your TAs take the office hour. Please check the course information slide for zoom links. The official announcements will be posted on edstem. All official communication by Prof. Protopapas will be made on edstem. Please post a private message on edstem if your homework partner is not responding. If you don’t have a homework partner, private message us on edstem with your details.']\\n\\n['Exercises have to be done individually but can be discussed in breakout rooms. We can tell you that each session has an exercise and there is a homework after each week. The homework can be found on edstem in the lessons tab. After you’re done working on the homework, you and your partner have to submit the homework in the edstem lessons tab. It is subject to change and the homework release and will be announced during the session. You will work on a project in groups of four on a topic of your choice based on what you learnt in the course. A presentation is to be made at the end of the module. A five minute video along with the slides and a jupyter notebook with the code is to be submitted. A presentation video must be five minutes long. Presentations are group activities and are to be done in groups of four. Do not share your code with others as it is in violation of our code of conduct.']\\n\\n['Labs are not graded but will be helpful for implementing the concepts taught in class. All sessions will be recorded and uploaded for everyone to view. All students have access to all the captured video materials and live streaming. The recording links will be posted on edstem and can be accessed as per convenience or need. Office hours will not be recorded. Attend the office hours to get your questions answered. The reading material can be found on edstem forums under the ‘Lectures’ category. The reading for the next session will be posted after every lab. All the material is available on edstem and can be accessed on the platform. ']\\n\""
            ]
          },
          "metadata": {
            "tags": []
          },
          "execution_count": 290
        }
      ]
    },
    {
      "cell_type": "code",
      "metadata": {
        "id": "kqd59tkZt_6X"
      },
      "source": [
        "split_text = content.splitlines()"
      ],
      "execution_count": 291,
      "outputs": []
    },
    {
      "cell_type": "code",
      "metadata": {
        "id": "RRlzC3sg0Qrn"
      },
      "source": [
        "context_0 = split_text[0][2:-2]\n",
        "context_1 = split_text[2][2:-2]\n",
        "context_2 = split_text[4][2:-2]\n",
        "context_3 = split_text[6][2:-2]\n",
        "context_4 = split_text[8][2:-2]\n"
      ],
      "execution_count": 292,
      "outputs": []
    },
    {
      "cell_type": "code",
      "metadata": {
        "colab": {
          "base_uri": "https://localhost:8080/"
        },
        "id": "vXOakMoKuEaS",
        "outputId": "b8075a25-a2b3-4123-a596-03c22c97598d"
      },
      "source": [
        "ft_data['answer_end'] =0\n",
        "for i in range(len(ft_data)):\n",
        "  ft_data['answer_end'][i] = len(ft_data['Changed answer'][i]) + ft_data['answer_start'][i]  "
      ],
      "execution_count": 293,
      "outputs": [
        {
          "output_type": "stream",
          "text": [
            "/usr/local/lib/python3.7/dist-packages/ipykernel_launcher.py:3: SettingWithCopyWarning: \n",
            "A value is trying to be set on a copy of a slice from a DataFrame\n",
            "\n",
            "See the caveats in the documentation: https://pandas.pydata.org/pandas-docs/stable/user_guide/indexing.html#returning-a-view-versus-a-copy\n",
            "  This is separate from the ipykernel package so we can avoid doing imports until\n"
          ],
          "name": "stderr"
        }
      ]
    },
    {
      "cell_type": "code",
      "metadata": {
        "colab": {
          "base_uri": "https://localhost:8080/"
        },
        "id": "cRgTrinquPbn",
        "outputId": "5dfb8787-64ec-4de5-c06d-d8623d874d7e"
      },
      "source": [
        "ft_data['context'] = ''\n",
        "for i in range(len(ft_data)):\n",
        "  if ft_data['Context_index'][i] == 0:\n",
        "    ft_data['context'][i] = context_0\n",
        "\n",
        "  elif ft_data['Context_index'][i] == 1:\n",
        "    ft_data['context'][i] = context_1\n",
        "\n",
        "  elif ft_data['Context_index'][i] == 2:\n",
        "    ft_data['context'][i] = context_2\n",
        "\n",
        "  elif ft_data['Context_index'][i] == 3:\n",
        "    ft_data['context'][i] = context_3\n",
        "\n",
        "  elif ft_data['Context_index'][i] == 4:\n",
        "    ft_data['context'][i] = context_4"
      ],
      "execution_count": 294,
      "outputs": [
        {
          "output_type": "stream",
          "text": [
            "/usr/local/lib/python3.7/dist-packages/ipykernel_launcher.py:4: SettingWithCopyWarning: \n",
            "A value is trying to be set on a copy of a slice from a DataFrame\n",
            "\n",
            "See the caveats in the documentation: https://pandas.pydata.org/pandas-docs/stable/user_guide/indexing.html#returning-a-view-versus-a-copy\n",
            "  after removing the cwd from sys.path.\n",
            "/usr/local/lib/python3.7/dist-packages/ipykernel_launcher.py:7: SettingWithCopyWarning: \n",
            "A value is trying to be set on a copy of a slice from a DataFrame\n",
            "\n",
            "See the caveats in the documentation: https://pandas.pydata.org/pandas-docs/stable/user_guide/indexing.html#returning-a-view-versus-a-copy\n",
            "  import sys\n",
            "/usr/local/lib/python3.7/dist-packages/ipykernel_launcher.py:10: SettingWithCopyWarning: \n",
            "A value is trying to be set on a copy of a slice from a DataFrame\n",
            "\n",
            "See the caveats in the documentation: https://pandas.pydata.org/pandas-docs/stable/user_guide/indexing.html#returning-a-view-versus-a-copy\n",
            "  # Remove the CWD from sys.path while we load stuff.\n",
            "/usr/local/lib/python3.7/dist-packages/ipykernel_launcher.py:13: SettingWithCopyWarning: \n",
            "A value is trying to be set on a copy of a slice from a DataFrame\n",
            "\n",
            "See the caveats in the documentation: https://pandas.pydata.org/pandas-docs/stable/user_guide/indexing.html#returning-a-view-versus-a-copy\n",
            "  del sys.path[0]\n",
            "/usr/local/lib/python3.7/dist-packages/ipykernel_launcher.py:16: SettingWithCopyWarning: \n",
            "A value is trying to be set on a copy of a slice from a DataFrame\n",
            "\n",
            "See the caveats in the documentation: https://pandas.pydata.org/pandas-docs/stable/user_guide/indexing.html#returning-a-view-versus-a-copy\n",
            "  app.launch_new_instance()\n"
          ],
          "name": "stderr"
        }
      ]
    },
    {
      "cell_type": "code",
      "metadata": {
        "colab": {
          "base_uri": "https://localhost:8080/",
          "height": 380
        },
        "id": "35v4Xn5yAgzu",
        "outputId": "0be656e8-6434-4b2f-c1d9-6b29d64736f9"
      },
      "source": [
        "ft_data.head()"
      ],
      "execution_count": 295,
      "outputs": [
        {
          "output_type": "execute_result",
          "data": {
            "text/html": [
              "<div>\n",
              "<style scoped>\n",
              "    .dataframe tbody tr th:only-of-type {\n",
              "        vertical-align: middle;\n",
              "    }\n",
              "\n",
              "    .dataframe tbody tr th {\n",
              "        vertical-align: top;\n",
              "    }\n",
              "\n",
              "    .dataframe thead th {\n",
              "        text-align: right;\n",
              "    }\n",
              "</style>\n",
              "<table border=\"1\" class=\"dataframe\">\n",
              "  <thead>\n",
              "    <tr style=\"text-align: right;\">\n",
              "      <th></th>\n",
              "      <th>Question</th>\n",
              "      <th>Unnamed: 1</th>\n",
              "      <th>Answer</th>\n",
              "      <th>Changed answer</th>\n",
              "      <th>answer_start</th>\n",
              "      <th>Context_index</th>\n",
              "      <th>answer_end</th>\n",
              "      <th>context</th>\n",
              "    </tr>\n",
              "  </thead>\n",
              "  <tbody>\n",
              "    <tr>\n",
              "      <th>0</th>\n",
              "      <td>Are session pre-class quizzes graded?</td>\n",
              "      <td>Grading</td>\n",
              "      <td>No. Pre-class quiz is to just check your under...</td>\n",
              "      <td>pre class quizzes will not be graded</td>\n",
              "      <td>322</td>\n",
              "      <td>0</td>\n",
              "      <td>358</td>\n",
              "      <td>Your final grade will be determined based on t...</td>\n",
              "    </tr>\n",
              "    <tr>\n",
              "      <th>1</th>\n",
              "      <td>When is the deadline for the submission of ses...</td>\n",
              "      <td>Deadlines</td>\n",
              "      <td>5 PM on the day of the following lecture.</td>\n",
              "      <td>before five pm on the day of the following lec...</td>\n",
              "      <td>97</td>\n",
              "      <td>1</td>\n",
              "      <td>147</td>\n",
              "      <td>All the assignments have set deadlines. The ex...</td>\n",
              "    </tr>\n",
              "    <tr>\n",
              "      <th>2</th>\n",
              "      <td>Will there be any extension allowed for the qu...</td>\n",
              "      <td>Deadlines</td>\n",
              "      <td>Only for exceptional cases.</td>\n",
              "      <td>Extensions will be allowed only in exceptional...</td>\n",
              "      <td>149</td>\n",
              "      <td>1</td>\n",
              "      <td>201</td>\n",
              "      <td>All the assignments have set deadlines. The ex...</td>\n",
              "    </tr>\n",
              "    <tr>\n",
              "      <th>3</th>\n",
              "      <td>How many hours will I need to dedicate to succ...</td>\n",
              "      <td>General</td>\n",
              "      <td>About 15 hours per week.</td>\n",
              "      <td>about fifteen hours a week</td>\n",
              "      <td>26</td>\n",
              "      <td>2</td>\n",
              "      <td>52</td>\n",
              "      <td>We expect you to work for about fifteen hours ...</td>\n",
              "    </tr>\n",
              "    <tr>\n",
              "      <th>4</th>\n",
              "      <td>Who will grade my exercise?</td>\n",
              "      <td>Grading</td>\n",
              "      <td>The exercises are auto-graded once you click t...</td>\n",
              "      <td>they are auto graded by the edstem platform</td>\n",
              "      <td>456</td>\n",
              "      <td>0</td>\n",
              "      <td>499</td>\n",
              "      <td>Your final grade will be determined based on t...</td>\n",
              "    </tr>\n",
              "  </tbody>\n",
              "</table>\n",
              "</div>"
            ],
            "text/plain": [
              "                                            Question  ...                                            context\n",
              "0              Are session pre-class quizzes graded?  ...  Your final grade will be determined based on t...\n",
              "1  When is the deadline for the submission of ses...  ...  All the assignments have set deadlines. The ex...\n",
              "2  Will there be any extension allowed for the qu...  ...  All the assignments have set deadlines. The ex...\n",
              "3  How many hours will I need to dedicate to succ...  ...  We expect you to work for about fifteen hours ...\n",
              "4                        Who will grade my exercise?  ...  Your final grade will be determined based on t...\n",
              "\n",
              "[5 rows x 8 columns]"
            ]
          },
          "metadata": {
            "tags": []
          },
          "execution_count": 295
        }
      ]
    },
    {
      "cell_type": "code",
      "metadata": {
        "colab": {
          "base_uri": "https://localhost:8080/"
        },
        "id": "w7Rou7MKAttX",
        "outputId": "72cf6c8a-a3da-44ac-be3b-b4d96cf58bf4"
      },
      "source": [
        "ft_data['answer_end'] =0\n",
        "for i in range(len(ft_data)):\n",
        "  ft_data['answer_end'][i] = len(ft_data['Changed answer'][i]) + ft_data['answer_start'][i]\n"
      ],
      "execution_count": 296,
      "outputs": [
        {
          "output_type": "stream",
          "text": [
            "/usr/local/lib/python3.7/dist-packages/ipykernel_launcher.py:3: SettingWithCopyWarning: \n",
            "A value is trying to be set on a copy of a slice from a DataFrame\n",
            "\n",
            "See the caveats in the documentation: https://pandas.pydata.org/pandas-docs/stable/user_guide/indexing.html#returning-a-view-versus-a-copy\n",
            "  This is separate from the ipykernel package so we can avoid doing imports until\n"
          ],
          "name": "stderr"
        }
      ]
    },
    {
      "cell_type": "code",
      "metadata": {
        "colab": {
          "base_uri": "https://localhost:8080/",
          "height": 363
        },
        "id": "h76e4fZLsw6M",
        "outputId": "e8d4ad83-663a-4189-9ca6-682a8bb4238d"
      },
      "source": [
        "ft_data.columns = ['question', 'context_title', 'answer', 'answer_text', 'answer_start', 'context_id', 'answer_end', 'context']\n",
        "ft_data.head()\n"
      ],
      "execution_count": 297,
      "outputs": [
        {
          "output_type": "execute_result",
          "data": {
            "text/html": [
              "<div>\n",
              "<style scoped>\n",
              "    .dataframe tbody tr th:only-of-type {\n",
              "        vertical-align: middle;\n",
              "    }\n",
              "\n",
              "    .dataframe tbody tr th {\n",
              "        vertical-align: top;\n",
              "    }\n",
              "\n",
              "    .dataframe thead th {\n",
              "        text-align: right;\n",
              "    }\n",
              "</style>\n",
              "<table border=\"1\" class=\"dataframe\">\n",
              "  <thead>\n",
              "    <tr style=\"text-align: right;\">\n",
              "      <th></th>\n",
              "      <th>question</th>\n",
              "      <th>context_title</th>\n",
              "      <th>answer</th>\n",
              "      <th>answer_text</th>\n",
              "      <th>answer_start</th>\n",
              "      <th>context_id</th>\n",
              "      <th>answer_end</th>\n",
              "      <th>context</th>\n",
              "    </tr>\n",
              "  </thead>\n",
              "  <tbody>\n",
              "    <tr>\n",
              "      <th>0</th>\n",
              "      <td>Are session pre-class quizzes graded?</td>\n",
              "      <td>Grading</td>\n",
              "      <td>No. Pre-class quiz is to just check your under...</td>\n",
              "      <td>pre class quizzes will not be graded</td>\n",
              "      <td>322</td>\n",
              "      <td>0</td>\n",
              "      <td>358</td>\n",
              "      <td>Your final grade will be determined based on t...</td>\n",
              "    </tr>\n",
              "    <tr>\n",
              "      <th>1</th>\n",
              "      <td>When is the deadline for the submission of ses...</td>\n",
              "      <td>Deadlines</td>\n",
              "      <td>5 PM on the day of the following lecture.</td>\n",
              "      <td>before five pm on the day of the following lec...</td>\n",
              "      <td>97</td>\n",
              "      <td>1</td>\n",
              "      <td>147</td>\n",
              "      <td>All the assignments have set deadlines. The ex...</td>\n",
              "    </tr>\n",
              "    <tr>\n",
              "      <th>2</th>\n",
              "      <td>Will there be any extension allowed for the qu...</td>\n",
              "      <td>Deadlines</td>\n",
              "      <td>Only for exceptional cases.</td>\n",
              "      <td>Extensions will be allowed only in exceptional...</td>\n",
              "      <td>149</td>\n",
              "      <td>1</td>\n",
              "      <td>201</td>\n",
              "      <td>All the assignments have set deadlines. The ex...</td>\n",
              "    </tr>\n",
              "    <tr>\n",
              "      <th>3</th>\n",
              "      <td>How many hours will I need to dedicate to succ...</td>\n",
              "      <td>General</td>\n",
              "      <td>About 15 hours per week.</td>\n",
              "      <td>about fifteen hours a week</td>\n",
              "      <td>26</td>\n",
              "      <td>2</td>\n",
              "      <td>52</td>\n",
              "      <td>We expect you to work for about fifteen hours ...</td>\n",
              "    </tr>\n",
              "    <tr>\n",
              "      <th>4</th>\n",
              "      <td>Who will grade my exercise?</td>\n",
              "      <td>Grading</td>\n",
              "      <td>The exercises are auto-graded once you click t...</td>\n",
              "      <td>they are auto graded by the edstem platform</td>\n",
              "      <td>456</td>\n",
              "      <td>0</td>\n",
              "      <td>499</td>\n",
              "      <td>Your final grade will be determined based on t...</td>\n",
              "    </tr>\n",
              "  </tbody>\n",
              "</table>\n",
              "</div>"
            ],
            "text/plain": [
              "                                            question  ...                                            context\n",
              "0              Are session pre-class quizzes graded?  ...  Your final grade will be determined based on t...\n",
              "1  When is the deadline for the submission of ses...  ...  All the assignments have set deadlines. The ex...\n",
              "2  Will there be any extension allowed for the qu...  ...  All the assignments have set deadlines. The ex...\n",
              "3  How many hours will I need to dedicate to succ...  ...  We expect you to work for about fifteen hours ...\n",
              "4                        Who will grade my exercise?  ...  Your final grade will be determined based on t...\n",
              "\n",
              "[5 rows x 8 columns]"
            ]
          },
          "metadata": {
            "tags": []
          },
          "execution_count": 297
        }
      ]
    },
    {
      "cell_type": "code",
      "metadata": {
        "id": "XHvhpV5Tvcsg"
      },
      "source": [
        "squad_examples_ft = []\n",
        "\n",
        "all_answers = ft_data['answer_text']\n",
        "\n",
        "for i in range(len(ft_data)): \n",
        "  context = ft_data['context'][i]\n",
        "  question = ft_data['question'][i]\n",
        "  answer_text = ft_data['answer_text'][i]\n",
        "  start_char_idx = ft_data['answer_start'][i]\n",
        "\n",
        "  squad_eg = SquadExample(question, context, start_char_idx, answer_text, all_answers)\n",
        "  squad_eg.preprocess()\n",
        "  squad_examples_ft.append(squad_eg)"
      ],
      "execution_count": 298,
      "outputs": []
    },
    {
      "cell_type": "code",
      "metadata": {
        "colab": {
          "base_uri": "https://localhost:8080/"
        },
        "id": "4VwForpkz09r",
        "outputId": "4c6744a6-ed8e-4321-fe82-2d09eee7e4dc"
      },
      "source": [
        "ft_examples = squad_examples_ft\n",
        "x_train_ft, y_train_ft = create_inputs_targets(ft_examples)\n",
        "print(f\"{len(ft_examples)} training points created.\")"
      ],
      "execution_count": 299,
      "outputs": [
        {
          "output_type": "stream",
          "text": [
            "33 training points created.\n"
          ],
          "name": "stdout"
        }
      ]
    },
    {
      "cell_type": "markdown",
      "metadata": {
        "id": "NNVMycHD0UmP"
      },
      "source": [
        "# BERT Model\n"
      ]
    },
    {
      "cell_type": "code",
      "metadata": {
        "id": "mNK4Swv70UmP"
      },
      "source": [
        "def create_model():\n",
        "    ## BERT encoder\n",
        "    encoder = TFBertModel.from_pretrained(\"bert-base-uncased\")\n",
        "\n",
        "    ## QA Model\n",
        "    input_ids = layers.Input(shape=(max_len,), dtype=tf.int32)\n",
        "    token_type_ids = layers.Input(shape=(max_len,), dtype=tf.int32)\n",
        "    attention_mask = layers.Input(shape=(max_len,), dtype=tf.int32)\n",
        "    embedding = encoder(\n",
        "        input_ids, token_type_ids=token_type_ids, attention_mask=attention_mask\n",
        "    )[0]\n",
        "\n",
        "    start_logits = layers.Dense(1, name=\"start_logit\", use_bias=False)(embedding)\n",
        "    start_logits = layers.Flatten()(start_logits)\n",
        "\n",
        "    end_logits = layers.Dense(1, name=\"end_logit\", use_bias=False)(embedding)\n",
        "    end_logits = layers.Flatten()(end_logits)\n",
        "\n",
        "    start_probs = layers.Activation(keras.activations.softmax)(start_logits)\n",
        "    end_probs = layers.Activation(keras.activations.softmax)(end_logits)\n",
        "\n",
        "    model = keras.Model(\n",
        "        inputs=[input_ids, token_type_ids, attention_mask],\n",
        "        outputs=[start_probs, end_probs],\n",
        "    )\n",
        "    loss = keras.losses.SparseCategoricalCrossentropy(from_logits=False)\n",
        "    optimizer = keras.optimizers.Adam(lr=5e-5)\n",
        "    model.compile(optimizer=optimizer, loss=[loss, loss])\n",
        "    return model"
      ],
      "execution_count": 300,
      "outputs": []
    },
    {
      "cell_type": "markdown",
      "metadata": {
        "id": "ANpzYZHP0UmQ"
      },
      "source": [
        "This code should preferably be run on Google Colab TPU runtime.\n",
        "With Colab TPUs, each epoch will take 5-6 minutes.\n"
      ]
    },
    {
      "cell_type": "code",
      "metadata": {
        "id": "y4j868-R0UmQ",
        "colab": {
          "base_uri": "https://localhost:8080/"
        },
        "outputId": "91324817-b7f6-4cf9-82f4-ed92afb0d653"
      },
      "source": [
        "use_tpu = True\n",
        "if use_tpu:\n",
        "    # Create distribution strategy\n",
        "    tpu = tf.distribute.cluster_resolver.TPUClusterResolver()\n",
        "    tf.config.experimental_connect_to_cluster(tpu)\n",
        "    tf.tpu.experimental.initialize_tpu_system(tpu)\n",
        "    strategy = tf.distribute.experimental.TPUStrategy(tpu)\n",
        "\n",
        "    # Create model\n",
        "    with strategy.scope():\n",
        "        model = create_model()\n",
        "else:\n",
        "    model = create_model()\n",
        "\n",
        "model.summary()"
      ],
      "execution_count": 301,
      "outputs": [
        {
          "output_type": "stream",
          "text": [
            "WARNING:tensorflow:TPU system grpc://10.88.114.122:8470 has already been initialized. Reinitializing the TPU can cause previously created variables on TPU to be lost.\n"
          ],
          "name": "stdout"
        },
        {
          "output_type": "stream",
          "text": [
            "WARNING:tensorflow:TPU system grpc://10.88.114.122:8470 has already been initialized. Reinitializing the TPU can cause previously created variables on TPU to be lost.\n"
          ],
          "name": "stderr"
        },
        {
          "output_type": "stream",
          "text": [
            "INFO:tensorflow:Initializing the TPU system: grpc://10.88.114.122:8470\n"
          ],
          "name": "stdout"
        },
        {
          "output_type": "stream",
          "text": [
            "INFO:tensorflow:Initializing the TPU system: grpc://10.88.114.122:8470\n"
          ],
          "name": "stderr"
        },
        {
          "output_type": "stream",
          "text": [
            "INFO:tensorflow:Clearing out eager caches\n"
          ],
          "name": "stdout"
        },
        {
          "output_type": "stream",
          "text": [
            "INFO:tensorflow:Clearing out eager caches\n"
          ],
          "name": "stderr"
        },
        {
          "output_type": "stream",
          "text": [
            "INFO:tensorflow:Finished initializing TPU system.\n"
          ],
          "name": "stdout"
        },
        {
          "output_type": "stream",
          "text": [
            "INFO:tensorflow:Finished initializing TPU system.\n",
            "WARNING:absl:`tf.distribute.experimental.TPUStrategy` is deprecated, please use  the non experimental symbol `tf.distribute.TPUStrategy` instead.\n"
          ],
          "name": "stderr"
        },
        {
          "output_type": "stream",
          "text": [
            "INFO:tensorflow:Found TPU system:\n"
          ],
          "name": "stdout"
        },
        {
          "output_type": "stream",
          "text": [
            "INFO:tensorflow:Found TPU system:\n"
          ],
          "name": "stderr"
        },
        {
          "output_type": "stream",
          "text": [
            "INFO:tensorflow:*** Num TPU Cores: 8\n"
          ],
          "name": "stdout"
        },
        {
          "output_type": "stream",
          "text": [
            "INFO:tensorflow:*** Num TPU Cores: 8\n"
          ],
          "name": "stderr"
        },
        {
          "output_type": "stream",
          "text": [
            "INFO:tensorflow:*** Num TPU Workers: 1\n"
          ],
          "name": "stdout"
        },
        {
          "output_type": "stream",
          "text": [
            "INFO:tensorflow:*** Num TPU Workers: 1\n"
          ],
          "name": "stderr"
        },
        {
          "output_type": "stream",
          "text": [
            "INFO:tensorflow:*** Num TPU Cores Per Worker: 8\n"
          ],
          "name": "stdout"
        },
        {
          "output_type": "stream",
          "text": [
            "INFO:tensorflow:*** Num TPU Cores Per Worker: 8\n"
          ],
          "name": "stderr"
        },
        {
          "output_type": "stream",
          "text": [
            "INFO:tensorflow:*** Available Device: _DeviceAttributes(/job:localhost/replica:0/task:0/device:CPU:0, CPU, 0, 0)\n"
          ],
          "name": "stdout"
        },
        {
          "output_type": "stream",
          "text": [
            "INFO:tensorflow:*** Available Device: _DeviceAttributes(/job:localhost/replica:0/task:0/device:CPU:0, CPU, 0, 0)\n"
          ],
          "name": "stderr"
        },
        {
          "output_type": "stream",
          "text": [
            "INFO:tensorflow:*** Available Device: _DeviceAttributes(/job:worker/replica:0/task:0/device:CPU:0, CPU, 0, 0)\n"
          ],
          "name": "stdout"
        },
        {
          "output_type": "stream",
          "text": [
            "INFO:tensorflow:*** Available Device: _DeviceAttributes(/job:worker/replica:0/task:0/device:CPU:0, CPU, 0, 0)\n"
          ],
          "name": "stderr"
        },
        {
          "output_type": "stream",
          "text": [
            "INFO:tensorflow:*** Available Device: _DeviceAttributes(/job:worker/replica:0/task:0/device:TPU:0, TPU, 0, 0)\n"
          ],
          "name": "stdout"
        },
        {
          "output_type": "stream",
          "text": [
            "INFO:tensorflow:*** Available Device: _DeviceAttributes(/job:worker/replica:0/task:0/device:TPU:0, TPU, 0, 0)\n"
          ],
          "name": "stderr"
        },
        {
          "output_type": "stream",
          "text": [
            "INFO:tensorflow:*** Available Device: _DeviceAttributes(/job:worker/replica:0/task:0/device:TPU:1, TPU, 0, 0)\n"
          ],
          "name": "stdout"
        },
        {
          "output_type": "stream",
          "text": [
            "INFO:tensorflow:*** Available Device: _DeviceAttributes(/job:worker/replica:0/task:0/device:TPU:1, TPU, 0, 0)\n"
          ],
          "name": "stderr"
        },
        {
          "output_type": "stream",
          "text": [
            "INFO:tensorflow:*** Available Device: _DeviceAttributes(/job:worker/replica:0/task:0/device:TPU:2, TPU, 0, 0)\n"
          ],
          "name": "stdout"
        },
        {
          "output_type": "stream",
          "text": [
            "INFO:tensorflow:*** Available Device: _DeviceAttributes(/job:worker/replica:0/task:0/device:TPU:2, TPU, 0, 0)\n"
          ],
          "name": "stderr"
        },
        {
          "output_type": "stream",
          "text": [
            "INFO:tensorflow:*** Available Device: _DeviceAttributes(/job:worker/replica:0/task:0/device:TPU:3, TPU, 0, 0)\n"
          ],
          "name": "stdout"
        },
        {
          "output_type": "stream",
          "text": [
            "INFO:tensorflow:*** Available Device: _DeviceAttributes(/job:worker/replica:0/task:0/device:TPU:3, TPU, 0, 0)\n"
          ],
          "name": "stderr"
        },
        {
          "output_type": "stream",
          "text": [
            "INFO:tensorflow:*** Available Device: _DeviceAttributes(/job:worker/replica:0/task:0/device:TPU:4, TPU, 0, 0)\n"
          ],
          "name": "stdout"
        },
        {
          "output_type": "stream",
          "text": [
            "INFO:tensorflow:*** Available Device: _DeviceAttributes(/job:worker/replica:0/task:0/device:TPU:4, TPU, 0, 0)\n"
          ],
          "name": "stderr"
        },
        {
          "output_type": "stream",
          "text": [
            "INFO:tensorflow:*** Available Device: _DeviceAttributes(/job:worker/replica:0/task:0/device:TPU:5, TPU, 0, 0)\n"
          ],
          "name": "stdout"
        },
        {
          "output_type": "stream",
          "text": [
            "INFO:tensorflow:*** Available Device: _DeviceAttributes(/job:worker/replica:0/task:0/device:TPU:5, TPU, 0, 0)\n"
          ],
          "name": "stderr"
        },
        {
          "output_type": "stream",
          "text": [
            "INFO:tensorflow:*** Available Device: _DeviceAttributes(/job:worker/replica:0/task:0/device:TPU:6, TPU, 0, 0)\n"
          ],
          "name": "stdout"
        },
        {
          "output_type": "stream",
          "text": [
            "INFO:tensorflow:*** Available Device: _DeviceAttributes(/job:worker/replica:0/task:0/device:TPU:6, TPU, 0, 0)\n"
          ],
          "name": "stderr"
        },
        {
          "output_type": "stream",
          "text": [
            "INFO:tensorflow:*** Available Device: _DeviceAttributes(/job:worker/replica:0/task:0/device:TPU:7, TPU, 0, 0)\n"
          ],
          "name": "stdout"
        },
        {
          "output_type": "stream",
          "text": [
            "INFO:tensorflow:*** Available Device: _DeviceAttributes(/job:worker/replica:0/task:0/device:TPU:7, TPU, 0, 0)\n"
          ],
          "name": "stderr"
        },
        {
          "output_type": "stream",
          "text": [
            "INFO:tensorflow:*** Available Device: _DeviceAttributes(/job:worker/replica:0/task:0/device:TPU_SYSTEM:0, TPU_SYSTEM, 0, 0)\n"
          ],
          "name": "stdout"
        },
        {
          "output_type": "stream",
          "text": [
            "INFO:tensorflow:*** Available Device: _DeviceAttributes(/job:worker/replica:0/task:0/device:TPU_SYSTEM:0, TPU_SYSTEM, 0, 0)\n"
          ],
          "name": "stderr"
        },
        {
          "output_type": "stream",
          "text": [
            "INFO:tensorflow:*** Available Device: _DeviceAttributes(/job:worker/replica:0/task:0/device:XLA_CPU:0, XLA_CPU, 0, 0)\n"
          ],
          "name": "stdout"
        },
        {
          "output_type": "stream",
          "text": [
            "INFO:tensorflow:*** Available Device: _DeviceAttributes(/job:worker/replica:0/task:0/device:XLA_CPU:0, XLA_CPU, 0, 0)\n",
            "Some layers from the model checkpoint at bert-base-uncased were not used when initializing TFBertModel: ['mlm___cls', 'nsp___cls']\n",
            "- This IS expected if you are initializing TFBertModel from the checkpoint of a model trained on another task or with another architecture (e.g. initializing a BertForSequenceClassification model from a BertForPreTraining model).\n",
            "- This IS NOT expected if you are initializing TFBertModel from the checkpoint of a model that you expect to be exactly identical (initializing a BertForSequenceClassification model from a BertForSequenceClassification model).\n",
            "All the layers of TFBertModel were initialized from the model checkpoint at bert-base-uncased.\n",
            "If your task is similar to the task the model of the checkpoint was trained on, you can already use TFBertModel for predictions without further training.\n"
          ],
          "name": "stderr"
        },
        {
          "output_type": "stream",
          "text": [
            "WARNING:tensorflow:The parameters `output_attentions`, `output_hidden_states` and `use_cache` cannot be updated when calling a model.They have to be set to True/False in the config object (i.e.: `config=XConfig.from_pretrained('name', output_attentions=True)`).\n"
          ],
          "name": "stdout"
        },
        {
          "output_type": "stream",
          "text": [
            "WARNING:tensorflow:The parameters `output_attentions`, `output_hidden_states` and `use_cache` cannot be updated when calling a model.They have to be set to True/False in the config object (i.e.: `config=XConfig.from_pretrained('name', output_attentions=True)`).\n"
          ],
          "name": "stderr"
        },
        {
          "output_type": "stream",
          "text": [
            "WARNING:tensorflow:The parameter `return_dict` cannot be set in graph mode and will always be set to `True`.\n"
          ],
          "name": "stdout"
        },
        {
          "output_type": "stream",
          "text": [
            "WARNING:tensorflow:The parameter `return_dict` cannot be set in graph mode and will always be set to `True`.\n"
          ],
          "name": "stderr"
        },
        {
          "output_type": "stream",
          "text": [
            "Model: \"model_4\"\n",
            "__________________________________________________________________________________________________\n",
            "Layer (type)                    Output Shape         Param #     Connected to                     \n",
            "==================================================================================================\n",
            "input_13 (InputLayer)           [(None, 384)]        0                                            \n",
            "__________________________________________________________________________________________________\n",
            "input_15 (InputLayer)           [(None, 384)]        0                                            \n",
            "__________________________________________________________________________________________________\n",
            "input_14 (InputLayer)           [(None, 384)]        0                                            \n",
            "__________________________________________________________________________________________________\n",
            "tf_bert_model_4 (TFBertModel)   TFBaseModelOutputWit 109482240   input_13[0][0]                   \n",
            "                                                                 input_15[0][0]                   \n",
            "                                                                 input_14[0][0]                   \n",
            "__________________________________________________________________________________________________\n",
            "start_logit (Dense)             (None, 384, 1)       768         tf_bert_model_4[0][0]            \n",
            "__________________________________________________________________________________________________\n",
            "end_logit (Dense)               (None, 384, 1)       768         tf_bert_model_4[0][0]            \n",
            "__________________________________________________________________________________________________\n",
            "flatten_8 (Flatten)             (None, 384)          0           start_logit[0][0]                \n",
            "__________________________________________________________________________________________________\n",
            "flatten_9 (Flatten)             (None, 384)          0           end_logit[0][0]                  \n",
            "__________________________________________________________________________________________________\n",
            "activation_8 (Activation)       (None, 384)          0           flatten_8[0][0]                  \n",
            "__________________________________________________________________________________________________\n",
            "activation_9 (Activation)       (None, 384)          0           flatten_9[0][0]                  \n",
            "==================================================================================================\n",
            "Total params: 109,483,776\n",
            "Trainable params: 109,483,776\n",
            "Non-trainable params: 0\n",
            "__________________________________________________________________________________________________\n"
          ],
          "name": "stdout"
        },
        {
          "output_type": "stream",
          "text": [
            "/usr/local/lib/python3.7/dist-packages/tensorflow/python/keras/optimizer_v2/optimizer_v2.py:375: UserWarning: The `lr` argument is deprecated, use `learning_rate` instead.\n",
            "  \"The `lr` argument is deprecated, use `learning_rate` instead.\")\n"
          ],
          "name": "stderr"
        }
      ]
    },
    {
      "cell_type": "markdown",
      "metadata": {
        "id": "Zs6UIfgMt4Bn"
      },
      "source": [
        "# Training and Fine Tuning\n"
      ]
    },
    {
      "cell_type": "code",
      "metadata": {
        "id": "WqTAlcJJ19-j",
        "colab": {
          "base_uri": "https://localhost:8080/"
        },
        "outputId": "1417f477-a72c-4a1f-82c3-0ac6275a2d2f"
      },
      "source": [
        "use_tpu = True\n",
        "if use_tpu:\n",
        "    # Create distribution strategy\n",
        "    tpu = tf.distribute.cluster_resolver.TPUClusterResolver()\n",
        "    tf.config.experimental_connect_to_cluster(tpu)\n",
        "    tf.tpu.experimental.initialize_tpu_system(tpu)\n",
        "    strategy = tf.distribute.experimental.TPUStrategy(tpu)\n",
        "\n",
        "    # Create model\n",
        "    with strategy.scope():\n",
        "        model = create_model()\n",
        "else:\n",
        "    model = create_model()\n",
        "\n",
        "model.summary()"
      ],
      "execution_count": 302,
      "outputs": [
        {
          "output_type": "stream",
          "text": [
            "Some layers from the model checkpoint at bert-base-uncased were not used when initializing TFBertModel: ['mlm___cls', 'nsp___cls']\n",
            "- This IS expected if you are initializing TFBertModel from the checkpoint of a model trained on another task or with another architecture (e.g. initializing a BertForSequenceClassification model from a BertForPreTraining model).\n",
            "- This IS NOT expected if you are initializing TFBertModel from the checkpoint of a model that you expect to be exactly identical (initializing a BertForSequenceClassification model from a BertForSequenceClassification model).\n",
            "All the layers of TFBertModel were initialized from the model checkpoint at bert-base-uncased.\n",
            "If your task is similar to the task the model of the checkpoint was trained on, you can already use TFBertModel for predictions without further training.\n"
          ],
          "name": "stderr"
        },
        {
          "output_type": "stream",
          "text": [
            "WARNING:tensorflow:The parameters `output_attentions`, `output_hidden_states` and `use_cache` cannot be updated when calling a model.They have to be set to True/False in the config object (i.e.: `config=XConfig.from_pretrained('name', output_attentions=True)`).\n"
          ],
          "name": "stdout"
        },
        {
          "output_type": "stream",
          "text": [
            "WARNING:tensorflow:The parameters `output_attentions`, `output_hidden_states` and `use_cache` cannot be updated when calling a model.They have to be set to True/False in the config object (i.e.: `config=XConfig.from_pretrained('name', output_attentions=True)`).\n"
          ],
          "name": "stderr"
        },
        {
          "output_type": "stream",
          "text": [
            "WARNING:tensorflow:The parameter `return_dict` cannot be set in graph mode and will always be set to `True`.\n"
          ],
          "name": "stdout"
        },
        {
          "output_type": "stream",
          "text": [
            "WARNING:tensorflow:The parameter `return_dict` cannot be set in graph mode and will always be set to `True`.\n"
          ],
          "name": "stderr"
        },
        {
          "output_type": "stream",
          "text": [
            "Model: \"model_5\"\n",
            "__________________________________________________________________________________________________\n",
            "Layer (type)                    Output Shape         Param #     Connected to                     \n",
            "==================================================================================================\n",
            "input_16 (InputLayer)           [(None, 384)]        0                                            \n",
            "__________________________________________________________________________________________________\n",
            "input_18 (InputLayer)           [(None, 384)]        0                                            \n",
            "__________________________________________________________________________________________________\n",
            "input_17 (InputLayer)           [(None, 384)]        0                                            \n",
            "__________________________________________________________________________________________________\n",
            "tf_bert_model_5 (TFBertModel)   TFBaseModelOutputWit 109482240   input_16[0][0]                   \n",
            "                                                                 input_18[0][0]                   \n",
            "                                                                 input_17[0][0]                   \n",
            "__________________________________________________________________________________________________\n",
            "start_logit (Dense)             (None, 384, 1)       768         tf_bert_model_5[0][0]            \n",
            "__________________________________________________________________________________________________\n",
            "end_logit (Dense)               (None, 384, 1)       768         tf_bert_model_5[0][0]            \n",
            "__________________________________________________________________________________________________\n",
            "flatten_10 (Flatten)            (None, 384)          0           start_logit[0][0]                \n",
            "__________________________________________________________________________________________________\n",
            "flatten_11 (Flatten)            (None, 384)          0           end_logit[0][0]                  \n",
            "__________________________________________________________________________________________________\n",
            "activation_10 (Activation)      (None, 384)          0           flatten_10[0][0]                 \n",
            "__________________________________________________________________________________________________\n",
            "activation_11 (Activation)      (None, 384)          0           flatten_11[0][0]                 \n",
            "==================================================================================================\n",
            "Total params: 109,483,776\n",
            "Trainable params: 109,483,776\n",
            "Non-trainable params: 0\n",
            "__________________________________________________________________________________________________\n"
          ],
          "name": "stdout"
        },
        {
          "output_type": "stream",
          "text": [
            "/usr/local/lib/python3.7/dist-packages/tensorflow/python/keras/optimizer_v2/optimizer_v2.py:375: UserWarning: The `lr` argument is deprecated, use `learning_rate` instead.\n",
            "  \"The `lr` argument is deprecated, use `learning_rate` instead.\")\n"
          ],
          "name": "stderr"
        }
      ]
    },
    {
      "cell_type": "code",
      "metadata": {
        "colab": {
          "base_uri": "https://localhost:8080/"
        },
        "id": "5MA_-0td2PWq",
        "outputId": "f8069794-4d2f-4f67-e080-6dec5d08e322"
      },
      "source": [
        "model.fit(\n",
        "    x_train_ft,\n",
        "    y_train_ft,\n",
        "    epochs=600,  # For demonstration, 3 epochs are recommended\n",
        "    batch_size=64\n",
        ")"
      ],
      "execution_count": 303,
      "outputs": [
        {
          "output_type": "stream",
          "text": [
            "1/1 [==============================] - 84s 84s/step - loss: 12.7406 - activation_10_loss: 6.5858 - activation_11_loss: 6.1548\n",
            "Epoch 2/600\n",
            "1/1 [==============================] - 0s 153ms/step - loss: 10.4766 - activation_10_loss: 5.3683 - activation_11_loss: 5.1083\n",
            "Epoch 3/600\n",
            "1/1 [==============================] - 0s 156ms/step - loss: 8.9372 - activation_10_loss: 4.6228 - activation_11_loss: 4.3144\n",
            "Epoch 4/600\n",
            "1/1 [==============================] - 0s 154ms/step - loss: 7.6306 - activation_10_loss: 3.9365 - activation_11_loss: 3.6941\n",
            "Epoch 5/600\n",
            "1/1 [==============================] - 0s 154ms/step - loss: 6.5395 - activation_10_loss: 3.3370 - activation_11_loss: 3.2025\n",
            "Epoch 6/600\n",
            "1/1 [==============================] - 0s 153ms/step - loss: 5.9616 - activation_10_loss: 2.9431 - activation_11_loss: 3.0186\n",
            "Epoch 7/600\n",
            "1/1 [==============================] - 0s 155ms/step - loss: 5.3324 - activation_10_loss: 2.5745 - activation_11_loss: 2.7580\n",
            "Epoch 8/600\n",
            "1/1 [==============================] - 0s 152ms/step - loss: 5.0432 - activation_10_loss: 2.4271 - activation_11_loss: 2.6161\n",
            "Epoch 9/600\n",
            "1/1 [==============================] - 0s 154ms/step - loss: 4.6574 - activation_10_loss: 2.0975 - activation_11_loss: 2.5598\n",
            "Epoch 10/600\n",
            "1/1 [==============================] - 0s 155ms/step - loss: 4.1163 - activation_10_loss: 1.8880 - activation_11_loss: 2.2284\n",
            "Epoch 11/600\n",
            "1/1 [==============================] - 0s 151ms/step - loss: 3.7425 - activation_10_loss: 1.5988 - activation_11_loss: 2.1437\n",
            "Epoch 12/600\n",
            "1/1 [==============================] - 0s 153ms/step - loss: 3.3934 - activation_10_loss: 1.3751 - activation_11_loss: 2.0183\n",
            "Epoch 13/600\n",
            "1/1 [==============================] - 0s 152ms/step - loss: 3.2742 - activation_10_loss: 1.3741 - activation_11_loss: 1.9001\n",
            "Epoch 14/600\n",
            "1/1 [==============================] - 0s 152ms/step - loss: 2.7701 - activation_10_loss: 1.0220 - activation_11_loss: 1.7481\n",
            "Epoch 15/600\n",
            "1/1 [==============================] - 0s 155ms/step - loss: 2.5724 - activation_10_loss: 0.8570 - activation_11_loss: 1.7154\n",
            "Epoch 16/600\n",
            "1/1 [==============================] - 0s 154ms/step - loss: 2.2817 - activation_10_loss: 0.7375 - activation_11_loss: 1.5442\n",
            "Epoch 17/600\n",
            "1/1 [==============================] - 0s 154ms/step - loss: 1.9870 - activation_10_loss: 0.6258 - activation_11_loss: 1.3611\n",
            "Epoch 18/600\n",
            "1/1 [==============================] - 0s 152ms/step - loss: 1.6753 - activation_10_loss: 0.5298 - activation_11_loss: 1.1455\n",
            "Epoch 19/600\n",
            "1/1 [==============================] - 0s 151ms/step - loss: 1.3980 - activation_10_loss: 0.4456 - activation_11_loss: 0.9523\n",
            "Epoch 20/600\n",
            "1/1 [==============================] - 0s 155ms/step - loss: 1.2732 - activation_10_loss: 0.3668 - activation_11_loss: 0.9063\n",
            "Epoch 21/600\n",
            "1/1 [==============================] - 0s 155ms/step - loss: 1.0435 - activation_10_loss: 0.3440 - activation_11_loss: 0.6994\n",
            "Epoch 22/600\n",
            "1/1 [==============================] - 0s 157ms/step - loss: 1.0443 - activation_10_loss: 0.1807 - activation_11_loss: 0.8636\n",
            "Epoch 23/600\n",
            "1/1 [==============================] - 0s 153ms/step - loss: 0.8808 - activation_10_loss: 0.1808 - activation_11_loss: 0.6999\n",
            "Epoch 24/600\n",
            "1/1 [==============================] - 0s 154ms/step - loss: 0.8527 - activation_10_loss: 0.2195 - activation_11_loss: 0.6332\n",
            "Epoch 25/600\n",
            "1/1 [==============================] - 0s 152ms/step - loss: 0.5627 - activation_10_loss: 0.0786 - activation_11_loss: 0.4841\n",
            "Epoch 26/600\n",
            "1/1 [==============================] - 0s 149ms/step - loss: 0.6826 - activation_10_loss: 0.2025 - activation_11_loss: 0.4801\n",
            "Epoch 27/600\n",
            "1/1 [==============================] - 0s 155ms/step - loss: 0.4605 - activation_10_loss: 0.1505 - activation_11_loss: 0.3100\n",
            "Epoch 28/600\n",
            "1/1 [==============================] - 0s 154ms/step - loss: 0.4505 - activation_10_loss: 0.1210 - activation_11_loss: 0.3295\n",
            "Epoch 29/600\n",
            "1/1 [==============================] - 0s 154ms/step - loss: 0.3527 - activation_10_loss: 0.1024 - activation_11_loss: 0.2503\n",
            "Epoch 30/600\n",
            "1/1 [==============================] - 0s 154ms/step - loss: 0.3670 - activation_10_loss: 0.0870 - activation_11_loss: 0.2800\n",
            "Epoch 31/600\n",
            "1/1 [==============================] - 0s 161ms/step - loss: 0.3649 - activation_10_loss: 0.1410 - activation_11_loss: 0.2238\n",
            "Epoch 32/600\n",
            "1/1 [==============================] - 0s 151ms/step - loss: 0.3056 - activation_10_loss: 0.0516 - activation_11_loss: 0.2541\n",
            "Epoch 33/600\n",
            "1/1 [==============================] - 0s 152ms/step - loss: 0.2169 - activation_10_loss: 0.0576 - activation_11_loss: 0.1594\n",
            "Epoch 34/600\n",
            "1/1 [==============================] - 0s 157ms/step - loss: 0.2435 - activation_10_loss: 0.0702 - activation_11_loss: 0.1733\n",
            "Epoch 35/600\n",
            "1/1 [==============================] - 0s 154ms/step - loss: 0.2326 - activation_10_loss: 0.0572 - activation_11_loss: 0.1754\n",
            "Epoch 36/600\n",
            "1/1 [==============================] - 0s 153ms/step - loss: 0.1907 - activation_10_loss: 0.0498 - activation_11_loss: 0.1409\n",
            "Epoch 37/600\n",
            "1/1 [==============================] - 0s 153ms/step - loss: 0.2264 - activation_10_loss: 0.0419 - activation_11_loss: 0.1845\n",
            "Epoch 38/600\n",
            "1/1 [==============================] - 0s 156ms/step - loss: 0.1798 - activation_10_loss: 0.0363 - activation_11_loss: 0.1435\n",
            "Epoch 39/600\n",
            "1/1 [==============================] - 0s 155ms/step - loss: 0.1474 - activation_10_loss: 0.0720 - activation_11_loss: 0.0754\n",
            "Epoch 40/600\n",
            "1/1 [==============================] - 0s 154ms/step - loss: 0.1241 - activation_10_loss: 0.0158 - activation_11_loss: 0.1083\n",
            "Epoch 41/600\n",
            "1/1 [==============================] - 0s 153ms/step - loss: 0.1384 - activation_10_loss: 0.0222 - activation_11_loss: 0.1162\n",
            "Epoch 42/600\n",
            "1/1 [==============================] - 0s 153ms/step - loss: 0.2081 - activation_10_loss: 0.0459 - activation_11_loss: 0.1622\n",
            "Epoch 43/600\n",
            "1/1 [==============================] - 0s 152ms/step - loss: 0.1497 - activation_10_loss: 0.0524 - activation_11_loss: 0.0974\n",
            "Epoch 44/600\n",
            "1/1 [==============================] - 0s 153ms/step - loss: 0.1655 - activation_10_loss: 0.0233 - activation_11_loss: 0.1422\n",
            "Epoch 45/600\n",
            "1/1 [==============================] - 0s 158ms/step - loss: 0.1118 - activation_10_loss: 0.0055 - activation_11_loss: 0.1063\n",
            "Epoch 46/600\n",
            "1/1 [==============================] - 0s 151ms/step - loss: 0.1060 - activation_10_loss: 0.0255 - activation_11_loss: 0.0805\n",
            "Epoch 47/600\n",
            "1/1 [==============================] - 0s 152ms/step - loss: 0.1446 - activation_10_loss: 0.0121 - activation_11_loss: 0.1324\n",
            "Epoch 48/600\n",
            "1/1 [==============================] - 0s 152ms/step - loss: 0.1168 - activation_10_loss: 0.0109 - activation_11_loss: 0.1059\n",
            "Epoch 49/600\n",
            "1/1 [==============================] - 0s 153ms/step - loss: 0.0905 - activation_10_loss: 0.0099 - activation_11_loss: 0.0806\n",
            "Epoch 50/600\n",
            "1/1 [==============================] - 0s 155ms/step - loss: 0.0878 - activation_10_loss: 0.0136 - activation_11_loss: 0.0742\n",
            "Epoch 51/600\n",
            "1/1 [==============================] - 0s 154ms/step - loss: 0.0814 - activation_10_loss: 0.0044 - activation_11_loss: 0.0770\n",
            "Epoch 52/600\n",
            "1/1 [==============================] - 0s 154ms/step - loss: 0.0766 - activation_10_loss: 0.0049 - activation_11_loss: 0.0717\n",
            "Epoch 53/600\n",
            "1/1 [==============================] - 0s 157ms/step - loss: 0.0987 - activation_10_loss: 0.0022 - activation_11_loss: 0.0964\n",
            "Epoch 54/600\n",
            "1/1 [==============================] - 0s 154ms/step - loss: 0.1231 - activation_10_loss: 0.0021 - activation_11_loss: 0.1210\n",
            "Epoch 55/600\n",
            "1/1 [==============================] - 0s 155ms/step - loss: 0.0706 - activation_10_loss: 0.0035 - activation_11_loss: 0.0671\n",
            "Epoch 56/600\n",
            "1/1 [==============================] - 0s 151ms/step - loss: 0.0544 - activation_10_loss: 0.0024 - activation_11_loss: 0.0519\n",
            "Epoch 57/600\n",
            "1/1 [==============================] - 0s 154ms/step - loss: 0.0524 - activation_10_loss: 0.0045 - activation_11_loss: 0.0479\n",
            "Epoch 58/600\n",
            "1/1 [==============================] - 0s 160ms/step - loss: 0.0903 - activation_10_loss: 0.0265 - activation_11_loss: 0.0637\n",
            "Epoch 59/600\n",
            "1/1 [==============================] - 0s 156ms/step - loss: 0.0975 - activation_10_loss: 0.0075 - activation_11_loss: 0.0899\n",
            "Epoch 60/600\n",
            "1/1 [==============================] - 0s 153ms/step - loss: 0.0551 - activation_10_loss: 0.0113 - activation_11_loss: 0.0438\n",
            "Epoch 61/600\n",
            "1/1 [==============================] - 0s 155ms/step - loss: 0.0721 - activation_10_loss: 0.0030 - activation_11_loss: 0.0691\n",
            "Epoch 62/600\n",
            "1/1 [==============================] - 0s 155ms/step - loss: 0.0895 - activation_10_loss: 0.0024 - activation_11_loss: 0.0871\n",
            "Epoch 63/600\n",
            "1/1 [==============================] - 0s 154ms/step - loss: 0.0208 - activation_10_loss: 0.0014 - activation_11_loss: 0.0193\n",
            "Epoch 64/600\n",
            "1/1 [==============================] - 0s 154ms/step - loss: 0.0448 - activation_10_loss: 0.0055 - activation_11_loss: 0.0393\n",
            "Epoch 65/600\n",
            "1/1 [==============================] - 0s 152ms/step - loss: 0.0342 - activation_10_loss: 0.0041 - activation_11_loss: 0.0301\n",
            "Epoch 66/600\n",
            "1/1 [==============================] - 0s 150ms/step - loss: 0.0469 - activation_10_loss: 0.0040 - activation_11_loss: 0.0429\n",
            "Epoch 67/600\n",
            "1/1 [==============================] - 0s 159ms/step - loss: 0.0294 - activation_10_loss: 0.0109 - activation_11_loss: 0.0185\n",
            "Epoch 68/600\n",
            "1/1 [==============================] - 0s 154ms/step - loss: 0.1231 - activation_10_loss: 0.0182 - activation_11_loss: 0.1048\n",
            "Epoch 69/600\n",
            "1/1 [==============================] - 0s 154ms/step - loss: 0.0978 - activation_10_loss: 0.0153 - activation_11_loss: 0.0825\n",
            "Epoch 70/600\n",
            "1/1 [==============================] - 0s 151ms/step - loss: 0.0464 - activation_10_loss: 0.0077 - activation_11_loss: 0.0387\n",
            "Epoch 71/600\n",
            "1/1 [==============================] - 0s 155ms/step - loss: 0.0172 - activation_10_loss: 0.0024 - activation_11_loss: 0.0148\n",
            "Epoch 72/600\n",
            "1/1 [==============================] - 0s 154ms/step - loss: 0.0113 - activation_10_loss: 0.0065 - activation_11_loss: 0.0049\n",
            "Epoch 73/600\n",
            "1/1 [==============================] - 0s 158ms/step - loss: 0.0406 - activation_10_loss: 0.0040 - activation_11_loss: 0.0366\n",
            "Epoch 74/600\n",
            "1/1 [==============================] - 0s 151ms/step - loss: 0.0450 - activation_10_loss: 0.0022 - activation_11_loss: 0.0428\n",
            "Epoch 75/600\n",
            "1/1 [==============================] - 0s 154ms/step - loss: 0.0446 - activation_10_loss: 0.0023 - activation_11_loss: 0.0423\n",
            "Epoch 76/600\n",
            "1/1 [==============================] - 0s 160ms/step - loss: 0.0240 - activation_10_loss: 0.0054 - activation_11_loss: 0.0187\n",
            "Epoch 77/600\n",
            "1/1 [==============================] - 0s 156ms/step - loss: 0.0115 - activation_10_loss: 0.0070 - activation_11_loss: 0.0045\n",
            "Epoch 78/600\n",
            "1/1 [==============================] - 0s 155ms/step - loss: 0.0101 - activation_10_loss: 0.0017 - activation_11_loss: 0.0084\n",
            "Epoch 79/600\n",
            "1/1 [==============================] - 0s 154ms/step - loss: 0.0104 - activation_10_loss: 0.0046 - activation_11_loss: 0.0059\n",
            "Epoch 80/600\n",
            "1/1 [==============================] - 0s 149ms/step - loss: 0.0105 - activation_10_loss: 0.0029 - activation_11_loss: 0.0076\n",
            "Epoch 81/600\n",
            "1/1 [==============================] - 0s 154ms/step - loss: 0.0144 - activation_10_loss: 0.0024 - activation_11_loss: 0.0120\n",
            "Epoch 82/600\n",
            "1/1 [==============================] - 0s 159ms/step - loss: 0.0065 - activation_10_loss: 0.0016 - activation_11_loss: 0.0050\n",
            "Epoch 83/600\n",
            "1/1 [==============================] - 0s 155ms/step - loss: 0.0063 - activation_10_loss: 0.0023 - activation_11_loss: 0.0040\n",
            "Epoch 84/600\n",
            "1/1 [==============================] - 0s 155ms/step - loss: 0.0113 - activation_10_loss: 0.0078 - activation_11_loss: 0.0035\n",
            "Epoch 85/600\n",
            "1/1 [==============================] - 0s 155ms/step - loss: 0.0096 - activation_10_loss: 0.0070 - activation_11_loss: 0.0026\n",
            "Epoch 86/600\n",
            "1/1 [==============================] - 0s 157ms/step - loss: 0.0112 - activation_10_loss: 0.0056 - activation_11_loss: 0.0055\n",
            "Epoch 87/600\n",
            "1/1 [==============================] - 0s 152ms/step - loss: 0.0068 - activation_10_loss: 0.0038 - activation_11_loss: 0.0030\n",
            "Epoch 88/600\n",
            "1/1 [==============================] - 0s 152ms/step - loss: 0.0041 - activation_10_loss: 7.0158e-04 - activation_11_loss: 0.0034\n",
            "Epoch 89/600\n",
            "1/1 [==============================] - 0s 156ms/step - loss: 0.0036 - activation_10_loss: 0.0014 - activation_11_loss: 0.0022\n",
            "Epoch 90/600\n",
            "1/1 [==============================] - 0s 153ms/step - loss: 0.0029 - activation_10_loss: 0.0011 - activation_11_loss: 0.0019\n",
            "Epoch 91/600\n",
            "1/1 [==============================] - 0s 154ms/step - loss: 0.0049 - activation_10_loss: 0.0019 - activation_11_loss: 0.0029\n",
            "Epoch 92/600\n",
            "1/1 [==============================] - 0s 156ms/step - loss: 0.0095 - activation_10_loss: 8.8892e-04 - activation_11_loss: 0.0087\n",
            "Epoch 93/600\n",
            "1/1 [==============================] - 0s 154ms/step - loss: 0.0039 - activation_10_loss: 7.4072e-04 - activation_11_loss: 0.0031\n",
            "Epoch 94/600\n",
            "1/1 [==============================] - 0s 155ms/step - loss: 0.0028 - activation_10_loss: 7.3780e-04 - activation_11_loss: 0.0020\n",
            "Epoch 95/600\n",
            "1/1 [==============================] - 0s 153ms/step - loss: 0.0038 - activation_10_loss: 9.6257e-04 - activation_11_loss: 0.0029\n",
            "Epoch 96/600\n",
            "1/1 [==============================] - 0s 152ms/step - loss: 0.0026 - activation_10_loss: 8.2564e-04 - activation_11_loss: 0.0018\n",
            "Epoch 97/600\n",
            "1/1 [==============================] - 0s 155ms/step - loss: 0.0053 - activation_10_loss: 0.0013 - activation_11_loss: 0.0040\n",
            "Epoch 98/600\n",
            "1/1 [==============================] - 0s 152ms/step - loss: 0.0104 - activation_10_loss: 0.0012 - activation_11_loss: 0.0092\n",
            "Epoch 99/600\n",
            "1/1 [==============================] - 0s 154ms/step - loss: 0.0029 - activation_10_loss: 5.8374e-04 - activation_11_loss: 0.0024\n",
            "Epoch 100/600\n",
            "1/1 [==============================] - 0s 157ms/step - loss: 0.0041 - activation_10_loss: 0.0023 - activation_11_loss: 0.0018\n",
            "Epoch 101/600\n",
            "1/1 [==============================] - 0s 155ms/step - loss: 0.0060 - activation_10_loss: 0.0012 - activation_11_loss: 0.0048\n",
            "Epoch 102/600\n",
            "1/1 [==============================] - 0s 157ms/step - loss: 0.0028 - activation_10_loss: 9.0336e-04 - activation_11_loss: 0.0019\n",
            "Epoch 103/600\n",
            "1/1 [==============================] - 0s 155ms/step - loss: 0.0051 - activation_10_loss: 0.0014 - activation_11_loss: 0.0037\n",
            "Epoch 104/600\n",
            "1/1 [==============================] - 0s 157ms/step - loss: 0.0034 - activation_10_loss: 9.4779e-04 - activation_11_loss: 0.0025\n",
            "Epoch 105/600\n",
            "1/1 [==============================] - 0s 153ms/step - loss: 0.0024 - activation_10_loss: 6.5606e-04 - activation_11_loss: 0.0018\n",
            "Epoch 106/600\n",
            "1/1 [==============================] - 0s 156ms/step - loss: 0.0018 - activation_10_loss: 5.3057e-04 - activation_11_loss: 0.0013\n",
            "Epoch 107/600\n",
            "1/1 [==============================] - 0s 155ms/step - loss: 0.0018 - activation_10_loss: 6.0533e-04 - activation_11_loss: 0.0012\n",
            "Epoch 108/600\n",
            "1/1 [==============================] - 0s 156ms/step - loss: 0.0035 - activation_10_loss: 0.0015 - activation_11_loss: 0.0020\n",
            "Epoch 109/600\n",
            "1/1 [==============================] - 0s 155ms/step - loss: 0.0023 - activation_10_loss: 8.4987e-04 - activation_11_loss: 0.0015\n",
            "Epoch 110/600\n",
            "1/1 [==============================] - 0s 155ms/step - loss: 0.0070 - activation_10_loss: 0.0015 - activation_11_loss: 0.0055\n",
            "Epoch 111/600\n",
            "1/1 [==============================] - 0s 154ms/step - loss: 0.0025 - activation_10_loss: 0.0012 - activation_11_loss: 0.0014\n",
            "Epoch 112/600\n",
            "1/1 [==============================] - 0s 154ms/step - loss: 0.0024 - activation_10_loss: 0.0012 - activation_11_loss: 0.0013\n",
            "Epoch 113/600\n",
            "1/1 [==============================] - 0s 156ms/step - loss: 0.0029 - activation_10_loss: 4.4279e-04 - activation_11_loss: 0.0025\n",
            "Epoch 114/600\n",
            "1/1 [==============================] - 0s 158ms/step - loss: 0.0033 - activation_10_loss: 0.0023 - activation_11_loss: 0.0010\n",
            "Epoch 115/600\n",
            "1/1 [==============================] - 0s 155ms/step - loss: 0.0018 - activation_10_loss: 5.9791e-04 - activation_11_loss: 0.0012\n",
            "Epoch 116/600\n",
            "1/1 [==============================] - 0s 155ms/step - loss: 0.0020 - activation_10_loss: 5.3359e-04 - activation_11_loss: 0.0014\n",
            "Epoch 117/600\n",
            "1/1 [==============================] - 0s 157ms/step - loss: 0.0012 - activation_10_loss: 3.9783e-04 - activation_11_loss: 7.9125e-04\n",
            "Epoch 118/600\n",
            "1/1 [==============================] - 0s 156ms/step - loss: 0.0014 - activation_10_loss: 5.0370e-04 - activation_11_loss: 9.3801e-04\n",
            "Epoch 119/600\n",
            "1/1 [==============================] - 0s 157ms/step - loss: 0.0019 - activation_10_loss: 4.5742e-04 - activation_11_loss: 0.0015\n",
            "Epoch 120/600\n",
            "1/1 [==============================] - 0s 156ms/step - loss: 0.0019 - activation_10_loss: 6.6902e-04 - activation_11_loss: 0.0012\n",
            "Epoch 121/600\n",
            "1/1 [==============================] - 0s 159ms/step - loss: 0.0068 - activation_10_loss: 6.9734e-04 - activation_11_loss: 0.0061\n",
            "Epoch 122/600\n",
            "1/1 [==============================] - 0s 159ms/step - loss: 0.0011 - activation_10_loss: 4.0407e-04 - activation_11_loss: 7.3151e-04\n",
            "Epoch 123/600\n",
            "1/1 [==============================] - 0s 157ms/step - loss: 0.0011 - activation_10_loss: 4.1649e-04 - activation_11_loss: 6.4140e-04\n",
            "Epoch 124/600\n",
            "1/1 [==============================] - 0s 161ms/step - loss: 0.0014 - activation_10_loss: 5.3467e-04 - activation_11_loss: 8.2221e-04\n",
            "Epoch 125/600\n",
            "1/1 [==============================] - 0s 162ms/step - loss: 0.0014 - activation_10_loss: 4.3460e-04 - activation_11_loss: 9.2656e-04\n",
            "Epoch 126/600\n",
            "1/1 [==============================] - 0s 161ms/step - loss: 0.0018 - activation_10_loss: 4.9830e-04 - activation_11_loss: 0.0013\n",
            "Epoch 127/600\n",
            "1/1 [==============================] - 0s 159ms/step - loss: 0.0016 - activation_10_loss: 4.3420e-04 - activation_11_loss: 0.0012\n",
            "Epoch 128/600\n",
            "1/1 [==============================] - 0s 157ms/step - loss: 0.0046 - activation_10_loss: 0.0014 - activation_11_loss: 0.0032\n",
            "Epoch 129/600\n",
            "1/1 [==============================] - 0s 156ms/step - loss: 0.0016 - activation_10_loss: 6.2693e-04 - activation_11_loss: 9.9112e-04\n",
            "Epoch 130/600\n",
            "1/1 [==============================] - 0s 156ms/step - loss: 0.0012 - activation_10_loss: 2.7430e-04 - activation_11_loss: 9.4908e-04\n",
            "Epoch 131/600\n",
            "1/1 [==============================] - 0s 158ms/step - loss: 0.0016 - activation_10_loss: 6.8485e-04 - activation_11_loss: 8.7585e-04\n",
            "Epoch 132/600\n",
            "1/1 [==============================] - 0s 160ms/step - loss: 0.0053 - activation_10_loss: 0.0045 - activation_11_loss: 8.1675e-04\n",
            "Epoch 133/600\n",
            "1/1 [==============================] - 0s 158ms/step - loss: 0.0011 - activation_10_loss: 3.9676e-04 - activation_11_loss: 6.6404e-04\n",
            "Epoch 134/600\n",
            "1/1 [==============================] - 0s 157ms/step - loss: 0.0013 - activation_10_loss: 4.6942e-04 - activation_11_loss: 8.1059e-04\n",
            "Epoch 135/600\n",
            "1/1 [==============================] - 0s 162ms/step - loss: 0.0039 - activation_10_loss: 4.7773e-04 - activation_11_loss: 0.0034\n",
            "Epoch 136/600\n",
            "1/1 [==============================] - 0s 153ms/step - loss: 0.0031 - activation_10_loss: 3.8401e-04 - activation_11_loss: 0.0027\n",
            "Epoch 137/600\n",
            "1/1 [==============================] - 0s 156ms/step - loss: 0.0012 - activation_10_loss: 5.6669e-04 - activation_11_loss: 6.2807e-04\n",
            "Epoch 138/600\n",
            "1/1 [==============================] - 0s 156ms/step - loss: 0.0026 - activation_10_loss: 3.3046e-04 - activation_11_loss: 0.0022\n",
            "Epoch 139/600\n",
            "1/1 [==============================] - 0s 151ms/step - loss: 8.6080e-04 - activation_10_loss: 2.5829e-04 - activation_11_loss: 6.0251e-04\n",
            "Epoch 140/600\n",
            "1/1 [==============================] - 0s 156ms/step - loss: 7.4033e-04 - activation_10_loss: 2.4020e-04 - activation_11_loss: 5.0014e-04\n",
            "Epoch 141/600\n",
            "1/1 [==============================] - 0s 155ms/step - loss: 0.0020 - activation_10_loss: 4.1625e-04 - activation_11_loss: 0.0016\n",
            "Epoch 142/600\n",
            "1/1 [==============================] - 0s 156ms/step - loss: 0.0011 - activation_10_loss: 5.0423e-04 - activation_11_loss: 5.6788e-04\n",
            "Epoch 143/600\n",
            "1/1 [==============================] - 0s 156ms/step - loss: 0.0018 - activation_10_loss: 4.1433e-04 - activation_11_loss: 0.0014\n",
            "Epoch 144/600\n",
            "1/1 [==============================] - 0s 160ms/step - loss: 0.0012 - activation_10_loss: 3.2529e-04 - activation_11_loss: 8.6163e-04\n",
            "Epoch 145/600\n",
            "1/1 [==============================] - 0s 156ms/step - loss: 0.0011 - activation_10_loss: 7.1551e-04 - activation_11_loss: 4.0806e-04\n",
            "Epoch 146/600\n",
            "1/1 [==============================] - 0s 155ms/step - loss: 8.8285e-04 - activation_10_loss: 2.0965e-04 - activation_11_loss: 6.7319e-04\n",
            "Epoch 147/600\n",
            "1/1 [==============================] - 0s 155ms/step - loss: 0.0014 - activation_10_loss: 8.3075e-04 - activation_11_loss: 5.4416e-04\n",
            "Epoch 148/600\n",
            "1/1 [==============================] - 0s 152ms/step - loss: 9.7750e-04 - activation_10_loss: 4.3430e-04 - activation_11_loss: 5.4320e-04\n",
            "Epoch 149/600\n",
            "1/1 [==============================] - 0s 157ms/step - loss: 0.0011 - activation_10_loss: 4.8240e-04 - activation_11_loss: 5.7441e-04\n",
            "Epoch 150/600\n",
            "1/1 [==============================] - 0s 153ms/step - loss: 6.5332e-04 - activation_10_loss: 1.9107e-04 - activation_11_loss: 4.6224e-04\n",
            "Epoch 151/600\n",
            "1/1 [==============================] - 0s 156ms/step - loss: 0.0057 - activation_10_loss: 5.7103e-04 - activation_11_loss: 0.0051\n",
            "Epoch 152/600\n",
            "1/1 [==============================] - 0s 153ms/step - loss: 5.4347e-04 - activation_10_loss: 1.7512e-04 - activation_11_loss: 3.6835e-04\n",
            "Epoch 153/600\n",
            "1/1 [==============================] - 0s 155ms/step - loss: 7.4578e-04 - activation_10_loss: 3.0898e-04 - activation_11_loss: 4.3679e-04\n",
            "Epoch 154/600\n",
            "1/1 [==============================] - 0s 156ms/step - loss: 9.0920e-04 - activation_10_loss: 2.1432e-04 - activation_11_loss: 6.9487e-04\n",
            "Epoch 155/600\n",
            "1/1 [==============================] - 0s 161ms/step - loss: 5.6619e-04 - activation_10_loss: 1.4340e-04 - activation_11_loss: 4.2279e-04\n",
            "Epoch 156/600\n",
            "1/1 [==============================] - 0s 154ms/step - loss: 0.0010 - activation_10_loss: 3.3214e-04 - activation_11_loss: 6.7941e-04\n",
            "Epoch 157/600\n",
            "1/1 [==============================] - 0s 151ms/step - loss: 9.8874e-04 - activation_10_loss: 2.9347e-04 - activation_11_loss: 6.9527e-04\n",
            "Epoch 158/600\n",
            "1/1 [==============================] - 0s 151ms/step - loss: 0.0012 - activation_10_loss: 2.2653e-04 - activation_11_loss: 9.7277e-04\n",
            "Epoch 159/600\n",
            "1/1 [==============================] - 0s 156ms/step - loss: 0.0010 - activation_10_loss: 2.6054e-04 - activation_11_loss: 7.4987e-04\n",
            "Epoch 160/600\n",
            "1/1 [==============================] - 0s 153ms/step - loss: 0.0012 - activation_10_loss: 3.6180e-04 - activation_11_loss: 8.2575e-04\n",
            "Epoch 161/600\n",
            "1/1 [==============================] - 0s 156ms/step - loss: 0.0011 - activation_10_loss: 3.3889e-04 - activation_11_loss: 7.2880e-04\n",
            "Epoch 162/600\n",
            "1/1 [==============================] - 0s 155ms/step - loss: 0.0010 - activation_10_loss: 5.5844e-04 - activation_11_loss: 4.7048e-04\n",
            "Epoch 163/600\n",
            "1/1 [==============================] - 0s 160ms/step - loss: 6.8534e-04 - activation_10_loss: 1.8844e-04 - activation_11_loss: 4.9691e-04\n",
            "Epoch 164/600\n",
            "1/1 [==============================] - 0s 158ms/step - loss: 0.0039 - activation_10_loss: 1.6185e-04 - activation_11_loss: 0.0037\n",
            "Epoch 165/600\n",
            "1/1 [==============================] - 0s 159ms/step - loss: 0.0010 - activation_10_loss: 1.6893e-04 - activation_11_loss: 8.5616e-04\n",
            "Epoch 166/600\n",
            "1/1 [==============================] - 0s 157ms/step - loss: 6.5727e-04 - activation_10_loss: 2.6273e-04 - activation_11_loss: 3.9454e-04\n",
            "Epoch 167/600\n",
            "1/1 [==============================] - 0s 157ms/step - loss: 0.1254 - activation_10_loss: 4.7621e-04 - activation_11_loss: 0.1249\n",
            "Epoch 168/600\n",
            "1/1 [==============================] - 0s 157ms/step - loss: 0.0080 - activation_10_loss: 0.0011 - activation_11_loss: 0.0069\n",
            "Epoch 169/600\n",
            "1/1 [==============================] - 0s 152ms/step - loss: 0.2401 - activation_10_loss: 0.0016 - activation_11_loss: 0.2385\n",
            "Epoch 170/600\n",
            "1/1 [==============================] - 0s 158ms/step - loss: 0.1011 - activation_10_loss: 0.0042 - activation_11_loss: 0.0969\n",
            "Epoch 171/600\n",
            "1/1 [==============================] - 0s 158ms/step - loss: 0.0103 - activation_10_loss: 0.0020 - activation_11_loss: 0.0084\n",
            "Epoch 172/600\n",
            "1/1 [==============================] - 0s 152ms/step - loss: 0.0398 - activation_10_loss: 9.7645e-04 - activation_11_loss: 0.0389\n",
            "Epoch 173/600\n",
            "1/1 [==============================] - 0s 154ms/step - loss: 0.0413 - activation_10_loss: 0.0033 - activation_11_loss: 0.0379\n",
            "Epoch 174/600\n",
            "1/1 [==============================] - 0s 158ms/step - loss: 0.0036 - activation_10_loss: 0.0015 - activation_11_loss: 0.0021\n",
            "Epoch 175/600\n",
            "1/1 [==============================] - 0s 155ms/step - loss: 0.0280 - activation_10_loss: 0.0082 - activation_11_loss: 0.0198\n",
            "Epoch 176/600\n",
            "1/1 [==============================] - 0s 155ms/step - loss: 0.0344 - activation_10_loss: 0.0039 - activation_11_loss: 0.0305\n",
            "Epoch 177/600\n",
            "1/1 [==============================] - 0s 159ms/step - loss: 0.0143 - activation_10_loss: 0.0012 - activation_11_loss: 0.0132\n",
            "Epoch 178/600\n",
            "1/1 [==============================] - 0s 154ms/step - loss: 0.0774 - activation_10_loss: 0.0152 - activation_11_loss: 0.0622\n",
            "Epoch 179/600\n",
            "1/1 [==============================] - 0s 155ms/step - loss: 0.1348 - activation_10_loss: 0.0063 - activation_11_loss: 0.1285\n",
            "Epoch 180/600\n",
            "1/1 [==============================] - 0s 153ms/step - loss: 0.0023 - activation_10_loss: 6.3452e-04 - activation_11_loss: 0.0017\n",
            "Epoch 181/600\n",
            "1/1 [==============================] - 0s 159ms/step - loss: 0.0038 - activation_10_loss: 0.0014 - activation_11_loss: 0.0024\n",
            "Epoch 182/600\n",
            "1/1 [==============================] - 0s 158ms/step - loss: 0.0062 - activation_10_loss: 9.6127e-04 - activation_11_loss: 0.0053\n",
            "Epoch 183/600\n",
            "1/1 [==============================] - 0s 156ms/step - loss: 0.0257 - activation_10_loss: 7.9777e-04 - activation_11_loss: 0.0249\n",
            "Epoch 184/600\n",
            "1/1 [==============================] - 0s 160ms/step - loss: 0.0134 - activation_10_loss: 0.0012 - activation_11_loss: 0.0122\n",
            "Epoch 185/600\n",
            "1/1 [==============================] - 0s 159ms/step - loss: 0.0120 - activation_10_loss: 0.0023 - activation_11_loss: 0.0097\n",
            "Epoch 186/600\n",
            "1/1 [==============================] - 0s 156ms/step - loss: 0.0108 - activation_10_loss: 0.0034 - activation_11_loss: 0.0074\n",
            "Epoch 187/600\n",
            "1/1 [==============================] - 0s 160ms/step - loss: 0.0160 - activation_10_loss: 0.0017 - activation_11_loss: 0.0143\n",
            "Epoch 188/600\n",
            "1/1 [==============================] - 0s 157ms/step - loss: 0.0147 - activation_10_loss: 8.2240e-04 - activation_11_loss: 0.0139\n",
            "Epoch 189/600\n",
            "1/1 [==============================] - 0s 158ms/step - loss: 0.0515 - activation_10_loss: 0.0421 - activation_11_loss: 0.0094\n",
            "Epoch 190/600\n",
            "1/1 [==============================] - 0s 154ms/step - loss: 0.0077 - activation_10_loss: 5.5055e-04 - activation_11_loss: 0.0072\n",
            "Epoch 191/600\n",
            "1/1 [==============================] - 0s 156ms/step - loss: 0.0120 - activation_10_loss: 0.0064 - activation_11_loss: 0.0056\n",
            "Epoch 192/600\n",
            "1/1 [==============================] - 0s 153ms/step - loss: 0.0024 - activation_10_loss: 9.2062e-04 - activation_11_loss: 0.0015\n",
            "Epoch 193/600\n",
            "1/1 [==============================] - 0s 156ms/step - loss: 0.0054 - activation_10_loss: 0.0024 - activation_11_loss: 0.0030\n",
            "Epoch 194/600\n",
            "1/1 [==============================] - 0s 156ms/step - loss: 0.0060 - activation_10_loss: 0.0034 - activation_11_loss: 0.0027\n",
            "Epoch 195/600\n",
            "1/1 [==============================] - 0s 154ms/step - loss: 0.0112 - activation_10_loss: 0.0067 - activation_11_loss: 0.0045\n",
            "Epoch 196/600\n",
            "1/1 [==============================] - 0s 156ms/step - loss: 0.0553 - activation_10_loss: 0.0185 - activation_11_loss: 0.0368\n",
            "Epoch 197/600\n",
            "1/1 [==============================] - 0s 154ms/step - loss: 0.0075 - activation_10_loss: 0.0027 - activation_11_loss: 0.0048\n",
            "Epoch 198/600\n",
            "1/1 [==============================] - 0s 157ms/step - loss: 0.0115 - activation_10_loss: 0.0066 - activation_11_loss: 0.0049\n",
            "Epoch 199/600\n",
            "1/1 [==============================] - 0s 158ms/step - loss: 0.1058 - activation_10_loss: 0.0425 - activation_11_loss: 0.0633\n",
            "Epoch 200/600\n",
            "1/1 [==============================] - 0s 151ms/step - loss: 0.0058 - activation_10_loss: 9.5121e-04 - activation_11_loss: 0.0049\n",
            "Epoch 201/600\n",
            "1/1 [==============================] - 0s 158ms/step - loss: 0.0085 - activation_10_loss: 0.0020 - activation_11_loss: 0.0066\n",
            "Epoch 202/600\n",
            "1/1 [==============================] - 0s 154ms/step - loss: 0.0202 - activation_10_loss: 0.0021 - activation_11_loss: 0.0181\n",
            "Epoch 203/600\n",
            "1/1 [==============================] - 0s 155ms/step - loss: 0.0191 - activation_10_loss: 0.0014 - activation_11_loss: 0.0177\n",
            "Epoch 204/600\n",
            "1/1 [==============================] - 0s 159ms/step - loss: 0.0174 - activation_10_loss: 0.0057 - activation_11_loss: 0.0116\n",
            "Epoch 205/600\n",
            "1/1 [==============================] - 0s 156ms/step - loss: 0.0049 - activation_10_loss: 0.0012 - activation_11_loss: 0.0037\n",
            "Epoch 206/600\n",
            "1/1 [==============================] - 0s 154ms/step - loss: 0.0075 - activation_10_loss: 0.0016 - activation_11_loss: 0.0060\n",
            "Epoch 207/600\n",
            "1/1 [==============================] - 0s 159ms/step - loss: 0.0060 - activation_10_loss: 0.0016 - activation_11_loss: 0.0044\n",
            "Epoch 208/600\n",
            "1/1 [==============================] - 0s 153ms/step - loss: 0.0071 - activation_10_loss: 0.0041 - activation_11_loss: 0.0030\n",
            "Epoch 209/600\n",
            "1/1 [==============================] - 0s 154ms/step - loss: 0.0034 - activation_10_loss: 0.0013 - activation_11_loss: 0.0021\n",
            "Epoch 210/600\n",
            "1/1 [==============================] - 0s 157ms/step - loss: 0.0059 - activation_10_loss: 0.0014 - activation_11_loss: 0.0046\n",
            "Epoch 211/600\n",
            "1/1 [==============================] - 0s 160ms/step - loss: 0.0053 - activation_10_loss: 8.6113e-04 - activation_11_loss: 0.0044\n",
            "Epoch 212/600\n",
            "1/1 [==============================] - 0s 158ms/step - loss: 0.0034 - activation_10_loss: 0.0017 - activation_11_loss: 0.0017\n",
            "Epoch 213/600\n",
            "1/1 [==============================] - 0s 156ms/step - loss: 0.0041 - activation_10_loss: 6.0603e-04 - activation_11_loss: 0.0035\n",
            "Epoch 214/600\n",
            "1/1 [==============================] - 0s 155ms/step - loss: 0.0026 - activation_10_loss: 0.0011 - activation_11_loss: 0.0015\n",
            "Epoch 215/600\n",
            "1/1 [==============================] - 0s 156ms/step - loss: 0.0025 - activation_10_loss: 9.8705e-04 - activation_11_loss: 0.0016\n",
            "Epoch 216/600\n",
            "1/1 [==============================] - 0s 157ms/step - loss: 0.0021 - activation_10_loss: 5.0144e-04 - activation_11_loss: 0.0016\n",
            "Epoch 217/600\n",
            "1/1 [==============================] - 0s 158ms/step - loss: 0.0017 - activation_10_loss: 5.0336e-04 - activation_11_loss: 0.0012\n",
            "Epoch 218/600\n",
            "1/1 [==============================] - 0s 155ms/step - loss: 0.0020 - activation_10_loss: 7.6065e-04 - activation_11_loss: 0.0012\n",
            "Epoch 219/600\n",
            "1/1 [==============================] - 0s 152ms/step - loss: 0.0020 - activation_10_loss: 3.8981e-04 - activation_11_loss: 0.0016\n",
            "Epoch 220/600\n",
            "1/1 [==============================] - 0s 160ms/step - loss: 0.0036 - activation_10_loss: 5.1864e-04 - activation_11_loss: 0.0031\n",
            "Epoch 221/600\n",
            "1/1 [==============================] - 0s 159ms/step - loss: 0.0033 - activation_10_loss: 0.0025 - activation_11_loss: 7.6923e-04\n",
            "Epoch 222/600\n",
            "1/1 [==============================] - 0s 153ms/step - loss: 0.0020 - activation_10_loss: 0.0012 - activation_11_loss: 8.0245e-04\n",
            "Epoch 223/600\n",
            "1/1 [==============================] - 0s 153ms/step - loss: 0.0016 - activation_10_loss: 7.8044e-04 - activation_11_loss: 8.1255e-04\n",
            "Epoch 224/600\n",
            "1/1 [==============================] - 0s 157ms/step - loss: 0.0014 - activation_10_loss: 4.5810e-04 - activation_11_loss: 9.4350e-04\n",
            "Epoch 225/600\n",
            "1/1 [==============================] - 0s 161ms/step - loss: 0.0016 - activation_10_loss: 6.4498e-04 - activation_11_loss: 9.6084e-04\n",
            "Epoch 226/600\n",
            "1/1 [==============================] - 0s 153ms/step - loss: 0.0010 - activation_10_loss: 3.1570e-04 - activation_11_loss: 7.2990e-04\n",
            "Epoch 227/600\n",
            "1/1 [==============================] - 0s 152ms/step - loss: 0.0014 - activation_10_loss: 9.9857e-04 - activation_11_loss: 3.6725e-04\n",
            "Epoch 228/600\n",
            "1/1 [==============================] - 0s 155ms/step - loss: 9.8764e-04 - activation_10_loss: 2.4898e-04 - activation_11_loss: 7.3866e-04\n",
            "Epoch 229/600\n",
            "1/1 [==============================] - 0s 158ms/step - loss: 9.4867e-04 - activation_10_loss: 2.4231e-04 - activation_11_loss: 7.0636e-04\n",
            "Epoch 230/600\n",
            "1/1 [==============================] - 0s 152ms/step - loss: 0.0027 - activation_10_loss: 7.1542e-04 - activation_11_loss: 0.0020\n",
            "Epoch 231/600\n",
            "1/1 [==============================] - 0s 158ms/step - loss: 0.0010 - activation_10_loss: 3.4752e-04 - activation_11_loss: 6.9577e-04\n",
            "Epoch 232/600\n",
            "1/1 [==============================] - 0s 164ms/step - loss: 0.0013 - activation_10_loss: 7.9429e-04 - activation_11_loss: 5.3160e-04\n",
            "Epoch 233/600\n",
            "1/1 [==============================] - 0s 159ms/step - loss: 7.0148e-04 - activation_10_loss: 2.6057e-04 - activation_11_loss: 4.4090e-04\n",
            "Epoch 234/600\n",
            "1/1 [==============================] - 0s 156ms/step - loss: 9.8869e-04 - activation_10_loss: 4.5821e-04 - activation_11_loss: 5.3048e-04\n",
            "Epoch 235/600\n",
            "1/1 [==============================] - 0s 154ms/step - loss: 9.0302e-04 - activation_10_loss: 5.0282e-04 - activation_11_loss: 4.0020e-04\n",
            "Epoch 236/600\n",
            "1/1 [==============================] - 0s 156ms/step - loss: 9.5656e-04 - activation_10_loss: 5.3154e-04 - activation_11_loss: 4.2502e-04\n",
            "Epoch 237/600\n",
            "1/1 [==============================] - 0s 157ms/step - loss: 7.6767e-04 - activation_10_loss: 1.7973e-04 - activation_11_loss: 5.8794e-04\n",
            "Epoch 238/600\n",
            "1/1 [==============================] - 0s 152ms/step - loss: 0.0010 - activation_10_loss: 2.8113e-04 - activation_11_loss: 7.4586e-04\n",
            "Epoch 239/600\n",
            "1/1 [==============================] - 0s 157ms/step - loss: 0.0644 - activation_10_loss: 3.1604e-04 - activation_11_loss: 0.0641\n",
            "Epoch 240/600\n",
            "1/1 [==============================] - 0s 163ms/step - loss: 0.0010 - activation_10_loss: 2.3391e-04 - activation_11_loss: 7.7637e-04\n",
            "Epoch 241/600\n",
            "1/1 [==============================] - 0s 154ms/step - loss: 9.4790e-04 - activation_10_loss: 2.3171e-04 - activation_11_loss: 7.1619e-04\n",
            "Epoch 242/600\n",
            "1/1 [==============================] - 0s 159ms/step - loss: 0.0018 - activation_10_loss: 7.7983e-04 - activation_11_loss: 0.0011\n",
            "Epoch 243/600\n",
            "1/1 [==============================] - 0s 158ms/step - loss: 0.0016 - activation_10_loss: 4.8336e-04 - activation_11_loss: 0.0011\n",
            "Epoch 244/600\n",
            "1/1 [==============================] - 0s 158ms/step - loss: 0.0029 - activation_10_loss: 3.9775e-04 - activation_11_loss: 0.0025\n",
            "Epoch 245/600\n",
            "1/1 [==============================] - 0s 157ms/step - loss: 0.0038 - activation_10_loss: 9.9668e-04 - activation_11_loss: 0.0028\n",
            "Epoch 246/600\n",
            "1/1 [==============================] - 0s 156ms/step - loss: 0.0129 - activation_10_loss: 0.0028 - activation_11_loss: 0.0101\n",
            "Epoch 247/600\n",
            "1/1 [==============================] - 0s 154ms/step - loss: 0.0383 - activation_10_loss: 5.9924e-04 - activation_11_loss: 0.0377\n",
            "Epoch 248/600\n",
            "1/1 [==============================] - 0s 154ms/step - loss: 0.0044 - activation_10_loss: 9.7652e-04 - activation_11_loss: 0.0034\n",
            "Epoch 249/600\n",
            "1/1 [==============================] - 0s 161ms/step - loss: 0.0053 - activation_10_loss: 0.0011 - activation_11_loss: 0.0043\n",
            "Epoch 250/600\n",
            "1/1 [==============================] - 0s 155ms/step - loss: 0.0021 - activation_10_loss: 6.6690e-04 - activation_11_loss: 0.0015\n",
            "Epoch 251/600\n",
            "1/1 [==============================] - 0s 159ms/step - loss: 0.0051 - activation_10_loss: 0.0031 - activation_11_loss: 0.0020\n",
            "Epoch 252/600\n",
            "1/1 [==============================] - 0s 162ms/step - loss: 0.0023 - activation_10_loss: 9.2946e-04 - activation_11_loss: 0.0014\n",
            "Epoch 253/600\n",
            "1/1 [==============================] - 0s 158ms/step - loss: 0.0063 - activation_10_loss: 0.0030 - activation_11_loss: 0.0033\n",
            "Epoch 254/600\n",
            "1/1 [==============================] - 0s 153ms/step - loss: 0.0616 - activation_10_loss: 0.0607 - activation_11_loss: 9.7132e-04\n",
            "Epoch 255/600\n",
            "1/1 [==============================] - 0s 159ms/step - loss: 0.0028 - activation_10_loss: 7.3413e-04 - activation_11_loss: 0.0021\n",
            "Epoch 256/600\n",
            "1/1 [==============================] - 0s 161ms/step - loss: 0.0062 - activation_10_loss: 0.0014 - activation_11_loss: 0.0049\n",
            "Epoch 257/600\n",
            "1/1 [==============================] - 0s 158ms/step - loss: 0.0060 - activation_10_loss: 0.0015 - activation_11_loss: 0.0045\n",
            "Epoch 258/600\n",
            "1/1 [==============================] - 0s 167ms/step - loss: 0.0025 - activation_10_loss: 0.0011 - activation_11_loss: 0.0014\n",
            "Epoch 259/600\n",
            "1/1 [==============================] - 0s 162ms/step - loss: 0.0033 - activation_10_loss: 0.0013 - activation_11_loss: 0.0020\n",
            "Epoch 260/600\n",
            "1/1 [==============================] - 0s 159ms/step - loss: 0.0048 - activation_10_loss: 0.0026 - activation_11_loss: 0.0022\n",
            "Epoch 261/600\n",
            "1/1 [==============================] - 0s 161ms/step - loss: 0.0049 - activation_10_loss: 0.0022 - activation_11_loss: 0.0027\n",
            "Epoch 262/600\n",
            "1/1 [==============================] - 0s 163ms/step - loss: 0.0043 - activation_10_loss: 0.0016 - activation_11_loss: 0.0027\n",
            "Epoch 263/600\n",
            "1/1 [==============================] - 0s 159ms/step - loss: 0.0052 - activation_10_loss: 0.0031 - activation_11_loss: 0.0021\n",
            "Epoch 264/600\n",
            "1/1 [==============================] - 0s 160ms/step - loss: 0.0082 - activation_10_loss: 0.0056 - activation_11_loss: 0.0026\n",
            "Epoch 265/600\n",
            "1/1 [==============================] - 0s 164ms/step - loss: 0.0046 - activation_10_loss: 0.0018 - activation_11_loss: 0.0027\n",
            "Epoch 266/600\n",
            "1/1 [==============================] - 0s 156ms/step - loss: 0.0027 - activation_10_loss: 0.0015 - activation_11_loss: 0.0012\n",
            "Epoch 267/600\n",
            "1/1 [==============================] - 0s 161ms/step - loss: 0.0026 - activation_10_loss: 0.0018 - activation_11_loss: 8.8969e-04\n",
            "Epoch 268/600\n",
            "1/1 [==============================] - 0s 161ms/step - loss: 0.0049 - activation_10_loss: 0.0030 - activation_11_loss: 0.0018\n",
            "Epoch 269/600\n",
            "1/1 [==============================] - 0s 160ms/step - loss: 0.0121 - activation_10_loss: 0.0103 - activation_11_loss: 0.0017\n",
            "Epoch 270/600\n",
            "1/1 [==============================] - 0s 159ms/step - loss: 0.0016 - activation_10_loss: 4.7119e-04 - activation_11_loss: 0.0011\n",
            "Epoch 271/600\n",
            "1/1 [==============================] - 0s 165ms/step - loss: 0.0032 - activation_10_loss: 9.9274e-04 - activation_11_loss: 0.0022\n",
            "Epoch 272/600\n",
            "1/1 [==============================] - 0s 157ms/step - loss: 0.0030 - activation_10_loss: 9.5629e-04 - activation_11_loss: 0.0020\n",
            "Epoch 273/600\n",
            "1/1 [==============================] - 0s 159ms/step - loss: 0.0021 - activation_10_loss: 6.5026e-04 - activation_11_loss: 0.0015\n",
            "Epoch 274/600\n",
            "1/1 [==============================] - 0s 160ms/step - loss: 0.0133 - activation_10_loss: 0.0123 - activation_11_loss: 0.0010\n",
            "Epoch 275/600\n",
            "1/1 [==============================] - 0s 159ms/step - loss: 0.0018 - activation_10_loss: 0.0012 - activation_11_loss: 5.2744e-04\n",
            "Epoch 276/600\n",
            "1/1 [==============================] - 0s 160ms/step - loss: 0.0014 - activation_10_loss: 3.9657e-04 - activation_11_loss: 9.6660e-04\n",
            "Epoch 277/600\n",
            "1/1 [==============================] - 0s 152ms/step - loss: 7.6432e-04 - activation_10_loss: 3.4486e-04 - activation_11_loss: 4.1946e-04\n",
            "Epoch 278/600\n",
            "1/1 [==============================] - 0s 154ms/step - loss: 7.9708e-04 - activation_10_loss: 2.6776e-04 - activation_11_loss: 5.2933e-04\n",
            "Epoch 279/600\n",
            "1/1 [==============================] - 0s 163ms/step - loss: 5.8843e-04 - activation_10_loss: 2.9265e-04 - activation_11_loss: 2.9578e-04\n",
            "Epoch 280/600\n",
            "1/1 [==============================] - 0s 159ms/step - loss: 7.3291e-04 - activation_10_loss: 3.6048e-04 - activation_11_loss: 3.7242e-04\n",
            "Epoch 281/600\n",
            "1/1 [==============================] - 0s 155ms/step - loss: 0.0014 - activation_10_loss: 5.2304e-04 - activation_11_loss: 8.4994e-04\n",
            "Epoch 282/600\n",
            "1/1 [==============================] - 0s 160ms/step - loss: 0.0014 - activation_10_loss: 4.8804e-04 - activation_11_loss: 9.2353e-04\n",
            "Epoch 283/600\n",
            "1/1 [==============================] - 0s 159ms/step - loss: 6.8633e-04 - activation_10_loss: 4.0796e-04 - activation_11_loss: 2.7837e-04\n",
            "Epoch 284/600\n",
            "1/1 [==============================] - 0s 156ms/step - loss: 9.3085e-04 - activation_10_loss: 5.2659e-04 - activation_11_loss: 4.0426e-04\n",
            "Epoch 285/600\n",
            "1/1 [==============================] - 0s 158ms/step - loss: 0.0023 - activation_10_loss: 8.3986e-04 - activation_11_loss: 0.0014\n",
            "Epoch 286/600\n",
            "1/1 [==============================] - 0s 158ms/step - loss: 0.0013 - activation_10_loss: 7.5533e-04 - activation_11_loss: 5.7900e-04\n",
            "Epoch 287/600\n",
            "1/1 [==============================] - 0s 155ms/step - loss: 0.0011 - activation_10_loss: 6.9365e-04 - activation_11_loss: 4.4220e-04\n",
            "Epoch 288/600\n",
            "1/1 [==============================] - 0s 157ms/step - loss: 9.9383e-04 - activation_10_loss: 6.5005e-04 - activation_11_loss: 3.4378e-04\n",
            "Epoch 289/600\n",
            "1/1 [==============================] - 0s 163ms/step - loss: 0.0020 - activation_10_loss: 0.0016 - activation_11_loss: 3.7018e-04\n",
            "Epoch 290/600\n",
            "1/1 [==============================] - 0s 160ms/step - loss: 0.0013 - activation_10_loss: 7.0450e-04 - activation_11_loss: 5.8931e-04\n",
            "Epoch 291/600\n",
            "1/1 [==============================] - 0s 155ms/step - loss: 0.0025 - activation_10_loss: 0.0018 - activation_11_loss: 6.2467e-04\n",
            "Epoch 292/600\n",
            "1/1 [==============================] - 0s 160ms/step - loss: 0.0010 - activation_10_loss: 6.5858e-04 - activation_11_loss: 3.5085e-04\n",
            "Epoch 293/600\n",
            "1/1 [==============================] - 0s 156ms/step - loss: 0.0011 - activation_10_loss: 8.3740e-04 - activation_11_loss: 2.3621e-04\n",
            "Epoch 294/600\n",
            "1/1 [==============================] - 0s 164ms/step - loss: 6.8525e-04 - activation_10_loss: 2.0875e-04 - activation_11_loss: 4.7649e-04\n",
            "Epoch 295/600\n",
            "1/1 [==============================] - 0s 161ms/step - loss: 7.5085e-04 - activation_10_loss: 2.1947e-04 - activation_11_loss: 5.3138e-04\n",
            "Epoch 296/600\n",
            "1/1 [==============================] - 0s 164ms/step - loss: 0.0107 - activation_10_loss: 0.0045 - activation_11_loss: 0.0062\n",
            "Epoch 297/600\n",
            "1/1 [==============================] - 0s 157ms/step - loss: 0.0011 - activation_10_loss: 1.5386e-04 - activation_11_loss: 9.3781e-04\n",
            "Epoch 298/600\n",
            "1/1 [==============================] - 0s 155ms/step - loss: 5.5045e-04 - activation_10_loss: 2.4960e-04 - activation_11_loss: 3.0085e-04\n",
            "Epoch 299/600\n",
            "1/1 [==============================] - 0s 159ms/step - loss: 3.9898e-04 - activation_10_loss: 1.4565e-04 - activation_11_loss: 2.5333e-04\n",
            "Epoch 300/600\n",
            "1/1 [==============================] - 0s 157ms/step - loss: 0.0012 - activation_10_loss: 6.8633e-04 - activation_11_loss: 4.7528e-04\n",
            "Epoch 301/600\n",
            "1/1 [==============================] - 0s 157ms/step - loss: 8.4398e-04 - activation_10_loss: 5.4873e-04 - activation_11_loss: 2.9525e-04\n",
            "Epoch 302/600\n",
            "1/1 [==============================] - 0s 156ms/step - loss: 7.9136e-04 - activation_10_loss: 2.4179e-04 - activation_11_loss: 5.4957e-04\n",
            "Epoch 303/600\n",
            "1/1 [==============================] - 0s 155ms/step - loss: 0.0022 - activation_10_loss: 0.0015 - activation_11_loss: 6.4855e-04\n",
            "Epoch 304/600\n",
            "1/1 [==============================] - 0s 162ms/step - loss: 5.8917e-04 - activation_10_loss: 3.8758e-04 - activation_11_loss: 2.0159e-04\n",
            "Epoch 305/600\n",
            "1/1 [==============================] - 0s 164ms/step - loss: 7.5596e-04 - activation_10_loss: 3.4305e-04 - activation_11_loss: 4.1290e-04\n",
            "Epoch 306/600\n",
            "1/1 [==============================] - 0s 160ms/step - loss: 6.2227e-04 - activation_10_loss: 2.7674e-04 - activation_11_loss: 3.4553e-04\n",
            "Epoch 307/600\n",
            "1/1 [==============================] - 0s 159ms/step - loss: 0.0011 - activation_10_loss: 3.1297e-04 - activation_11_loss: 7.8590e-04\n",
            "Epoch 308/600\n",
            "1/1 [==============================] - 0s 153ms/step - loss: 9.8429e-04 - activation_10_loss: 2.6719e-04 - activation_11_loss: 7.1710e-04\n",
            "Epoch 309/600\n",
            "1/1 [==============================] - 0s 161ms/step - loss: 7.0744e-04 - activation_10_loss: 1.2985e-04 - activation_11_loss: 5.7759e-04\n",
            "Epoch 310/600\n",
            "1/1 [==============================] - 0s 159ms/step - loss: 4.6497e-04 - activation_10_loss: 2.7634e-04 - activation_11_loss: 1.8863e-04\n",
            "Epoch 311/600\n",
            "1/1 [==============================] - 0s 164ms/step - loss: 3.7311e-04 - activation_10_loss: 1.3097e-04 - activation_11_loss: 2.4214e-04\n",
            "Epoch 312/600\n",
            "1/1 [==============================] - 0s 161ms/step - loss: 6.9594e-04 - activation_10_loss: 2.3853e-04 - activation_11_loss: 4.5741e-04\n",
            "Epoch 313/600\n",
            "1/1 [==============================] - 0s 161ms/step - loss: 0.0013 - activation_10_loss: 1.1545e-04 - activation_11_loss: 0.0012\n",
            "Epoch 314/600\n",
            "1/1 [==============================] - 0s 154ms/step - loss: 4.0009e-04 - activation_10_loss: 8.2962e-05 - activation_11_loss: 3.1713e-04\n",
            "Epoch 315/600\n",
            "1/1 [==============================] - 0s 159ms/step - loss: 4.9398e-04 - activation_10_loss: 1.9738e-04 - activation_11_loss: 2.9661e-04\n",
            "Epoch 316/600\n",
            "1/1 [==============================] - 0s 158ms/step - loss: 0.0013 - activation_10_loss: 1.1122e-04 - activation_11_loss: 0.0012\n",
            "Epoch 317/600\n",
            "1/1 [==============================] - 0s 160ms/step - loss: 3.8079e-04 - activation_10_loss: 1.5329e-04 - activation_11_loss: 2.2749e-04\n",
            "Epoch 318/600\n",
            "1/1 [==============================] - 0s 163ms/step - loss: 5.2194e-04 - activation_10_loss: 1.5132e-04 - activation_11_loss: 3.7062e-04\n",
            "Epoch 319/600\n",
            "1/1 [==============================] - 0s 153ms/step - loss: 1.9486e-04 - activation_10_loss: 7.2655e-05 - activation_11_loss: 1.2220e-04\n",
            "Epoch 320/600\n",
            "1/1 [==============================] - 0s 159ms/step - loss: 0.0012 - activation_10_loss: 3.5857e-04 - activation_11_loss: 8.0155e-04\n",
            "Epoch 321/600\n",
            "1/1 [==============================] - 0s 157ms/step - loss: 3.2545e-04 - activation_10_loss: 7.3864e-05 - activation_11_loss: 2.5158e-04\n",
            "Epoch 322/600\n",
            "1/1 [==============================] - 0s 160ms/step - loss: 0.0045 - activation_10_loss: 1.4729e-04 - activation_11_loss: 0.0043\n",
            "Epoch 323/600\n",
            "1/1 [==============================] - 0s 166ms/step - loss: 3.0738e-04 - activation_10_loss: 1.6111e-04 - activation_11_loss: 1.4627e-04\n",
            "Epoch 324/600\n",
            "1/1 [==============================] - 0s 153ms/step - loss: 2.4911e-04 - activation_10_loss: 1.0056e-04 - activation_11_loss: 1.4855e-04\n",
            "Epoch 325/600\n",
            "1/1 [==============================] - 0s 159ms/step - loss: 4.8079e-04 - activation_10_loss: 1.4020e-04 - activation_11_loss: 3.4059e-04\n",
            "Epoch 326/600\n",
            "1/1 [==============================] - 0s 156ms/step - loss: 0.0025 - activation_10_loss: 1.8091e-04 - activation_11_loss: 0.0024\n",
            "Epoch 327/600\n",
            "1/1 [==============================] - 0s 158ms/step - loss: 5.4088e-04 - activation_10_loss: 4.0126e-04 - activation_11_loss: 1.3962e-04\n",
            "Epoch 328/600\n",
            "1/1 [==============================] - 0s 157ms/step - loss: 3.5629e-04 - activation_10_loss: 1.8142e-04 - activation_11_loss: 1.7487e-04\n",
            "Epoch 329/600\n",
            "1/1 [==============================] - 0s 157ms/step - loss: 2.7196e-04 - activation_10_loss: 1.0060e-04 - activation_11_loss: 1.7135e-04\n",
            "Epoch 330/600\n",
            "1/1 [==============================] - 0s 162ms/step - loss: 0.0034 - activation_10_loss: 0.0033 - activation_11_loss: 1.2260e-04\n",
            "Epoch 331/600\n",
            "1/1 [==============================] - 0s 159ms/step - loss: 6.9963e-04 - activation_10_loss: 3.6517e-04 - activation_11_loss: 3.3446e-04\n",
            "Epoch 332/600\n",
            "1/1 [==============================] - 0s 157ms/step - loss: 8.2374e-04 - activation_10_loss: 2.4932e-04 - activation_11_loss: 5.7442e-04\n",
            "Epoch 333/600\n",
            "1/1 [==============================] - 0s 161ms/step - loss: 3.2066e-04 - activation_10_loss: 1.2943e-04 - activation_11_loss: 1.9124e-04\n",
            "Epoch 334/600\n",
            "1/1 [==============================] - 0s 160ms/step - loss: 1.5410e-04 - activation_10_loss: 4.9706e-05 - activation_11_loss: 1.0440e-04\n",
            "Epoch 335/600\n",
            "1/1 [==============================] - 0s 157ms/step - loss: 0.0013 - activation_10_loss: 1.9446e-04 - activation_11_loss: 0.0011\n",
            "Epoch 336/600\n",
            "1/1 [==============================] - 0s 160ms/step - loss: 2.4379e-04 - activation_10_loss: 4.7388e-05 - activation_11_loss: 1.9640e-04\n",
            "Epoch 337/600\n",
            "1/1 [==============================] - 0s 151ms/step - loss: 2.7379e-04 - activation_10_loss: 9.7801e-05 - activation_11_loss: 1.7599e-04\n",
            "Epoch 338/600\n",
            "1/1 [==============================] - 0s 157ms/step - loss: 3.5862e-04 - activation_10_loss: 2.1080e-04 - activation_11_loss: 1.4782e-04\n",
            "Epoch 339/600\n",
            "1/1 [==============================] - 0s 158ms/step - loss: 5.0701e-04 - activation_10_loss: 3.8481e-04 - activation_11_loss: 1.2220e-04\n",
            "Epoch 340/600\n",
            "1/1 [==============================] - 0s 169ms/step - loss: 8.1305e-04 - activation_10_loss: 4.5279e-04 - activation_11_loss: 3.6026e-04\n",
            "Epoch 341/600\n",
            "1/1 [==============================] - 0s 156ms/step - loss: 8.4071e-04 - activation_10_loss: 5.9665e-04 - activation_11_loss: 2.4407e-04\n",
            "Epoch 342/600\n",
            "1/1 [==============================] - 0s 160ms/step - loss: 2.5408e-04 - activation_10_loss: 1.3320e-04 - activation_11_loss: 1.2088e-04\n",
            "Epoch 343/600\n",
            "1/1 [==============================] - 0s 160ms/step - loss: 3.8327e-04 - activation_10_loss: 1.8779e-04 - activation_11_loss: 1.9548e-04\n",
            "Epoch 344/600\n",
            "1/1 [==============================] - 0s 162ms/step - loss: 2.8793e-04 - activation_10_loss: 1.8361e-04 - activation_11_loss: 1.0432e-04\n",
            "Epoch 345/600\n",
            "1/1 [==============================] - 0s 174ms/step - loss: 2.2441e-04 - activation_10_loss: 9.2366e-05 - activation_11_loss: 1.3204e-04\n",
            "Epoch 346/600\n",
            "1/1 [==============================] - 0s 154ms/step - loss: 4.0068e-04 - activation_10_loss: 2.8920e-04 - activation_11_loss: 1.1149e-04\n",
            "Epoch 347/600\n",
            "1/1 [==============================] - 0s 156ms/step - loss: 3.3330e-04 - activation_10_loss: 8.2241e-05 - activation_11_loss: 2.5106e-04\n",
            "Epoch 348/600\n",
            "1/1 [==============================] - 0s 151ms/step - loss: 3.4990e-04 - activation_10_loss: 1.9291e-04 - activation_11_loss: 1.5700e-04\n",
            "Epoch 349/600\n",
            "1/1 [==============================] - 0s 151ms/step - loss: 0.0025 - activation_10_loss: 0.0023 - activation_11_loss: 1.3201e-04\n",
            "Epoch 350/600\n",
            "1/1 [==============================] - 0s 151ms/step - loss: 2.4494e-04 - activation_10_loss: 1.2671e-04 - activation_11_loss: 1.1823e-04\n",
            "Epoch 351/600\n",
            "1/1 [==============================] - 0s 151ms/step - loss: 5.7743e-04 - activation_10_loss: 3.7785e-04 - activation_11_loss: 1.9959e-04\n",
            "Epoch 352/600\n",
            "1/1 [==============================] - 0s 159ms/step - loss: 1.9892e-04 - activation_10_loss: 1.0781e-04 - activation_11_loss: 9.1113e-05\n",
            "Epoch 353/600\n",
            "1/1 [==============================] - 0s 154ms/step - loss: 4.6007e-04 - activation_10_loss: 3.1712e-04 - activation_11_loss: 1.4294e-04\n",
            "Epoch 354/600\n",
            "1/1 [==============================] - 0s 159ms/step - loss: 2.1868e-04 - activation_10_loss: 5.9946e-05 - activation_11_loss: 1.5873e-04\n",
            "Epoch 355/600\n",
            "1/1 [==============================] - 0s 149ms/step - loss: 2.5027e-04 - activation_10_loss: 7.2555e-05 - activation_11_loss: 1.7771e-04\n",
            "Epoch 356/600\n",
            "1/1 [==============================] - 0s 155ms/step - loss: 2.8676e-04 - activation_10_loss: 1.5321e-04 - activation_11_loss: 1.3354e-04\n",
            "Epoch 357/600\n",
            "1/1 [==============================] - 0s 151ms/step - loss: 2.6065e-04 - activation_10_loss: 1.4739e-04 - activation_11_loss: 1.1327e-04\n",
            "Epoch 358/600\n",
            "1/1 [==============================] - 0s 159ms/step - loss: 2.3887e-04 - activation_10_loss: 7.2427e-05 - activation_11_loss: 1.6645e-04\n",
            "Epoch 359/600\n",
            "1/1 [==============================] - 0s 158ms/step - loss: 1.9776e-04 - activation_10_loss: 6.4857e-05 - activation_11_loss: 1.3290e-04\n",
            "Epoch 360/600\n",
            "1/1 [==============================] - 0s 150ms/step - loss: 2.4514e-04 - activation_10_loss: 1.1151e-04 - activation_11_loss: 1.3363e-04\n",
            "Epoch 361/600\n",
            "1/1 [==============================] - 0s 155ms/step - loss: 2.3181e-04 - activation_10_loss: 1.0296e-04 - activation_11_loss: 1.2886e-04\n",
            "Epoch 362/600\n",
            "1/1 [==============================] - 0s 150ms/step - loss: 5.9669e-04 - activation_10_loss: 4.5924e-04 - activation_11_loss: 1.3746e-04\n",
            "Epoch 363/600\n",
            "1/1 [==============================] - 0s 155ms/step - loss: 1.1089e-04 - activation_10_loss: 4.7772e-05 - activation_11_loss: 6.3120e-05\n",
            "Epoch 364/600\n",
            "1/1 [==============================] - 0s 156ms/step - loss: 3.0371e-04 - activation_10_loss: 8.4493e-05 - activation_11_loss: 2.1922e-04\n",
            "Epoch 365/600\n",
            "1/1 [==============================] - 0s 158ms/step - loss: 3.0135e-04 - activation_10_loss: 1.3134e-04 - activation_11_loss: 1.7002e-04\n",
            "Epoch 366/600\n",
            "1/1 [==============================] - 0s 159ms/step - loss: 2.1101e-04 - activation_10_loss: 8.5634e-05 - activation_11_loss: 1.2538e-04\n",
            "Epoch 367/600\n",
            "1/1 [==============================] - 0s 156ms/step - loss: 3.1146e-04 - activation_10_loss: 2.3952e-04 - activation_11_loss: 7.1944e-05\n",
            "Epoch 368/600\n",
            "1/1 [==============================] - 0s 160ms/step - loss: 2.7684e-04 - activation_10_loss: 2.0258e-04 - activation_11_loss: 7.4251e-05\n",
            "Epoch 369/600\n",
            "1/1 [==============================] - 0s 158ms/step - loss: 1.8306e-04 - activation_10_loss: 1.0175e-04 - activation_11_loss: 8.1313e-05\n",
            "Epoch 370/600\n",
            "1/1 [==============================] - 0s 158ms/step - loss: 4.2767e-04 - activation_10_loss: 1.9817e-04 - activation_11_loss: 2.2949e-04\n",
            "Epoch 371/600\n",
            "1/1 [==============================] - 0s 152ms/step - loss: 4.5991e-04 - activation_10_loss: 5.7845e-05 - activation_11_loss: 4.0207e-04\n",
            "Epoch 372/600\n",
            "1/1 [==============================] - 0s 151ms/step - loss: 2.7416e-04 - activation_10_loss: 1.1985e-04 - activation_11_loss: 1.5431e-04\n",
            "Epoch 373/600\n",
            "1/1 [==============================] - 0s 158ms/step - loss: 4.1157e-04 - activation_10_loss: 1.3527e-04 - activation_11_loss: 2.7631e-04\n",
            "Epoch 374/600\n",
            "1/1 [==============================] - 0s 158ms/step - loss: 1.8591e-04 - activation_10_loss: 7.6180e-05 - activation_11_loss: 1.0973e-04\n",
            "Epoch 375/600\n",
            "1/1 [==============================] - 0s 151ms/step - loss: 1.7738e-04 - activation_10_loss: 5.4480e-05 - activation_11_loss: 1.2290e-04\n",
            "Epoch 376/600\n",
            "1/1 [==============================] - 0s 153ms/step - loss: 1.8463e-04 - activation_10_loss: 5.0163e-05 - activation_11_loss: 1.3447e-04\n",
            "Epoch 377/600\n",
            "1/1 [==============================] - 0s 158ms/step - loss: 3.9382e-04 - activation_10_loss: 2.7910e-04 - activation_11_loss: 1.1473e-04\n",
            "Epoch 378/600\n",
            "1/1 [==============================] - 0s 153ms/step - loss: 1.3947e-04 - activation_10_loss: 4.9543e-05 - activation_11_loss: 8.9926e-05\n",
            "Epoch 379/600\n",
            "1/1 [==============================] - 0s 158ms/step - loss: 0.0023 - activation_10_loss: 7.2641e-05 - activation_11_loss: 0.0022\n",
            "Epoch 380/600\n",
            "1/1 [==============================] - 0s 158ms/step - loss: 1.8715e-04 - activation_10_loss: 1.0256e-04 - activation_11_loss: 8.4582e-05\n",
            "Epoch 381/600\n",
            "1/1 [==============================] - 0s 159ms/step - loss: 1.7457e-04 - activation_10_loss: 7.1024e-05 - activation_11_loss: 1.0355e-04\n",
            "Epoch 382/600\n",
            "1/1 [==============================] - 0s 159ms/step - loss: 2.0747e-04 - activation_10_loss: 6.8433e-05 - activation_11_loss: 1.3904e-04\n",
            "Epoch 383/600\n",
            "1/1 [==============================] - 0s 159ms/step - loss: 3.0357e-04 - activation_10_loss: 1.6292e-04 - activation_11_loss: 1.4065e-04\n",
            "Epoch 384/600\n",
            "1/1 [==============================] - 0s 158ms/step - loss: 1.4946e-04 - activation_10_loss: 4.8905e-05 - activation_11_loss: 1.0056e-04\n",
            "Epoch 385/600\n",
            "1/1 [==============================] - 0s 157ms/step - loss: 1.6240e-04 - activation_10_loss: 7.2484e-05 - activation_11_loss: 8.9916e-05\n",
            "Epoch 386/600\n",
            "1/1 [==============================] - 0s 158ms/step - loss: 2.5125e-04 - activation_10_loss: 5.6367e-05 - activation_11_loss: 1.9488e-04\n",
            "Epoch 387/600\n",
            "1/1 [==============================] - 0s 161ms/step - loss: 1.6617e-04 - activation_10_loss: 3.8953e-05 - activation_11_loss: 1.2722e-04\n",
            "Epoch 388/600\n",
            "1/1 [==============================] - 0s 166ms/step - loss: 1.8971e-04 - activation_10_loss: 6.1320e-05 - activation_11_loss: 1.2839e-04\n",
            "Epoch 389/600\n",
            "1/1 [==============================] - 0s 163ms/step - loss: 1.6622e-04 - activation_10_loss: 7.9908e-05 - activation_11_loss: 8.6310e-05\n",
            "Epoch 390/600\n",
            "1/1 [==============================] - 0s 153ms/step - loss: 1.4068e-04 - activation_10_loss: 7.4088e-05 - activation_11_loss: 6.6595e-05\n",
            "Epoch 391/600\n",
            "1/1 [==============================] - 0s 161ms/step - loss: 1.7173e-04 - activation_10_loss: 7.3993e-05 - activation_11_loss: 9.7737e-05\n",
            "Epoch 392/600\n",
            "1/1 [==============================] - 0s 157ms/step - loss: 1.1802e-04 - activation_10_loss: 6.0356e-05 - activation_11_loss: 5.7668e-05\n",
            "Epoch 393/600\n",
            "1/1 [==============================] - 0s 160ms/step - loss: 3.9709e-04 - activation_10_loss: 2.8832e-04 - activation_11_loss: 1.0877e-04\n",
            "Epoch 394/600\n",
            "1/1 [==============================] - 0s 155ms/step - loss: 1.5755e-04 - activation_10_loss: 7.2088e-05 - activation_11_loss: 8.5467e-05\n",
            "Epoch 395/600\n",
            "1/1 [==============================] - 0s 163ms/step - loss: 2.6892e-04 - activation_10_loss: 1.3695e-04 - activation_11_loss: 1.3198e-04\n",
            "Epoch 396/600\n",
            "1/1 [==============================] - 0s 157ms/step - loss: 1.4629e-04 - activation_10_loss: 4.0129e-05 - activation_11_loss: 1.0616e-04\n",
            "Epoch 397/600\n",
            "1/1 [==============================] - 0s 160ms/step - loss: 2.0012e-04 - activation_10_loss: 7.6764e-05 - activation_11_loss: 1.2336e-04\n",
            "Epoch 398/600\n",
            "1/1 [==============================] - 0s 151ms/step - loss: 1.8566e-04 - activation_10_loss: 9.2328e-05 - activation_11_loss: 9.3331e-05\n",
            "Epoch 399/600\n",
            "1/1 [==============================] - 0s 161ms/step - loss: 2.2910e-04 - activation_10_loss: 1.4461e-04 - activation_11_loss: 8.4492e-05\n",
            "Epoch 400/600\n",
            "1/1 [==============================] - 0s 152ms/step - loss: 1.6001e-04 - activation_10_loss: 4.1340e-05 - activation_11_loss: 1.1867e-04\n",
            "Epoch 401/600\n",
            "1/1 [==============================] - 0s 156ms/step - loss: 2.0973e-04 - activation_10_loss: 4.4021e-05 - activation_11_loss: 1.6571e-04\n",
            "Epoch 402/600\n",
            "1/1 [==============================] - 0s 156ms/step - loss: 0.0021 - activation_10_loss: 0.0019 - activation_11_loss: 1.7154e-04\n",
            "Epoch 403/600\n",
            "1/1 [==============================] - 0s 161ms/step - loss: 2.8595e-04 - activation_10_loss: 5.4131e-05 - activation_11_loss: 2.3182e-04\n",
            "Epoch 404/600\n",
            "1/1 [==============================] - 0s 156ms/step - loss: 8.9052e-04 - activation_10_loss: 8.9077e-05 - activation_11_loss: 8.0144e-04\n",
            "Epoch 405/600\n",
            "1/1 [==============================] - 0s 159ms/step - loss: 1.8689e-04 - activation_10_loss: 5.7842e-05 - activation_11_loss: 1.2904e-04\n",
            "Epoch 406/600\n",
            "1/1 [==============================] - 0s 154ms/step - loss: 1.8677e-04 - activation_10_loss: 8.2637e-05 - activation_11_loss: 1.0413e-04\n",
            "Epoch 407/600\n",
            "1/1 [==============================] - 0s 152ms/step - loss: 2.0149e-04 - activation_10_loss: 6.0456e-05 - activation_11_loss: 1.4104e-04\n",
            "Epoch 408/600\n",
            "1/1 [==============================] - 0s 159ms/step - loss: 0.1052 - activation_10_loss: 2.3413e-04 - activation_11_loss: 0.1050\n",
            "Epoch 409/600\n",
            "1/1 [==============================] - 0s 160ms/step - loss: 2.0843e-04 - activation_10_loss: 5.1154e-05 - activation_11_loss: 1.5728e-04\n",
            "Epoch 410/600\n",
            "1/1 [==============================] - 0s 155ms/step - loss: 0.0026 - activation_10_loss: 6.3097e-05 - activation_11_loss: 0.0026\n",
            "Epoch 411/600\n",
            "1/1 [==============================] - 0s 165ms/step - loss: 0.0381 - activation_10_loss: 1.2007e-04 - activation_11_loss: 0.0380\n",
            "Epoch 412/600\n",
            "1/1 [==============================] - 0s 155ms/step - loss: 0.0019 - activation_10_loss: 5.2906e-04 - activation_11_loss: 0.0013\n",
            "Epoch 413/600\n",
            "1/1 [==============================] - 0s 154ms/step - loss: 0.0143 - activation_10_loss: 0.0018 - activation_11_loss: 0.0125\n",
            "Epoch 414/600\n",
            "1/1 [==============================] - 0s 157ms/step - loss: 0.0076 - activation_10_loss: 0.0013 - activation_11_loss: 0.0063\n",
            "Epoch 415/600\n",
            "1/1 [==============================] - 0s 157ms/step - loss: 0.0086 - activation_10_loss: 0.0016 - activation_11_loss: 0.0070\n",
            "Epoch 416/600\n",
            "1/1 [==============================] - 0s 161ms/step - loss: 0.0035 - activation_10_loss: 3.6865e-04 - activation_11_loss: 0.0031\n",
            "Epoch 417/600\n",
            "1/1 [==============================] - 0s 165ms/step - loss: 0.0071 - activation_10_loss: 0.0029 - activation_11_loss: 0.0042\n",
            "Epoch 418/600\n",
            "1/1 [==============================] - 0s 164ms/step - loss: 0.0089 - activation_10_loss: 8.9785e-04 - activation_11_loss: 0.0080\n",
            "Epoch 419/600\n",
            "1/1 [==============================] - 0s 160ms/step - loss: 0.0300 - activation_10_loss: 0.0180 - activation_11_loss: 0.0121\n",
            "Epoch 420/600\n",
            "1/1 [==============================] - 0s 166ms/step - loss: 0.0021 - activation_10_loss: 4.2555e-04 - activation_11_loss: 0.0017\n",
            "Epoch 421/600\n",
            "1/1 [==============================] - 0s 161ms/step - loss: 0.0012 - activation_10_loss: 2.6817e-04 - activation_11_loss: 9.3139e-04\n",
            "Epoch 422/600\n",
            "1/1 [==============================] - 0s 159ms/step - loss: 6.7853e-04 - activation_10_loss: 3.2392e-04 - activation_11_loss: 3.5461e-04\n",
            "Epoch 423/600\n",
            "1/1 [==============================] - 0s 154ms/step - loss: 0.0042 - activation_10_loss: 2.3655e-04 - activation_11_loss: 0.0039\n",
            "Epoch 424/600\n",
            "1/1 [==============================] - 0s 158ms/step - loss: 5.3348e-04 - activation_10_loss: 3.3347e-04 - activation_11_loss: 2.0001e-04\n",
            "Epoch 425/600\n",
            "1/1 [==============================] - 0s 164ms/step - loss: 0.0058 - activation_10_loss: 0.0019 - activation_11_loss: 0.0038\n",
            "Epoch 426/600\n",
            "1/1 [==============================] - 0s 158ms/step - loss: 0.0013 - activation_10_loss: 5.4782e-04 - activation_11_loss: 7.9279e-04\n",
            "Epoch 427/600\n",
            "1/1 [==============================] - 0s 156ms/step - loss: 0.0011 - activation_10_loss: 4.4436e-04 - activation_11_loss: 6.9443e-04\n",
            "Epoch 428/600\n",
            "1/1 [==============================] - 0s 160ms/step - loss: 0.0012 - activation_10_loss: 9.3764e-04 - activation_11_loss: 2.5871e-04\n",
            "Epoch 429/600\n",
            "1/1 [==============================] - 0s 156ms/step - loss: 0.0015 - activation_10_loss: 5.1315e-04 - activation_11_loss: 9.6348e-04\n",
            "Epoch 430/600\n",
            "1/1 [==============================] - 0s 156ms/step - loss: 0.0368 - activation_10_loss: 0.0310 - activation_11_loss: 0.0058\n",
            "Epoch 431/600\n",
            "1/1 [==============================] - 0s 150ms/step - loss: 0.0404 - activation_10_loss: 0.0079 - activation_11_loss: 0.0325\n",
            "Epoch 432/600\n",
            "1/1 [==============================] - 0s 161ms/step - loss: 0.0102 - activation_10_loss: 5.5932e-04 - activation_11_loss: 0.0096\n",
            "Epoch 433/600\n",
            "1/1 [==============================] - 0s 162ms/step - loss: 8.8627e-04 - activation_10_loss: 1.7792e-04 - activation_11_loss: 7.0836e-04\n",
            "Epoch 434/600\n",
            "1/1 [==============================] - 0s 158ms/step - loss: 0.0012 - activation_10_loss: 5.6009e-04 - activation_11_loss: 6.0347e-04\n",
            "Epoch 435/600\n",
            "1/1 [==============================] - 0s 158ms/step - loss: 0.0064 - activation_10_loss: 0.0047 - activation_11_loss: 0.0018\n",
            "Epoch 436/600\n",
            "1/1 [==============================] - 0s 155ms/step - loss: 0.0019 - activation_10_loss: 0.0017 - activation_11_loss: 2.2988e-04\n",
            "Epoch 437/600\n",
            "1/1 [==============================] - 0s 161ms/step - loss: 0.0024 - activation_10_loss: 4.7093e-04 - activation_11_loss: 0.0019\n",
            "Epoch 438/600\n",
            "1/1 [==============================] - 0s 155ms/step - loss: 0.0038 - activation_10_loss: 0.0036 - activation_11_loss: 1.4516e-04\n",
            "Epoch 439/600\n",
            "1/1 [==============================] - 0s 157ms/step - loss: 0.0042 - activation_10_loss: 0.0038 - activation_11_loss: 3.3320e-04\n",
            "Epoch 440/600\n",
            "1/1 [==============================] - 0s 160ms/step - loss: 0.0017 - activation_10_loss: 0.0011 - activation_11_loss: 6.0109e-04\n",
            "Epoch 441/600\n",
            "1/1 [==============================] - 0s 164ms/step - loss: 0.0046 - activation_10_loss: 0.0039 - activation_11_loss: 7.2087e-04\n",
            "Epoch 442/600\n",
            "1/1 [==============================] - 0s 163ms/step - loss: 0.0021 - activation_10_loss: 0.0012 - activation_11_loss: 9.1171e-04\n",
            "Epoch 443/600\n",
            "1/1 [==============================] - 0s 159ms/step - loss: 0.0069 - activation_10_loss: 0.0017 - activation_11_loss: 0.0052\n",
            "Epoch 444/600\n",
            "1/1 [==============================] - 0s 159ms/step - loss: 0.0028 - activation_10_loss: 0.0017 - activation_11_loss: 0.0011\n",
            "Epoch 445/600\n",
            "1/1 [==============================] - 0s 162ms/step - loss: 0.0042 - activation_10_loss: 0.0024 - activation_11_loss: 0.0017\n",
            "Epoch 446/600\n",
            "1/1 [==============================] - 0s 162ms/step - loss: 0.0041 - activation_10_loss: 0.0028 - activation_11_loss: 0.0013\n",
            "Epoch 447/600\n",
            "1/1 [==============================] - 0s 162ms/step - loss: 0.0013 - activation_10_loss: 8.3338e-04 - activation_11_loss: 4.6826e-04\n",
            "Epoch 448/600\n",
            "1/1 [==============================] - 0s 157ms/step - loss: 0.0020 - activation_10_loss: 0.0013 - activation_11_loss: 6.6096e-04\n",
            "Epoch 449/600\n",
            "1/1 [==============================] - 0s 161ms/step - loss: 8.0666e-04 - activation_10_loss: 5.0867e-04 - activation_11_loss: 2.9800e-04\n",
            "Epoch 450/600\n",
            "1/1 [==============================] - 0s 155ms/step - loss: 0.0013 - activation_10_loss: 3.2401e-04 - activation_11_loss: 9.4454e-04\n",
            "Epoch 451/600\n",
            "1/1 [==============================] - 0s 162ms/step - loss: 7.0631e-04 - activation_10_loss: 3.4788e-04 - activation_11_loss: 3.5843e-04\n",
            "Epoch 452/600\n",
            "1/1 [==============================] - 0s 165ms/step - loss: 7.9830e-04 - activation_10_loss: 3.1384e-04 - activation_11_loss: 4.8447e-04\n",
            "Epoch 453/600\n",
            "1/1 [==============================] - 0s 152ms/step - loss: 6.5031e-04 - activation_10_loss: 2.6499e-04 - activation_11_loss: 3.8531e-04\n",
            "Epoch 454/600\n",
            "1/1 [==============================] - 0s 160ms/step - loss: 4.4031e-04 - activation_10_loss: 1.9880e-04 - activation_11_loss: 2.4151e-04\n",
            "Epoch 455/600\n",
            "1/1 [==============================] - 0s 154ms/step - loss: 4.5021e-04 - activation_10_loss: 1.8452e-04 - activation_11_loss: 2.6569e-04\n",
            "Epoch 456/600\n",
            "1/1 [==============================] - 0s 164ms/step - loss: 5.1661e-04 - activation_10_loss: 2.1968e-04 - activation_11_loss: 2.9692e-04\n",
            "Epoch 457/600\n",
            "1/1 [==============================] - 0s 167ms/step - loss: 9.2041e-04 - activation_10_loss: 5.1390e-04 - activation_11_loss: 4.0651e-04\n",
            "Epoch 458/600\n",
            "1/1 [==============================] - 0s 163ms/step - loss: 5.0293e-04 - activation_10_loss: 2.0091e-04 - activation_11_loss: 3.0202e-04\n",
            "Epoch 459/600\n",
            "1/1 [==============================] - 0s 155ms/step - loss: 6.7711e-04 - activation_10_loss: 2.5569e-04 - activation_11_loss: 4.2142e-04\n",
            "Epoch 460/600\n",
            "1/1 [==============================] - 0s 155ms/step - loss: 3.2224e-04 - activation_10_loss: 9.6813e-05 - activation_11_loss: 2.2542e-04\n",
            "Epoch 461/600\n",
            "1/1 [==============================] - 0s 161ms/step - loss: 9.2819e-04 - activation_10_loss: 7.4452e-05 - activation_11_loss: 8.5373e-04\n",
            "Epoch 462/600\n",
            "1/1 [==============================] - 0s 155ms/step - loss: 3.8112e-04 - activation_10_loss: 1.8504e-04 - activation_11_loss: 1.9608e-04\n",
            "Epoch 463/600\n",
            "1/1 [==============================] - 0s 159ms/step - loss: 3.2990e-04 - activation_10_loss: 1.0358e-04 - activation_11_loss: 2.2632e-04\n",
            "Epoch 464/600\n",
            "1/1 [==============================] - 0s 165ms/step - loss: 4.4090e-04 - activation_10_loss: 7.8540e-05 - activation_11_loss: 3.6236e-04\n",
            "Epoch 465/600\n",
            "1/1 [==============================] - 0s 161ms/step - loss: 0.0051 - activation_10_loss: 0.0050 - activation_11_loss: 1.7963e-04\n",
            "Epoch 466/600\n",
            "1/1 [==============================] - 0s 162ms/step - loss: 4.1315e-04 - activation_10_loss: 8.1238e-05 - activation_11_loss: 3.3192e-04\n",
            "Epoch 467/600\n",
            "1/1 [==============================] - 0s 165ms/step - loss: 0.0011 - activation_10_loss: 9.1735e-05 - activation_11_loss: 0.0010\n",
            "Epoch 468/600\n",
            "1/1 [==============================] - 0s 161ms/step - loss: 2.9229e-04 - activation_10_loss: 1.3352e-04 - activation_11_loss: 1.5877e-04\n",
            "Epoch 469/600\n",
            "1/1 [==============================] - 0s 162ms/step - loss: 2.3488e-04 - activation_10_loss: 9.6409e-05 - activation_11_loss: 1.3847e-04\n",
            "Epoch 470/600\n",
            "1/1 [==============================] - 0s 157ms/step - loss: 4.7898e-04 - activation_10_loss: 7.1382e-05 - activation_11_loss: 4.0760e-04\n",
            "Epoch 471/600\n",
            "1/1 [==============================] - 0s 164ms/step - loss: 2.1387e-04 - activation_10_loss: 7.6664e-05 - activation_11_loss: 1.3720e-04\n",
            "Epoch 472/600\n",
            "1/1 [==============================] - 0s 161ms/step - loss: 4.8078e-04 - activation_10_loss: 2.4500e-04 - activation_11_loss: 2.3578e-04\n",
            "Epoch 473/600\n",
            "1/1 [==============================] - 0s 164ms/step - loss: 3.2651e-04 - activation_10_loss: 1.0957e-04 - activation_11_loss: 2.1694e-04\n",
            "Epoch 474/600\n",
            "1/1 [==============================] - 0s 164ms/step - loss: 4.4089e-04 - activation_10_loss: 9.2565e-05 - activation_11_loss: 3.4832e-04\n",
            "Epoch 475/600\n",
            "1/1 [==============================] - 0s 163ms/step - loss: 1.9768e-04 - activation_10_loss: 5.4241e-05 - activation_11_loss: 1.4344e-04\n",
            "Epoch 476/600\n",
            "1/1 [==============================] - 0s 164ms/step - loss: 0.0029 - activation_10_loss: 0.0026 - activation_11_loss: 2.2298e-04\n",
            "Epoch 477/600\n",
            "1/1 [==============================] - 0s 159ms/step - loss: 5.2467e-04 - activation_10_loss: 1.5582e-04 - activation_11_loss: 3.6884e-04\n",
            "Epoch 478/600\n",
            "1/1 [==============================] - 0s 159ms/step - loss: 1.7687e-04 - activation_10_loss: 8.0900e-05 - activation_11_loss: 9.5970e-05\n",
            "Epoch 479/600\n",
            "1/1 [==============================] - 0s 165ms/step - loss: 2.1916e-04 - activation_10_loss: 5.6288e-05 - activation_11_loss: 1.6288e-04\n",
            "Epoch 480/600\n",
            "1/1 [==============================] - 0s 167ms/step - loss: 1.7447e-04 - activation_10_loss: 4.6479e-05 - activation_11_loss: 1.2799e-04\n",
            "Epoch 481/600\n",
            "1/1 [==============================] - 0s 158ms/step - loss: 2.3018e-04 - activation_10_loss: 5.5996e-05 - activation_11_loss: 1.7418e-04\n",
            "Epoch 482/600\n",
            "1/1 [==============================] - 0s 154ms/step - loss: 0.0020 - activation_10_loss: 0.0016 - activation_11_loss: 4.1610e-04\n",
            "Epoch 483/600\n",
            "1/1 [==============================] - 0s 160ms/step - loss: 1.2687e-04 - activation_10_loss: 3.2506e-05 - activation_11_loss: 9.4364e-05\n",
            "Epoch 484/600\n",
            "1/1 [==============================] - 0s 166ms/step - loss: 1.9344e-04 - activation_10_loss: 4.0023e-05 - activation_11_loss: 1.5342e-04\n",
            "Epoch 485/600\n",
            "1/1 [==============================] - 0s 165ms/step - loss: 1.4014e-04 - activation_10_loss: 3.9234e-05 - activation_11_loss: 1.0090e-04\n",
            "Epoch 486/600\n",
            "1/1 [==============================] - 0s 159ms/step - loss: 2.1138e-04 - activation_10_loss: 5.1937e-05 - activation_11_loss: 1.5945e-04\n",
            "Epoch 487/600\n",
            "1/1 [==============================] - 0s 162ms/step - loss: 5.5432e-04 - activation_10_loss: 2.2269e-04 - activation_11_loss: 3.3162e-04\n",
            "Epoch 488/600\n",
            "1/1 [==============================] - 0s 161ms/step - loss: 2.5529e-04 - activation_10_loss: 3.3557e-05 - activation_11_loss: 2.2173e-04\n",
            "Epoch 489/600\n",
            "1/1 [==============================] - 0s 157ms/step - loss: 5.6278e-04 - activation_10_loss: 5.3501e-05 - activation_11_loss: 5.0927e-04\n",
            "Epoch 490/600\n",
            "1/1 [==============================] - 0s 162ms/step - loss: 2.1741e-04 - activation_10_loss: 3.8312e-05 - activation_11_loss: 1.7910e-04\n",
            "Epoch 491/600\n",
            "1/1 [==============================] - 0s 166ms/step - loss: 1.7621e-04 - activation_10_loss: 2.9620e-05 - activation_11_loss: 1.4659e-04\n",
            "Epoch 492/600\n",
            "1/1 [==============================] - 0s 162ms/step - loss: 2.2442e-04 - activation_10_loss: 9.7036e-05 - activation_11_loss: 1.2738e-04\n",
            "Epoch 493/600\n",
            "1/1 [==============================] - 0s 156ms/step - loss: 1.8564e-04 - activation_10_loss: 9.0155e-05 - activation_11_loss: 9.5483e-05\n",
            "Epoch 494/600\n",
            "1/1 [==============================] - 0s 160ms/step - loss: 1.4461e-04 - activation_10_loss: 3.5894e-05 - activation_11_loss: 1.0871e-04\n",
            "Epoch 495/600\n",
            "1/1 [==============================] - 0s 161ms/step - loss: 1.9324e-04 - activation_10_loss: 6.0812e-05 - activation_11_loss: 1.3243e-04\n",
            "Epoch 496/600\n",
            "1/1 [==============================] - 0s 157ms/step - loss: 1.7140e-04 - activation_10_loss: 6.3753e-05 - activation_11_loss: 1.0765e-04\n",
            "Epoch 497/600\n",
            "1/1 [==============================] - 0s 162ms/step - loss: 1.5095e-04 - activation_10_loss: 4.2719e-05 - activation_11_loss: 1.0823e-04\n",
            "Epoch 498/600\n",
            "1/1 [==============================] - 0s 163ms/step - loss: 3.9315e-04 - activation_10_loss: 9.3840e-05 - activation_11_loss: 2.9931e-04\n",
            "Epoch 499/600\n",
            "1/1 [==============================] - 0s 160ms/step - loss: 1.6474e-04 - activation_10_loss: 6.1501e-05 - activation_11_loss: 1.0323e-04\n",
            "Epoch 500/600\n",
            "1/1 [==============================] - 0s 160ms/step - loss: 1.3467e-04 - activation_10_loss: 5.0095e-05 - activation_11_loss: 8.4570e-05\n",
            "Epoch 501/600\n",
            "1/1 [==============================] - 0s 153ms/step - loss: 1.5153e-04 - activation_10_loss: 6.6163e-05 - activation_11_loss: 8.5371e-05\n",
            "Epoch 502/600\n",
            "1/1 [==============================] - 0s 164ms/step - loss: 1.2820e-04 - activation_10_loss: 6.0839e-05 - activation_11_loss: 6.7365e-05\n",
            "Epoch 503/600\n",
            "1/1 [==============================] - 0s 162ms/step - loss: 1.4542e-04 - activation_10_loss: 4.8479e-05 - activation_11_loss: 9.6938e-05\n",
            "Epoch 504/600\n",
            "1/1 [==============================] - 0s 162ms/step - loss: 1.2872e-04 - activation_10_loss: 5.3791e-05 - activation_11_loss: 7.4931e-05\n",
            "Epoch 505/600\n",
            "1/1 [==============================] - 0s 154ms/step - loss: 1.4683e-04 - activation_10_loss: 6.2929e-05 - activation_11_loss: 8.3902e-05\n",
            "Epoch 506/600\n",
            "1/1 [==============================] - 0s 166ms/step - loss: 1.1974e-04 - activation_10_loss: 4.3090e-05 - activation_11_loss: 7.6648e-05\n",
            "Epoch 507/600\n",
            "1/1 [==============================] - 0s 161ms/step - loss: 1.3842e-04 - activation_10_loss: 6.4668e-05 - activation_11_loss: 7.3748e-05\n",
            "Epoch 508/600\n",
            "1/1 [==============================] - 0s 163ms/step - loss: 1.1473e-04 - activation_10_loss: 4.6138e-05 - activation_11_loss: 6.8590e-05\n",
            "Epoch 509/600\n",
            "1/1 [==============================] - 0s 156ms/step - loss: 1.7857e-04 - activation_10_loss: 7.1534e-05 - activation_11_loss: 1.0703e-04\n",
            "Epoch 510/600\n",
            "1/1 [==============================] - 0s 163ms/step - loss: 2.2424e-04 - activation_10_loss: 5.4010e-05 - activation_11_loss: 1.7023e-04\n",
            "Epoch 511/600\n",
            "1/1 [==============================] - 0s 162ms/step - loss: 5.1669e-04 - activation_10_loss: 5.4187e-05 - activation_11_loss: 4.6250e-04\n",
            "Epoch 512/600\n",
            "1/1 [==============================] - 0s 159ms/step - loss: 2.7165e-04 - activation_10_loss: 1.4174e-04 - activation_11_loss: 1.2991e-04\n",
            "Epoch 513/600\n",
            "1/1 [==============================] - 0s 157ms/step - loss: 1.5630e-04 - activation_10_loss: 4.5065e-05 - activation_11_loss: 1.1123e-04\n",
            "Epoch 514/600\n",
            "1/1 [==============================] - 0s 154ms/step - loss: 3.3568e-04 - activation_10_loss: 5.6389e-05 - activation_11_loss: 2.7929e-04\n",
            "Epoch 515/600\n",
            "1/1 [==============================] - 0s 151ms/step - loss: 1.4665e-04 - activation_10_loss: 4.1556e-05 - activation_11_loss: 1.0509e-04\n",
            "Epoch 516/600\n",
            "1/1 [==============================] - 0s 161ms/step - loss: 1.4550e-04 - activation_10_loss: 4.6393e-05 - activation_11_loss: 9.9103e-05\n",
            "Epoch 517/600\n",
            "1/1 [==============================] - 0s 165ms/step - loss: 2.1542e-04 - activation_10_loss: 1.4603e-04 - activation_11_loss: 6.9396e-05\n",
            "Epoch 518/600\n",
            "1/1 [==============================] - 0s 162ms/step - loss: 1.2094e-04 - activation_10_loss: 2.1619e-05 - activation_11_loss: 9.9319e-05\n",
            "Epoch 519/600\n",
            "1/1 [==============================] - 0s 157ms/step - loss: 1.1096e-04 - activation_10_loss: 4.6382e-05 - activation_11_loss: 6.4574e-05\n",
            "Epoch 520/600\n",
            "1/1 [==============================] - 0s 159ms/step - loss: 1.3199e-04 - activation_10_loss: 3.2871e-05 - activation_11_loss: 9.9115e-05\n",
            "Epoch 521/600\n",
            "1/1 [==============================] - 0s 163ms/step - loss: 1.3966e-04 - activation_10_loss: 3.3484e-05 - activation_11_loss: 1.0617e-04\n",
            "Epoch 522/600\n",
            "1/1 [==============================] - 0s 166ms/step - loss: 6.6829e-05 - activation_10_loss: 1.9127e-05 - activation_11_loss: 4.7702e-05\n",
            "Epoch 523/600\n",
            "1/1 [==============================] - 0s 159ms/step - loss: 1.5446e-04 - activation_10_loss: 5.9278e-05 - activation_11_loss: 9.5180e-05\n",
            "Epoch 524/600\n",
            "1/1 [==============================] - 0s 158ms/step - loss: 1.8301e-04 - activation_10_loss: 8.1765e-05 - activation_11_loss: 1.0125e-04\n",
            "Epoch 525/600\n",
            "1/1 [==============================] - 0s 153ms/step - loss: 1.5311e-04 - activation_10_loss: 7.6031e-05 - activation_11_loss: 7.7075e-05\n",
            "Epoch 526/600\n",
            "1/1 [==============================] - 0s 158ms/step - loss: 1.1078e-04 - activation_10_loss: 4.2020e-05 - activation_11_loss: 6.8757e-05\n",
            "Epoch 527/600\n",
            "1/1 [==============================] - 0s 162ms/step - loss: 3.1627e-04 - activation_10_loss: 1.3106e-04 - activation_11_loss: 1.8522e-04\n",
            "Epoch 528/600\n",
            "1/1 [==============================] - 0s 151ms/step - loss: 1.4274e-04 - activation_10_loss: 5.4044e-05 - activation_11_loss: 8.8701e-05\n",
            "Epoch 529/600\n",
            "1/1 [==============================] - 0s 162ms/step - loss: 1.1178e-04 - activation_10_loss: 3.8395e-05 - activation_11_loss: 7.3383e-05\n",
            "Epoch 530/600\n",
            "1/1 [==============================] - 0s 160ms/step - loss: 9.6204e-05 - activation_10_loss: 3.6322e-05 - activation_11_loss: 5.9882e-05\n",
            "Epoch 531/600\n",
            "1/1 [==============================] - 0s 162ms/step - loss: 6.5980e-04 - activation_10_loss: 8.3591e-05 - activation_11_loss: 5.7621e-04\n",
            "Epoch 532/600\n",
            "1/1 [==============================] - 0s 159ms/step - loss: 8.5130e-05 - activation_10_loss: 3.4028e-05 - activation_11_loss: 5.1101e-05\n",
            "Epoch 533/600\n",
            "1/1 [==============================] - 0s 149ms/step - loss: 1.3780e-04 - activation_10_loss: 5.2446e-05 - activation_11_loss: 8.5349e-05\n",
            "Epoch 534/600\n",
            "1/1 [==============================] - 0s 153ms/step - loss: 8.4920e-05 - activation_10_loss: 3.5115e-05 - activation_11_loss: 4.9805e-05\n",
            "Epoch 535/600\n",
            "1/1 [==============================] - 0s 154ms/step - loss: 1.7932e-04 - activation_10_loss: 9.0958e-05 - activation_11_loss: 8.8360e-05\n",
            "Epoch 536/600\n",
            "1/1 [==============================] - 0s 162ms/step - loss: 1.8254e-04 - activation_10_loss: 3.5474e-05 - activation_11_loss: 1.4706e-04\n",
            "Epoch 537/600\n",
            "1/1 [==============================] - 0s 161ms/step - loss: 1.1450e-04 - activation_10_loss: 4.5825e-05 - activation_11_loss: 6.8679e-05\n",
            "Epoch 538/600\n",
            "1/1 [==============================] - 0s 165ms/step - loss: 1.5638e-04 - activation_10_loss: 6.5209e-05 - activation_11_loss: 9.1175e-05\n",
            "Epoch 539/600\n",
            "1/1 [==============================] - 0s 153ms/step - loss: 1.7308e-04 - activation_10_loss: 6.9186e-05 - activation_11_loss: 1.0389e-04\n",
            "Epoch 540/600\n",
            "1/1 [==============================] - 0s 151ms/step - loss: 1.1814e-04 - activation_10_loss: 6.1364e-05 - activation_11_loss: 5.6771e-05\n",
            "Epoch 541/600\n",
            "1/1 [==============================] - 0s 150ms/step - loss: 1.5304e-04 - activation_10_loss: 4.2068e-05 - activation_11_loss: 1.1098e-04\n",
            "Epoch 542/600\n",
            "1/1 [==============================] - 0s 155ms/step - loss: 1.3269e-04 - activation_10_loss: 6.4207e-05 - activation_11_loss: 6.8479e-05\n",
            "Epoch 543/600\n",
            "1/1 [==============================] - 0s 158ms/step - loss: 1.3367e-04 - activation_10_loss: 5.9158e-05 - activation_11_loss: 7.4513e-05\n",
            "Epoch 544/600\n",
            "1/1 [==============================] - 0s 152ms/step - loss: 2.6676e-04 - activation_10_loss: 5.6851e-05 - activation_11_loss: 2.0991e-04\n",
            "Epoch 545/600\n",
            "1/1 [==============================] - 0s 157ms/step - loss: 1.0209e-04 - activation_10_loss: 2.6874e-05 - activation_11_loss: 7.5217e-05\n",
            "Epoch 546/600\n",
            "1/1 [==============================] - 0s 164ms/step - loss: 1.4862e-04 - activation_10_loss: 7.4637e-05 - activation_11_loss: 7.3982e-05\n",
            "Epoch 547/600\n",
            "1/1 [==============================] - 0s 154ms/step - loss: 1.0123e-04 - activation_10_loss: 5.6209e-05 - activation_11_loss: 4.5017e-05\n",
            "Epoch 548/600\n",
            "1/1 [==============================] - 0s 156ms/step - loss: 1.2667e-04 - activation_10_loss: 3.6359e-05 - activation_11_loss: 9.0309e-05\n",
            "Epoch 549/600\n",
            "1/1 [==============================] - 0s 156ms/step - loss: 7.6178e-05 - activation_10_loss: 3.6202e-05 - activation_11_loss: 3.9976e-05\n",
            "Epoch 550/600\n",
            "1/1 [==============================] - 0s 164ms/step - loss: 1.1468e-04 - activation_10_loss: 2.5828e-05 - activation_11_loss: 8.8851e-05\n",
            "Epoch 551/600\n",
            "1/1 [==============================] - 0s 163ms/step - loss: 1.2179e-04 - activation_10_loss: 3.5575e-05 - activation_11_loss: 8.6211e-05\n",
            "Epoch 552/600\n",
            "1/1 [==============================] - 0s 153ms/step - loss: 1.1271e-04 - activation_10_loss: 3.3234e-05 - activation_11_loss: 7.9471e-05\n",
            "Epoch 553/600\n",
            "1/1 [==============================] - 0s 164ms/step - loss: 9.6988e-05 - activation_10_loss: 2.5809e-05 - activation_11_loss: 7.1179e-05\n",
            "Epoch 554/600\n",
            "1/1 [==============================] - 0s 161ms/step - loss: 8.1584e-05 - activation_10_loss: 2.7092e-05 - activation_11_loss: 5.4491e-05\n",
            "Epoch 555/600\n",
            "1/1 [==============================] - 0s 160ms/step - loss: 1.5454e-04 - activation_10_loss: 9.1273e-05 - activation_11_loss: 6.3272e-05\n",
            "Epoch 556/600\n",
            "1/1 [==============================] - 0s 161ms/step - loss: 1.3212e-04 - activation_10_loss: 6.5705e-05 - activation_11_loss: 6.6415e-05\n",
            "Epoch 557/600\n",
            "1/1 [==============================] - 0s 152ms/step - loss: 1.0971e-04 - activation_10_loss: 5.0343e-05 - activation_11_loss: 5.9371e-05\n",
            "Epoch 558/600\n",
            "1/1 [==============================] - 0s 153ms/step - loss: 6.8271e-05 - activation_10_loss: 2.7522e-05 - activation_11_loss: 4.0749e-05\n",
            "Epoch 559/600\n",
            "1/1 [==============================] - 0s 160ms/step - loss: 6.8727e-05 - activation_10_loss: 1.5493e-05 - activation_11_loss: 5.3233e-05\n",
            "Epoch 560/600\n",
            "1/1 [==============================] - 0s 167ms/step - loss: 1.0121e-04 - activation_10_loss: 5.4356e-05 - activation_11_loss: 4.6852e-05\n",
            "Epoch 561/600\n",
            "1/1 [==============================] - 0s 162ms/step - loss: 9.1807e-05 - activation_10_loss: 3.3570e-05 - activation_11_loss: 5.8237e-05\n",
            "Epoch 562/600\n",
            "1/1 [==============================] - 0s 158ms/step - loss: 8.3715e-05 - activation_10_loss: 3.4764e-05 - activation_11_loss: 4.8950e-05\n",
            "Epoch 563/600\n",
            "1/1 [==============================] - 0s 158ms/step - loss: 1.0501e-04 - activation_10_loss: 4.2282e-05 - activation_11_loss: 6.2725e-05\n",
            "Epoch 564/600\n",
            "1/1 [==============================] - 0s 156ms/step - loss: 1.9204e-04 - activation_10_loss: 1.0625e-04 - activation_11_loss: 8.5792e-05\n",
            "Epoch 565/600\n",
            "1/1 [==============================] - 0s 153ms/step - loss: 7.1271e-05 - activation_10_loss: 2.2017e-05 - activation_11_loss: 4.9254e-05\n",
            "Epoch 566/600\n",
            "1/1 [==============================] - 0s 152ms/step - loss: 1.8171e-04 - activation_10_loss: 3.5467e-05 - activation_11_loss: 1.4625e-04\n",
            "Epoch 567/600\n",
            "1/1 [==============================] - 0s 162ms/step - loss: 1.0050e-04 - activation_10_loss: 3.7187e-05 - activation_11_loss: 6.3313e-05\n",
            "Epoch 568/600\n",
            "1/1 [==============================] - 0s 155ms/step - loss: 9.5123e-05 - activation_10_loss: 3.2306e-05 - activation_11_loss: 6.2817e-05\n",
            "Epoch 569/600\n",
            "1/1 [==============================] - 0s 159ms/step - loss: 1.4843e-04 - activation_10_loss: 2.7798e-05 - activation_11_loss: 1.2063e-04\n",
            "Epoch 570/600\n",
            "1/1 [==============================] - 0s 154ms/step - loss: 7.8502e-05 - activation_10_loss: 2.6337e-05 - activation_11_loss: 5.2165e-05\n",
            "Epoch 571/600\n",
            "1/1 [==============================] - 0s 160ms/step - loss: 1.6035e-04 - activation_10_loss: 4.0822e-05 - activation_11_loss: 1.1953e-04\n",
            "Epoch 572/600\n",
            "1/1 [==============================] - 0s 159ms/step - loss: 8.2260e-05 - activation_10_loss: 2.8254e-05 - activation_11_loss: 5.4006e-05\n",
            "Epoch 573/600\n",
            "1/1 [==============================] - 0s 164ms/step - loss: 8.3381e-05 - activation_10_loss: 3.6425e-05 - activation_11_loss: 4.6956e-05\n",
            "Epoch 574/600\n",
            "1/1 [==============================] - 0s 159ms/step - loss: 1.1663e-04 - activation_10_loss: 3.7044e-05 - activation_11_loss: 7.9583e-05\n",
            "Epoch 575/600\n",
            "1/1 [==============================] - 0s 163ms/step - loss: 1.2215e-04 - activation_10_loss: 1.7743e-05 - activation_11_loss: 1.0441e-04\n",
            "Epoch 576/600\n",
            "1/1 [==============================] - 0s 152ms/step - loss: 9.6832e-05 - activation_10_loss: 1.8426e-05 - activation_11_loss: 7.8406e-05\n",
            "Epoch 577/600\n",
            "1/1 [==============================] - 0s 171ms/step - loss: 7.9870e-05 - activation_10_loss: 2.4036e-05 - activation_11_loss: 5.5835e-05\n",
            "Epoch 578/600\n",
            "1/1 [==============================] - 0s 153ms/step - loss: 1.7157e-04 - activation_10_loss: 1.0846e-04 - activation_11_loss: 6.3101e-05\n",
            "Epoch 579/600\n",
            "1/1 [==============================] - 0s 162ms/step - loss: 1.3110e-04 - activation_10_loss: 4.6023e-05 - activation_11_loss: 8.5072e-05\n",
            "Epoch 580/600\n",
            "1/1 [==============================] - 0s 151ms/step - loss: 6.0516e-05 - activation_10_loss: 1.9731e-05 - activation_11_loss: 4.0786e-05\n",
            "Epoch 581/600\n",
            "1/1 [==============================] - 0s 160ms/step - loss: 1.2557e-04 - activation_10_loss: 5.6286e-05 - activation_11_loss: 6.9288e-05\n",
            "Epoch 582/600\n",
            "1/1 [==============================] - 0s 162ms/step - loss: 1.3562e-04 - activation_10_loss: 2.4318e-05 - activation_11_loss: 1.1131e-04\n",
            "Epoch 583/600\n",
            "1/1 [==============================] - 0s 163ms/step - loss: 9.6194e-05 - activation_10_loss: 3.9723e-05 - activation_11_loss: 5.6471e-05\n",
            "Epoch 584/600\n",
            "1/1 [==============================] - 0s 161ms/step - loss: 1.2872e-04 - activation_10_loss: 5.3817e-05 - activation_11_loss: 7.4901e-05\n",
            "Epoch 585/600\n",
            "1/1 [==============================] - 0s 160ms/step - loss: 2.9490e-04 - activation_10_loss: 2.4422e-04 - activation_11_loss: 5.0673e-05\n",
            "Epoch 586/600\n",
            "1/1 [==============================] - 0s 160ms/step - loss: 8.5816e-05 - activation_10_loss: 3.9360e-05 - activation_11_loss: 4.6456e-05\n",
            "Epoch 587/600\n",
            "1/1 [==============================] - 0s 156ms/step - loss: 8.5972e-05 - activation_10_loss: 2.1800e-05 - activation_11_loss: 6.4172e-05\n",
            "Epoch 588/600\n",
            "1/1 [==============================] - 0s 154ms/step - loss: 7.0866e-05 - activation_10_loss: 1.8029e-05 - activation_11_loss: 5.2837e-05\n",
            "Epoch 589/600\n",
            "1/1 [==============================] - 0s 152ms/step - loss: 1.2753e-04 - activation_10_loss: 4.8254e-05 - activation_11_loss: 7.9272e-05\n",
            "Epoch 590/600\n",
            "1/1 [==============================] - 0s 162ms/step - loss: 7.3504e-05 - activation_10_loss: 3.2208e-05 - activation_11_loss: 4.1296e-05\n",
            "Epoch 591/600\n",
            "1/1 [==============================] - 0s 151ms/step - loss: 1.6160e-04 - activation_10_loss: 3.1584e-05 - activation_11_loss: 1.3002e-04\n",
            "Epoch 592/600\n",
            "1/1 [==============================] - 0s 166ms/step - loss: 1.4658e-04 - activation_10_loss: 2.8508e-05 - activation_11_loss: 1.1807e-04\n",
            "Epoch 593/600\n",
            "1/1 [==============================] - 0s 158ms/step - loss: 1.3903e-04 - activation_10_loss: 7.9227e-05 - activation_11_loss: 5.9804e-05\n",
            "Epoch 594/600\n",
            "1/1 [==============================] - 0s 159ms/step - loss: 1.1696e-04 - activation_10_loss: 4.0223e-05 - activation_11_loss: 7.6740e-05\n",
            "Epoch 595/600\n",
            "1/1 [==============================] - 0s 159ms/step - loss: 1.1219e-04 - activation_10_loss: 5.0401e-05 - activation_11_loss: 6.1785e-05\n",
            "Epoch 596/600\n",
            "1/1 [==============================] - 0s 156ms/step - loss: 8.3378e-05 - activation_10_loss: 3.6634e-05 - activation_11_loss: 4.6743e-05\n",
            "Epoch 597/600\n",
            "1/1 [==============================] - 0s 159ms/step - loss: 9.0318e-05 - activation_10_loss: 2.2266e-05 - activation_11_loss: 6.8052e-05\n",
            "Epoch 598/600\n",
            "1/1 [==============================] - 0s 162ms/step - loss: 8.0492e-05 - activation_10_loss: 4.1885e-05 - activation_11_loss: 3.8607e-05\n",
            "Epoch 599/600\n",
            "1/1 [==============================] - 0s 157ms/step - loss: 9.5355e-05 - activation_10_loss: 1.7671e-05 - activation_11_loss: 7.7684e-05\n",
            "Epoch 600/600\n",
            "1/1 [==============================] - 0s 159ms/step - loss: 8.3463e-05 - activation_10_loss: 2.4386e-05 - activation_11_loss: 5.9077e-05\n"
          ],
          "name": "stdout"
        },
        {
          "output_type": "execute_result",
          "data": {
            "text/plain": [
              "<tensorflow.python.keras.callbacks.History at 0x7f3569dfa350>"
            ]
          },
          "metadata": {
            "tags": []
          },
          "execution_count": 303
        }
      ]
    },
    {
      "cell_type": "markdown",
      "metadata": {
        "id": "0mjzbDwPdXD6"
      },
      "source": [
        "# Prediction"
      ]
    },
    {
      "cell_type": "code",
      "metadata": {
        "id": "eke4Wbfi6-_c"
      },
      "source": [
        "test_data = pd.read_csv(\"/content/Copy of test - test.csv\")"
      ],
      "execution_count": 304,
      "outputs": []
    },
    {
      "cell_type": "code",
      "metadata": {
        "colab": {
          "base_uri": "https://localhost:8080/",
          "height": 194
        },
        "id": "jSPM3bwJ8KWI",
        "outputId": "e4726479-a92f-4d1c-a087-24399d939d15"
      },
      "source": [
        "test_data.head()"
      ],
      "execution_count": 305,
      "outputs": [
        {
          "output_type": "execute_result",
          "data": {
            "text/html": [
              "<div>\n",
              "<style scoped>\n",
              "    .dataframe tbody tr th:only-of-type {\n",
              "        vertical-align: middle;\n",
              "    }\n",
              "\n",
              "    .dataframe tbody tr th {\n",
              "        vertical-align: top;\n",
              "    }\n",
              "\n",
              "    .dataframe thead th {\n",
              "        text-align: right;\n",
              "    }\n",
              "</style>\n",
              "<table border=\"1\" class=\"dataframe\">\n",
              "  <thead>\n",
              "    <tr style=\"text-align: right;\">\n",
              "      <th></th>\n",
              "      <th>Questions</th>\n",
              "      <th>Context_id</th>\n",
              "    </tr>\n",
              "  </thead>\n",
              "  <tbody>\n",
              "    <tr>\n",
              "      <th>0</th>\n",
              "      <td>Will the pre-class session be recorded?</td>\n",
              "      <td>4</td>\n",
              "    </tr>\n",
              "    <tr>\n",
              "      <th>1</th>\n",
              "      <td>What is the deadline for quiz submission?</td>\n",
              "      <td>1</td>\n",
              "    </tr>\n",
              "    <tr>\n",
              "      <th>2</th>\n",
              "      <td>What is the deadline for exercise submission?</td>\n",
              "      <td>1</td>\n",
              "    </tr>\n",
              "    <tr>\n",
              "      <th>3</th>\n",
              "      <td>How many hours do I need to complete this course?</td>\n",
              "      <td>2</td>\n",
              "    </tr>\n",
              "    <tr>\n",
              "      <th>4</th>\n",
              "      <td>Who will grade the exercise?</td>\n",
              "      <td>0</td>\n",
              "    </tr>\n",
              "  </tbody>\n",
              "</table>\n",
              "</div>"
            ],
            "text/plain": [
              "                                           Questions  Context_id\n",
              "0            Will the pre-class session be recorded?           4\n",
              "1          What is the deadline for quiz submission?           1\n",
              "2      What is the deadline for exercise submission?           1\n",
              "3  How many hours do I need to complete this course?           2\n",
              "4                       Who will grade the exercise?           0"
            ]
          },
          "metadata": {
            "tags": []
          },
          "execution_count": 305
        }
      ]
    },
    {
      "cell_type": "code",
      "metadata": {
        "colab": {
          "base_uri": "https://localhost:8080/"
        },
        "id": "t1B3z0nj7WMD",
        "outputId": "fb291a36-a7b9-4d89-c7e9-41d96d43bf33"
      },
      "source": [
        "\n",
        "test_data['context'] = ''\n",
        "for i in range(len(test_data)):\n",
        "  if test_data['Context_id'][i] == 0:\n",
        "    test_data['context'][i] = context_0\n",
        "\n",
        "  elif test_data['Context_id'][i] == 1:\n",
        "    test_data['context'][i] = context_1\n",
        "\n",
        "  elif test_data['Context_id'][i] == 2:\n",
        "    test_data['context'][i] = context_2\n",
        "\n",
        "  elif test_data['Context_id'][i] == 3:\n",
        "    test_data['context'][i] = context_3\n",
        "\n",
        "  elif test_data['Context_id'][i] == 4:\n",
        "    test_data['context'][i] = context_4"
      ],
      "execution_count": 306,
      "outputs": [
        {
          "output_type": "stream",
          "text": [
            "/usr/local/lib/python3.7/dist-packages/ipykernel_launcher.py:17: SettingWithCopyWarning: \n",
            "A value is trying to be set on a copy of a slice from a DataFrame\n",
            "\n",
            "See the caveats in the documentation: https://pandas.pydata.org/pandas-docs/stable/user_guide/indexing.html#returning-a-view-versus-a-copy\n",
            "/usr/local/lib/python3.7/dist-packages/ipykernel_launcher.py:8: SettingWithCopyWarning: \n",
            "A value is trying to be set on a copy of a slice from a DataFrame\n",
            "\n",
            "See the caveats in the documentation: https://pandas.pydata.org/pandas-docs/stable/user_guide/indexing.html#returning-a-view-versus-a-copy\n",
            "  \n",
            "/usr/local/lib/python3.7/dist-packages/ipykernel_launcher.py:11: SettingWithCopyWarning: \n",
            "A value is trying to be set on a copy of a slice from a DataFrame\n",
            "\n",
            "See the caveats in the documentation: https://pandas.pydata.org/pandas-docs/stable/user_guide/indexing.html#returning-a-view-versus-a-copy\n",
            "  # This is added back by InteractiveShellApp.init_path()\n",
            "/usr/local/lib/python3.7/dist-packages/ipykernel_launcher.py:5: SettingWithCopyWarning: \n",
            "A value is trying to be set on a copy of a slice from a DataFrame\n",
            "\n",
            "See the caveats in the documentation: https://pandas.pydata.org/pandas-docs/stable/user_guide/indexing.html#returning-a-view-versus-a-copy\n",
            "  \"\"\"\n",
            "/usr/local/lib/python3.7/dist-packages/ipykernel_launcher.py:14: SettingWithCopyWarning: \n",
            "A value is trying to be set on a copy of a slice from a DataFrame\n",
            "\n",
            "See the caveats in the documentation: https://pandas.pydata.org/pandas-docs/stable/user_guide/indexing.html#returning-a-view-versus-a-copy\n",
            "  \n"
          ],
          "name": "stderr"
        }
      ]
    },
    {
      "cell_type": "code",
      "metadata": {
        "id": "ODAIhRan7Znv"
      },
      "source": [
        "test_data.drop('Context_id', axis = 1, inplace = True)"
      ],
      "execution_count": 307,
      "outputs": []
    },
    {
      "cell_type": "code",
      "metadata": {
        "id": "OF0-C7trHhMC",
        "colab": {
          "base_uri": "https://localhost:8080/"
        },
        "outputId": "b82e0f94-869f-4cb2-81f1-d89f97ad5075"
      },
      "source": [
        "#To preprocess the test questions\n",
        "def preprocess_test(context, question):\n",
        "  tokenized_context = tokenizer.encode(context)\n",
        "  tokenized_question = tokenizer.encode(question)\n",
        "  input_ids = tokenized_context.ids + tokenized_question.ids[1:]\n",
        "  token_type_ids = [0] * len(tokenized_context.ids) + [1] * len(tokenized_question.ids[1:])\n",
        "  attention_mask = [1] * len(input_ids)\n",
        "  padding_length = max_len - len(input_ids)\n",
        "  if padding_length > 0:\n",
        "    input_ids = input_ids + ([0] * padding_length)\n",
        "    attention_mask = attention_mask + ([0] * padding_length)\n",
        "    token_type_ids = token_type_ids + ([0] * padding_length)\n",
        "  elif padding_length < 0:\n",
        "    None;\n",
        "  input_ids = np.array(input_ids)\n",
        "  token_type_ids = np.array(token_type_ids)\n",
        "  attention_mask = np.array(attention_mask)\n",
        "  x_test = [input_ids.reshape(1, 384), token_type_ids.reshape(1, 384), attention_mask.reshape(1, 384)]\n",
        "  return x_test\n",
        "\n",
        "\n",
        "\n",
        "#Tokens to translate\n",
        "import nltk\n",
        "nltk.download('punkt')\n",
        "\n",
        "context_list = [quest for quest in test_data.context]\n",
        "from nltk.tokenize import word_tokenize\n",
        "tokenized_context = [word_tokenize(i) for i in context_list]\n",
        "\n",
        "\n",
        "#To process Predictions\n",
        "def process_output(prediction, i):\n",
        "  start_idx = prediction[0][0].argmax()\n",
        "  end_idx = prediction[1][0].argmax()\n",
        "  answer = tokenized_context[i][start_idx:end_idx]\n",
        "  return ' '.join(answer)\n",
        "\n"
      ],
      "execution_count": 308,
      "outputs": [
        {
          "output_type": "stream",
          "text": [
            "[nltk_data] Downloading package punkt to /root/nltk_data...\n",
            "[nltk_data]   Package punkt is already up-to-date!\n"
          ],
          "name": "stdout"
        }
      ]
    },
    {
      "cell_type": "code",
      "metadata": {
        "colab": {
          "base_uri": "https://localhost:8080/"
        },
        "id": "Yrdc-3s2ZaRg",
        "outputId": "052c85ad-2f28-47fc-ddc3-68f60e058ff8"
      },
      "source": [
        "for i in range(len(test_data)):\n",
        "  x_test = preprocess_test(test_data.context[i], test_data.Questions[i])\n",
        "  y_test = model.predict(x_test)\n",
        "  answer = process_output(y_test, i)\n",
        "  print('Question: ', test_data.Questions[i])\n",
        "  print('Answer: ', answer)\n",
        "  print('------------------------------------------------')\n",
        "  print('                                                 ')\n",
        "  "
      ],
      "execution_count": 309,
      "outputs": [
        {
          "output_type": "stream",
          "text": [
            "INFO:absl:TPU has inputs with dynamic shapes: [<tf.Tensor 'Const:0' shape=() dtype=int32>, <tf.Tensor 'cond_8/Identity:0' shape=(None, 384) dtype=int64>, <tf.Tensor 'cond_8/Identity_1:0' shape=(None, 384) dtype=int64>, <tf.Tensor 'cond_8/Identity_2:0' shape=(None, 384) dtype=int64>]\n"
          ],
          "name": "stderr"
        },
        {
          "output_type": "stream",
          "text": [
            "WARNING:tensorflow:The parameters `output_attentions`, `output_hidden_states` and `use_cache` cannot be updated when calling a model.They have to be set to True/False in the config object (i.e.: `config=XConfig.from_pretrained('name', output_attentions=True)`).\n"
          ],
          "name": "stdout"
        },
        {
          "output_type": "stream",
          "text": [
            "WARNING:tensorflow:The parameters `output_attentions`, `output_hidden_states` and `use_cache` cannot be updated when calling a model.They have to be set to True/False in the config object (i.e.: `config=XConfig.from_pretrained('name', output_attentions=True)`).\n"
          ],
          "name": "stderr"
        },
        {
          "output_type": "stream",
          "text": [
            "WARNING:tensorflow:The parameter `return_dict` cannot be set in graph mode and will always be set to `True`.\n"
          ],
          "name": "stdout"
        },
        {
          "output_type": "stream",
          "text": [
            "WARNING:tensorflow:The parameter `return_dict` cannot be set in graph mode and will always be set to `True`.\n"
          ],
          "name": "stderr"
        },
        {
          "output_type": "stream",
          "text": [
            "Question:  Will the pre-class session be recorded?\n",
            "Answer:  sessions will be recorded\n",
            "------------------------------------------------\n",
            "                                                 \n",
            "Question:  What is the deadline for quiz submission?\n",
            "Answer:  on the day of the following lecture . Extensions\n",
            "------------------------------------------------\n",
            "                                                 \n",
            "Question:  What is the deadline for exercise submission?\n",
            "Answer:  on the day of the following lecture . Extensions\n",
            "------------------------------------------------\n",
            "                                                 \n",
            "Question:  How many hours do I need to complete this course?\n",
            "Answer:  fifteen hours a week\n",
            "------------------------------------------------\n",
            "                                                 \n",
            "Question:  Who will grade the exercise?\n",
            "Answer:  the edstem platform . You need to be\n",
            "------------------------------------------------\n",
            "                                                 \n",
            "Question:  Why is the auto-grader failing me?\n",
            "Answer:  alternative solutions please follow the instructions . Ten percent of your grade\n",
            "------------------------------------------------\n",
            "                                                 \n",
            "Question:  Do I do the exercises individually?\n",
            "Answer:  have to be done individually but can be discussed in breakout rooms\n",
            "------------------------------------------------\n",
            "                                                 \n",
            "Question:  Is the lab compulsory?\n",
            "Answer:  are not graded\n",
            "------------------------------------------------\n",
            "                                                 \n",
            "Question:  Will the sessions be recorded?\n",
            "Answer:  sessions will be recorded\n",
            "------------------------------------------------\n",
            "                                                 \n",
            "Question:  Can I have access to the recorded videos?\n",
            "Answer:  have access to all the captured video materials\n",
            "------------------------------------------------\n",
            "                                                 \n",
            "Question:  Where are the recordings?\n",
            "Answer:  links will be posted on edstem and\n",
            "------------------------------------------------\n",
            "                                                 \n",
            "Question:  Where can I ask questions regarding reading material\n",
            "Answer:  can be found on edstem forums under the ‘ Lectures ’ category . The\n",
            "------------------------------------------------\n",
            "                                                 \n",
            "Question:  Where to find course material?\n",
            "Answer:  available on edstem and can be\n",
            "------------------------------------------------\n",
            "                                                 \n",
            "Question:  Do we have homework?\n",
            "Answer:  session has an exercise and there is a homework after each week\n",
            "------------------------------------------------\n",
            "                                                 \n",
            "Question:  Where can I find the homework?\n",
            "Answer:  can be found on edstem in the lessons tab .\n",
            "------------------------------------------------\n",
            "                                                 \n",
            "Question:  Where to submit the homework?\n",
            "Answer:  your partner have to submit the homework in the edstem lessons tab . It is\n",
            "------------------------------------------------\n",
            "                                                 \n",
            "Question:  Where do I find the homework?\n",
            "Answer:  can be found on edstem in the lessons tab .\n",
            "------------------------------------------------\n",
            "                                                 \n",
            "Question:  Where do I submit my homework assignment?\n",
            "Answer:  your partner have to submit the homework in the edstem lessons tab . It is\n",
            "------------------------------------------------\n",
            "                                                 \n",
            "Question:  Will the professor take office hours?\n",
            "Answer:  take the office hour .\n",
            "------------------------------------------------\n",
            "                                                 \n",
            "Question:  What is the OH zoom link?\n",
            "Answer:  course information slide for zoom links .\n",
            "------------------------------------------------\n",
            "                                                 \n",
            "Question:  What will we do in projects?\n",
            "Answer:  on a project in groups of four on a topic of your choice based on what you learnt in the course . A\n",
            "------------------------------------------------\n",
            "                                                 \n",
            "Question:  What should be the duration of the presentation video?\n",
            "Answer:  are group\n",
            "------------------------------------------------\n",
            "                                                 \n",
            "Question:  Do I need to submit the project in a group?\n",
            "Answer:  on a project in groups of four on a topic of your choice based on what you learnt in the course . A\n",
            "------------------------------------------------\n",
            "                                                 \n",
            "Question:  Does attendance count to grading?\n",
            "Answer:  percent in\n",
            "------------------------------------------------\n",
            "                                                 \n"
          ],
          "name": "stdout"
        }
      ]
    },
    {
      "cell_type": "code",
      "metadata": {
        "id": "A8roHpGeH7Ew"
      },
      "source": [
        "#model.save_weights('bert_weights_final.h5')"
      ],
      "execution_count": 310,
      "outputs": []
    }
  ]
}