{
  "nbformat": 4,
  "nbformat_minor": 0,
  "metadata": {
    "colab": {
      "name": "Cornell Baseline Model.ipynb",
      "provenance": []
    },
    "kernelspec": {
      "name": "python3",
      "display_name": "Python 3"
    },
    "language_info": {
      "name": "python"
    }
  },
  "cells": [
    {
      "cell_type": "code",
      "metadata": {
        "colab": {
          "base_uri": "https://localhost:8080/"
        },
        "id": "I_Mhl-pmCcF1",
        "outputId": "74e00228-4856-49cd-cda3-c3eebafe160d"
      },
      "source": [
        "from google.colab import drive\n",
        "drive.mount('/content/drive')"
      ],
      "execution_count": null,
      "outputs": [
        {
          "output_type": "stream",
          "text": [
            "Mounted at /content/drive\n"
          ],
          "name": "stdout"
        }
      ]
    },
    {
      "cell_type": "code",
      "metadata": {
        "colab": {
          "base_uri": "https://localhost:8080/"
        },
        "id": "ZvQJLai4-ppU",
        "outputId": "474336a8-dfaf-40a3-ffca-e77f1ce1a3ee"
      },
      "source": [
        "!unzip \"/content/drive/MyDrive/cornell_movie_dialogs_corpus.zip\" -d \"/content/cornell_movie\""
      ],
      "execution_count": null,
      "outputs": [
        {
          "output_type": "stream",
          "text": [
            "Archive:  /content/drive/MyDrive/cornell_movie_dialogs_corpus.zip\n",
            "   creating: /content/cornell_movie/cornell movie-dialogs corpus/\n",
            "  inflating: /content/cornell_movie/cornell movie-dialogs corpus/.DS_Store  \n",
            "   creating: /content/cornell_movie/__MACOSX/\n",
            "   creating: /content/cornell_movie/__MACOSX/cornell movie-dialogs corpus/\n",
            "  inflating: /content/cornell_movie/__MACOSX/cornell movie-dialogs corpus/._.DS_Store  \n",
            "  inflating: /content/cornell_movie/cornell movie-dialogs corpus/chameleons.pdf  \n",
            "  inflating: /content/cornell_movie/__MACOSX/cornell movie-dialogs corpus/._chameleons.pdf  \n",
            "  inflating: /content/cornell_movie/cornell movie-dialogs corpus/movie_characters_metadata.txt  \n",
            "  inflating: /content/cornell_movie/cornell movie-dialogs corpus/movie_conversations.txt  \n",
            "  inflating: /content/cornell_movie/cornell movie-dialogs corpus/movie_lines.txt  \n",
            "  inflating: /content/cornell_movie/cornell movie-dialogs corpus/movie_titles_metadata.txt  \n",
            "  inflating: /content/cornell_movie/cornell movie-dialogs corpus/raw_script_urls.txt  \n",
            "  inflating: /content/cornell_movie/cornell movie-dialogs corpus/README.txt  \n",
            "  inflating: /content/cornell_movie/__MACOSX/cornell movie-dialogs corpus/._README.txt  \n"
          ],
          "name": "stdout"
        }
      ]
    },
    {
      "cell_type": "code",
      "metadata": {
        "id": "Wq-BQirX_JQX"
      },
      "source": [
        "import numpy as np\n",
        "import pandas as pd\n",
        "import string\n",
        "import pickle\n",
        "import operator\n",
        "import matplotlib.pyplot as plt\n",
        "%matplotlib inline"
      ],
      "execution_count": null,
      "outputs": []
    },
    {
      "cell_type": "code",
      "metadata": {
        "id": "3KlKQxZx_bWC"
      },
      "source": [
        "import codecs\n",
        "\n",
        "with codecs.open(\"/content/cornell_movie/cornell movie-dialogs corpus/movie_lines.txt\", \"rb\", encoding=\"utf-8\", errors=\"ignore\") as f:\n",
        "    lines = f.read().split(\"\\n\")\n",
        "    conversations = []\n",
        "    for line in lines:\n",
        "        data = line.split(\" +++$+++ \")\n",
        "        conversations.append(data)"
      ],
      "execution_count": null,
      "outputs": []
    },
    {
      "cell_type": "code",
      "metadata": {
        "colab": {
          "base_uri": "https://localhost:8080/"
        },
        "id": "qW5QTdmB_naO",
        "outputId": "74e3029c-234e-4d96-9be0-2ba1fa321aa0"
      },
      "source": [
        "conversations[:6]"
      ],
      "execution_count": null,
      "outputs": [
        {
          "output_type": "execute_result",
          "data": {
            "text/plain": [
              "[['L1045', 'u0', 'm0', 'BIANCA', 'They do not!'],\n",
              " ['L1044', 'u2', 'm0', 'CAMERON', 'They do to!'],\n",
              " ['L985', 'u0', 'm0', 'BIANCA', 'I hope so.'],\n",
              " ['L984', 'u2', 'm0', 'CAMERON', 'She okay?'],\n",
              " ['L925', 'u0', 'm0', 'BIANCA', \"Let's go.\"],\n",
              " ['L924', 'u2', 'm0', 'CAMERON', 'Wow']]"
            ]
          },
          "metadata": {
            "tags": []
          },
          "execution_count": 5
        }
      ]
    },
    {
      "cell_type": "code",
      "metadata": {
        "id": "tSMWr7cL_uwX"
      },
      "source": [
        "chats = {}\n",
        "for tokens in conversations:\n",
        "    if len(tokens) > 4:\n",
        "        idx = tokens[0][1:]\n",
        "        chat = tokens[4]\n",
        "        chats[int(idx)] = chat"
      ],
      "execution_count": null,
      "outputs": []
    },
    {
      "cell_type": "code",
      "metadata": {
        "id": "rCjb7Zr7AiLU"
      },
      "source": [
        "sorted_chats = sorted(chats.items(), key = lambda x: x[0])\n",
        "#sorted_chats"
      ],
      "execution_count": null,
      "outputs": []
    },
    {
      "cell_type": "code",
      "metadata": {
        "id": "2aFhx95VA8l9"
      },
      "source": [
        "conves_dict = {}\n",
        "counter = 1\n",
        "conves_ids = []\n",
        "for i in range(1, len(sorted_chats)+1):\n",
        "    if i < len(sorted_chats):\n",
        "        if (sorted_chats[i][0] - sorted_chats[i-1][0]) == 1:\n",
        "            if sorted_chats[i-1][1] not in conves_ids:\n",
        "                conves_ids.append(sorted_chats[i-1][1])\n",
        "            conves_ids.append(sorted_chats[i][1])\n",
        "        elif (sorted_chats[i][0] - sorted_chats[i-1][0]) > 1:            \n",
        "            conves_dict[counter] = conves_ids\n",
        "            conves_ids = []\n",
        "        counter += 1\n",
        "    else:\n",
        "        pass"
      ],
      "execution_count": null,
      "outputs": []
    },
    {
      "cell_type": "code",
      "metadata": {
        "id": "JCVMan8oBOUc"
      },
      "source": [
        "context_and_target = []\n",
        "#dicarding dialogue without a reply\n",
        "for conves in conves_dict.values():\n",
        "    if len(conves) % 2 != 0:\n",
        "        conves = conves[:-1]\n",
        "    for i in range(0, len(conves), 2):\n",
        "        context_and_target.append((conves[i], conves[i+1]))"
      ],
      "execution_count": null,
      "outputs": []
    },
    {
      "cell_type": "code",
      "metadata": {
        "id": "rBXHM-GlCSD2"
      },
      "source": [
        "context_and_target=context_and_target[:10000]"
      ],
      "execution_count": null,
      "outputs": []
    },
    {
      "cell_type": "code",
      "metadata": {
        "id": "KzpkKAioCWQ8"
      },
      "source": [
        "context, target = zip(*context_and_target)"
      ],
      "execution_count": null,
      "outputs": []
    },
    {
      "cell_type": "code",
      "metadata": {
        "id": "nC6YfRcFCZ86"
      },
      "source": [
        "context = list(context)\n",
        "target = list(target)"
      ],
      "execution_count": null,
      "outputs": []
    },
    {
      "cell_type": "code",
      "metadata": {
        "colab": {
          "base_uri": "https://localhost:8080/"
        },
        "id": "f33K_kFRCetC",
        "outputId": "79566a57-bf22-49e8-9c81-94c22ed05796"
      },
      "source": [
        "context[:5]"
      ],
      "execution_count": null,
      "outputs": [
        {
          "output_type": "execute_result",
          "data": {
            "text/plain": [
              "['Did you change your hair?',\n",
              " 'I missed you.',\n",
              " 'It was a bratwurst.  I was eating lunch.',\n",
              " 'You the new guy?',\n",
              " \"C'mon.  I'm supposed to give you the tour.\"]"
            ]
          },
          "metadata": {
            "tags": []
          },
          "execution_count": 13
        }
      ]
    },
    {
      "cell_type": "code",
      "metadata": {
        "colab": {
          "base_uri": "https://localhost:8080/"
        },
        "id": "EemUZdslCiOg",
        "outputId": "94745edc-6e63-4809-ff95-ac6d23c2c791"
      },
      "source": [
        "target[:5]"
      ],
      "execution_count": null,
      "outputs": [
        {
          "output_type": "execute_result",
          "data": {
            "text/plain": [
              "['No.',\n",
              " 'It says here you exposed yourself to a group of freshmen girls.',\n",
              " 'With the teeth of your zipper?',\n",
              " 'So they tell me...',\n",
              " 'So -- which Dakota you from?']"
            ]
          },
          "metadata": {
            "tags": []
          },
          "execution_count": 14
        }
      ]
    },
    {
      "cell_type": "code",
      "metadata": {
        "id": "zSwT7FlrCnvV"
      },
      "source": [
        "import re\n",
        "MAX_LEN = 12"
      ],
      "execution_count": null,
      "outputs": []
    },
    {
      "cell_type": "code",
      "metadata": {
        "id": "iid9oBLFCwYV"
      },
      "source": [
        "def clean_text(text):\n",
        "    # Clean text by removing unnecessary characters and altering the format of words\n",
        "\n",
        "    text = text.lower()\n",
        "    \n",
        "    text = re.sub(r\"i'm\", \"i am\", text)\n",
        "    text = re.sub(r\"he's\", \"he is\", text)\n",
        "    text = re.sub(r\"she's\", \"she is\", text)\n",
        "    text = re.sub(r\"it's\", \"it is\", text)\n",
        "    text = re.sub(r\"that's\", \"that is\", text)\n",
        "    text = re.sub(r\"what's\", \"that is\", text)\n",
        "    text = re.sub(r\"where's\", \"where is\", text)\n",
        "    text = re.sub(r\"how's\", \"how is\", text)\n",
        "    text = re.sub(r\"\\'ll\", \" will\", text)\n",
        "    text = re.sub(r\"\\'ve\", \" have\", text)\n",
        "    text = re.sub(r\"\\'re\", \" are\", text)\n",
        "    text = re.sub(r\"\\'d\", \" would\", text)\n",
        "    text = re.sub(r\"\\'re\", \" are\", text)\n",
        "    text = re.sub(r\"won't\", \"will not\", text)\n",
        "    text = re.sub(r\"can't\", \"cannot\", text)\n",
        "    text = re.sub(r\"n't\", \" not\", text)\n",
        "    text = re.sub(r\"n'\", \"ng\", text)\n",
        "    text = re.sub(r\"'bout\", \"about\", text)\n",
        "    text = re.sub(r\"'til\", \"until\", text)\n",
        "    text = re.sub(r\"[-()\\\"#/@;:<>{}`+=~|.!?,]\", \"\", text)\n",
        "    \n",
        "    return text"
      ],
      "execution_count": null,
      "outputs": []
    },
    {
      "cell_type": "code",
      "metadata": {
        "id": "H8beSYH8C4Y6"
      },
      "source": [
        "tidy_context = []\n",
        "for conve in context:\n",
        "    text = clean_text(conve)\n",
        "    tidy_context.append(text)\n",
        "tidy_target = []\n",
        "for conve in target:\n",
        "    text = clean_text(conve)\n",
        "    tidy_target.append(text)"
      ],
      "execution_count": null,
      "outputs": []
    },
    {
      "cell_type": "code",
      "metadata": {
        "id": "6t5Whs6cDGC9"
      },
      "source": [
        "bos = \"<START> \"\n",
        "eos = \" <STOP>\"\n",
        "final_target = [bos + conve + eos for conve in tidy_target] \n",
        "encoder_inputs = tidy_context\n",
        "decoder_inputs = final_target"
      ],
      "execution_count": null,
      "outputs": []
    },
    {
      "cell_type": "code",
      "metadata": {
        "colab": {
          "base_uri": "https://localhost:8080/",
          "height": 35
        },
        "id": "XsPHi59UDb1j",
        "outputId": "6cfda9eb-1197-4529-8643-9dd51cfe3d72"
      },
      "source": [
        "encoder_inputs[0]"
      ],
      "execution_count": null,
      "outputs": [
        {
          "output_type": "execute_result",
          "data": {
            "application/vnd.google.colaboratory.intrinsic+json": {
              "type": "string"
            },
            "text/plain": [
              "'did you change your hair'"
            ]
          },
          "metadata": {
            "tags": []
          },
          "execution_count": 19
        }
      ]
    },
    {
      "cell_type": "code",
      "metadata": {
        "id": "KHFc3Zn7D7F-"
      },
      "source": [
        "with open(\"encoder_inputs.txt\", \"w\") as output:\n",
        "  for i in encoder_inputs:\n",
        "    output.write('%s\\n' % i)"
      ],
      "execution_count": null,
      "outputs": []
    },
    {
      "cell_type": "code",
      "metadata": {
        "id": "aL3uTRCeESby"
      },
      "source": [
        "with codecs.open(\"encoder_inputs.txt\", \"rb\", encoding=\"utf-8\", errors=\"ignore\") as f:\n",
        "    lines = f.read().split(\"\\n\")\n",
        "    encoder_text = []\n",
        "    for line in lines:\n",
        "        data = line.split(\"\\n\")[0]\n",
        "        encoder_text.append(data)"
      ],
      "execution_count": null,
      "outputs": []
    },
    {
      "cell_type": "code",
      "metadata": {
        "colab": {
          "base_uri": "https://localhost:8080/"
        },
        "id": "7kHhnVU_EjAN",
        "outputId": "cd93be91-5264-4fcb-c446-dc524ccbf53a"
      },
      "source": [
        "len(encoder_text)"
      ],
      "execution_count": null,
      "outputs": [
        {
          "output_type": "execute_result",
          "data": {
            "text/plain": [
              "10001"
            ]
          },
          "metadata": {
            "tags": []
          },
          "execution_count": 22
        }
      ]
    },
    {
      "cell_type": "code",
      "metadata": {
        "colab": {
          "base_uri": "https://localhost:8080/"
        },
        "id": "Ezm1uzvaElEv",
        "outputId": "e56dfe4f-6564-446f-cdd2-8308395a60e2"
      },
      "source": [
        "encoder_text[:5]"
      ],
      "execution_count": null,
      "outputs": [
        {
          "output_type": "execute_result",
          "data": {
            "text/plain": [
              "['did you change your hair',\n",
              " 'i missed you',\n",
              " 'it was a bratwurst  i was eating lunch',\n",
              " 'you the new guy',\n",
              " \"c'mon  i am supposed to give you the tour\"]"
            ]
          },
          "metadata": {
            "tags": []
          },
          "execution_count": 23
        }
      ]
    },
    {
      "cell_type": "code",
      "metadata": {
        "id": "rhtTTSTZE6eK"
      },
      "source": [
        "with open(\"decoder_inputs.txt\", \"w\") as output:\n",
        "  for i in decoder_inputs:\n",
        "    output.write('%s\\n' % i)"
      ],
      "execution_count": null,
      "outputs": []
    },
    {
      "cell_type": "code",
      "metadata": {
        "id": "iMnRRJ7tFDR_"
      },
      "source": [
        "\n",
        "with codecs.open(\"decoder_inputs.txt\", \"rb\", encoding=\"utf-8\", errors=\"ignore\") as f:\n",
        "    lines = f.read().split(\"\\n\")\n",
        "    decoder_text = []\n",
        "    for line in lines:\n",
        "        data = line.split(\"\\n\")[0]\n",
        "        decoder_text.append(data)"
      ],
      "execution_count": null,
      "outputs": []
    },
    {
      "cell_type": "code",
      "metadata": {
        "colab": {
          "base_uri": "https://localhost:8080/"
        },
        "id": "O_Yj5B1gFHfj",
        "outputId": "f734014c-439c-4ce2-e537-ce2fd028e647"
      },
      "source": [
        "len(decoder_text)"
      ],
      "execution_count": null,
      "outputs": [
        {
          "output_type": "execute_result",
          "data": {
            "text/plain": [
              "10001"
            ]
          },
          "metadata": {
            "tags": []
          },
          "execution_count": 26
        }
      ]
    },
    {
      "cell_type": "markdown",
      "metadata": {
        "id": "6pJhfT7eFYAM"
      },
      "source": [
        "**Making Vocabulary**"
      ]
    },
    {
      "cell_type": "code",
      "metadata": {
        "id": "1cn4HjlNF0Wr"
      },
      "source": [
        "full_text = encoder_text + decoder_text"
      ],
      "execution_count": null,
      "outputs": []
    },
    {
      "cell_type": "code",
      "metadata": {
        "id": "tMwTzw6GFMbC"
      },
      "source": [
        "dictionary = []\n",
        "for text in full_text:\n",
        "    words = text.split()\n",
        "    for i in range(0, len(words)):\n",
        "        if words[i] not in dictionary:\n",
        "            dictionary.append(words[i])\n",
        "# save this dict takes time to run"
      ],
      "execution_count": null,
      "outputs": []
    },
    {
      "cell_type": "code",
      "metadata": {
        "colab": {
          "base_uri": "https://localhost:8080/",
          "height": 35
        },
        "id": "H_N9iWceInK-",
        "outputId": "b1a96fcf-c5ff-45a9-da93-5c0cf3cc4771"
      },
      "source": [
        "full_text[0]"
      ],
      "execution_count": null,
      "outputs": [
        {
          "output_type": "execute_result",
          "data": {
            "application/vnd.google.colaboratory.intrinsic+json": {
              "type": "string"
            },
            "text/plain": [
              "'did you change your hair'"
            ]
          },
          "metadata": {
            "tags": []
          },
          "execution_count": 29
        }
      ]
    },
    {
      "cell_type": "code",
      "metadata": {
        "id": "SorOWX-AF31Q"
      },
      "source": [
        "from keras.preprocessing.text import Tokenizer\n",
        "VOCAB_SIZE = 2000\n",
        "tokenizer = Tokenizer(num_words=VOCAB_SIZE)"
      ],
      "execution_count": null,
      "outputs": []
    },
    {
      "cell_type": "code",
      "metadata": {
        "colab": {
          "base_uri": "https://localhost:8080/"
        },
        "id": "FmgxNEW4G2pB",
        "outputId": "9e0b0dcd-1b2e-4248-c2ae-b40bbc7e49d9"
      },
      "source": [
        "tokenizer.fit_on_texts(full_text)\n",
        "word_index = tokenizer.word_index\n",
        "len(word_index)"
      ],
      "execution_count": null,
      "outputs": [
        {
          "output_type": "execute_result",
          "data": {
            "text/plain": [
              "13434"
            ]
          },
          "metadata": {
            "tags": []
          },
          "execution_count": 31
        }
      ]
    },
    {
      "cell_type": "code",
      "metadata": {
        "id": "NPdk2tZL_79C"
      },
      "source": [
        "index2word = {}\n",
        "for k, v in word_index.items():\n",
        "    if v < 2001:\n",
        "        index2word[v+3] = k\n",
        "    if v > 2001:\n",
        "        continue"
      ],
      "execution_count": null,
      "outputs": []
    },
    {
      "cell_type": "code",
      "metadata": {
        "id": "4Yw9tqwoAlNa"
      },
      "source": [
        "index2word[1] = bos\n",
        "index2word[3] = eos\n",
        "index2word[0]= 'padding'\n",
        "index2word[2]= 'unk'"
      ],
      "execution_count": null,
      "outputs": []
    },
    {
      "cell_type": "code",
      "metadata": {
        "id": "lxGiVRB-AGfL"
      },
      "source": [
        "word2index = {}\n",
        "for k, v in index2word.items():\n",
        "    word2index[v] = k"
      ],
      "execution_count": null,
      "outputs": []
    },
    {
      "cell_type": "code",
      "metadata": {
        "colab": {
          "base_uri": "https://localhost:8080/"
        },
        "id": "agGt3ygVAyqp",
        "outputId": "dc48d84e-c1ac-473a-bb13-3d5a91cb03f2"
      },
      "source": [
        "len(word2index) == len(index2word)"
      ],
      "execution_count": null,
      "outputs": [
        {
          "output_type": "execute_result",
          "data": {
            "text/plain": [
              "True"
            ]
          },
          "metadata": {
            "tags": []
          },
          "execution_count": 35
        }
      ]
    },
    {
      "cell_type": "code",
      "metadata": {
        "id": "4z_3UmIQRTmT"
      },
      "source": [
        "encoder_sequences = tokenizer.texts_to_sequences(encoder_text)"
      ],
      "execution_count": null,
      "outputs": []
    },
    {
      "cell_type": "code",
      "metadata": {
        "id": "lBJQ-3ewZDbo"
      },
      "source": [
        "decoder_sequences = tokenizer.texts_to_sequences(decoder_text)"
      ],
      "execution_count": null,
      "outputs": []
    },
    {
      "cell_type": "code",
      "metadata": {
        "id": "s1KrlsqKZReZ"
      },
      "source": [
        "for seqs in encoder_sequences:\n",
        "    for seq in seqs:\n",
        "        if seq > 2000:\n",
        "            print(seq)\n",
        "            break"
      ],
      "execution_count": null,
      "outputs": []
    },
    {
      "cell_type": "code",
      "metadata": {
        "colab": {
          "base_uri": "https://localhost:8080/"
        },
        "id": "_vbHbwqVbZfo",
        "outputId": "703e435a-a919-42fa-ee6d-452702753878"
      },
      "source": [
        "VOCAB_SIZE = len(index2word) + 1\n",
        "VOCAB_SIZE"
      ],
      "execution_count": null,
      "outputs": [
        {
          "output_type": "execute_result",
          "data": {
            "text/plain": [
              "2005"
            ]
          },
          "metadata": {
            "tags": []
          },
          "execution_count": 39
        }
      ]
    },
    {
      "cell_type": "code",
      "metadata": {
        "id": "0YbYYeOrduvE"
      },
      "source": [
        "from keras.preprocessing.sequence import pad_sequences\n",
        "MAX_LEN = 20\n",
        "encoder_input_data = pad_sequences(encoder_sequences, maxlen=MAX_LEN, dtype='int32', padding='post', truncating='post')\n",
        "decoder_input_data = pad_sequences(decoder_sequences, maxlen=MAX_LEN, dtype='int32', padding='post', truncating='post')"
      ],
      "execution_count": null,
      "outputs": []
    },
    {
      "cell_type": "code",
      "metadata": {
        "colab": {
          "base_uri": "https://localhost:8080/"
        },
        "id": "_kJ1s7tv4gbc",
        "outputId": "c6db3027-3b76-4ffe-b202-f46d01866331"
      },
      "source": [
        "decoder_input_data"
      ],
      "execution_count": null,
      "outputs": [
        {
          "output_type": "execute_result",
          "data": {
            "text/plain": [
              "array([[  2,  30,   1, ...,   0,   0,   0],\n",
              "       [  2,   9, 262, ...,   0,   0,   0],\n",
              "       [  2,  34,   5, ...,   0,   0,   0],\n",
              "       ...,\n",
              "       [  2,  11,   7, ...,   0,   0,   0],\n",
              "       [  2,  71,   3, ...,   0,   0,   0],\n",
              "       [  0,   0,   0, ...,   0,   0,   0]], dtype=int32)"
            ]
          },
          "metadata": {
            "tags": []
          },
          "execution_count": 41
        }
      ]
    },
    {
      "cell_type": "code",
      "metadata": {
        "id": "ly0IVfzXbi5E"
      },
      "source": [
        "\n",
        "num_samples = len(encoder_sequences)\n",
        "decoder_output_data = np.zeros((num_samples, MAX_LEN, VOCAB_SIZE), dtype=\"float32\")"
      ],
      "execution_count": null,
      "outputs": []
    },
    {
      "cell_type": "code",
      "metadata": {
        "id": "_kOn26h_bve8"
      },
      "source": [
        "# one hot encoding the tokens:\n",
        "for i, seqs in enumerate(decoder_input_data):\n",
        "    for j, seq in enumerate(seqs):\n",
        "        if j > 0:\n",
        "            decoder_output_data[i][j][seq] = 1"
      ],
      "execution_count": null,
      "outputs": []
    },
    {
      "cell_type": "code",
      "metadata": {
        "id": "5Q8sbIX_glBi"
      },
      "source": [
        "# while fine tuning, i'll have to add the new words which are already not in word2idx to it, "
      ],
      "execution_count": null,
      "outputs": []
    },
    {
      "cell_type": "code",
      "metadata": {
        "colab": {
          "base_uri": "https://localhost:8080/"
        },
        "id": "hvvgDuLgjTmP",
        "outputId": "9d7d0c12-5bc1-4ae4-dfac-c004394c084c"
      },
      "source": [
        "!unzip \"/content/drive/MyDrive/glove.6B.50d.txt.zip\" -d \"/content/glove\""
      ],
      "execution_count": null,
      "outputs": [
        {
          "output_type": "stream",
          "text": [
            "Archive:  /content/drive/MyDrive/glove.6B.50d.txt.zip\n",
            "  inflating: /content/glove/glove.6B.50d.txt  \n"
          ],
          "name": "stdout"
        }
      ]
    },
    {
      "cell_type": "code",
      "metadata": {
        "colab": {
          "base_uri": "https://localhost:8080/"
        },
        "id": "eQlzSTxXkIzj",
        "outputId": "1f816e67-465e-402b-c4f9-838eb590a0d2"
      },
      "source": [
        "embeddings_index = {}\n",
        "with open('/content/glove/glove.6B.50d.txt', encoding='utf-8') as f:\n",
        "    for line in f:\n",
        "        values = line.split()\n",
        "        word = values[0]\n",
        "        coefs = np.asarray(values[1:], dtype='float32')\n",
        "        embeddings_index[word] = coefs\n",
        "    f.close()\n",
        "\n",
        "print(\"Glove Loaded!\")"
      ],
      "execution_count": null,
      "outputs": [
        {
          "output_type": "stream",
          "text": [
            "Glove Loaded!\n"
          ],
          "name": "stdout"
        }
      ]
    },
    {
      "cell_type": "code",
      "metadata": {
        "id": "KB_vjR-rkQYv"
      },
      "source": [
        "embedding_dimention = 50\n",
        "def embedding_matrix_creater(embedding_dimention, word_index):\n",
        "    embedding_matrix = np.zeros((len(word_index) + 1, embedding_dimention))\n",
        "    for word, i in word_index.items():\n",
        "        embedding_vector = embeddings_index.get(word)\n",
        "        if embedding_vector is not None:\n",
        "          # words not found in embedding index will be all-zeros.\n",
        "            embedding_matrix[i] = embedding_vector\n",
        "    return embedding_matrix"
      ],
      "execution_count": null,
      "outputs": []
    },
    {
      "cell_type": "code",
      "metadata": {
        "id": "JVw-nfoWkgEX"
      },
      "source": [
        "embedding_matrix = embedding_matrix_creater(50, word_index=word2index)"
      ],
      "execution_count": null,
      "outputs": []
    },
    {
      "cell_type": "markdown",
      "metadata": {
        "id": "MR6IYaZEN4PV"
      },
      "source": [
        "## Baseline Model"
      ]
    },
    {
      "cell_type": "code",
      "metadata": {
        "id": "zBolpAfHlV3Y"
      },
      "source": [
        "# from keras.layers import Input, Dense, LSTM, TimeDistributed\n",
        "# from keras.models import Model\n",
        "import numpy as np\n",
        "import pandas as pd\n",
        "import pickle\n",
        "import spacy\n",
        "nlp = spacy.load('en')\n",
        "import itertools\n",
        "import collections\n",
        "\n",
        "# Keras and Tensorflow\n",
        "import keras.backend as K\n",
        "from keras.preprocessing import sequence\n",
        "from keras.models import model_from_json\n",
        "from keras.models import Sequential, Model\n",
        "from keras.layers import Dense, Dropout, BatchNormalization\n",
        "from keras.layers.core import Activation, Flatten\n",
        "from keras.layers.embeddings import Embedding\n",
        "from keras.layers import LSTM, TimeDistributed, RepeatVector, Input\n",
        "\n",
        "import tensorflow as tf\n",
        "\n",
        "# Reference local code\n",
        "import os\n",
        "import sys\n",
        "from os.path import join\n",
        "from pathlib import Path\n",
        "sys.path.append(join(os.getcwd(), 'src'))\n",
        "\n",
        "%load_ext autoreload\n",
        "%autoreload 2\n",
        "#from utils import preprocessing\n",
        "#from model.textGenModel import TextGenModel"
      ],
      "execution_count": null,
      "outputs": []
    },
    {
      "cell_type": "code",
      "metadata": {
        "id": "v_3jd19nX6w6"
      },
      "source": [
        "hidden_size = 512\n",
        "batch_size = 16\n",
        "stateful = False"
      ],
      "execution_count": null,
      "outputs": []
    },
    {
      "cell_type": "code",
      "metadata": {
        "id": "aAmPDfcN32fl"
      },
      "source": [
        "# model.layers[0].trainable = True"
      ],
      "execution_count": null,
      "outputs": []
    },
    {
      "cell_type": "code",
      "metadata": {
        "id": "OJ_4NnoJ7CII"
      },
      "source": [
        "from sklearn.model_selection import train_test_split"
      ],
      "execution_count": null,
      "outputs": []
    },
    {
      "cell_type": "code",
      "metadata": {
        "colab": {
          "base_uri": "https://localhost:8080/"
        },
        "id": "uoc7opifMQJ5",
        "outputId": "1084d929-4e88-462b-9bed-becc8fc9aa11"
      },
      "source": [
        "encoder_input_data"
      ],
      "execution_count": null,
      "outputs": [
        {
          "output_type": "execute_result",
          "data": {
            "text/plain": [
              "array([[ 42,   3, 383, ...,   0,   0,   0],\n",
              "       [  4, 675,   3, ...,   0,   0,   0],\n",
              "       [  9,  27,   8, ...,   0,   0,   0],\n",
              "       ...,\n",
              "       [ 98, 251,   8, ...,   0,   0,   0],\n",
              "       [ 19,  12,   3, ...,   0,   0,   0],\n",
              "       [  0,   0,   0, ...,   0,   0,   0]], dtype=int32)"
            ]
          },
          "metadata": {
            "tags": []
          },
          "execution_count": 55
        }
      ]
    },
    {
      "cell_type": "code",
      "metadata": {
        "id": "LBo2RGJltMLa"
      },
      "source": [
        "words = list(word2index.values())"
      ],
      "execution_count": null,
      "outputs": []
    },
    {
      "cell_type": "code",
      "metadata": {
        "id": "rIe4iV0-MF0K"
      },
      "source": [
        "enc_que = []\n",
        "enc_ans = []\n",
        "# runs for 6 mins\n",
        "for sen in encoder_input_data:\n",
        "  senvec = [embedding_matrix[w] for w in sen if w in words]\n",
        "  enc_que.append(senvec)\n",
        "  #break"
      ],
      "execution_count": null,
      "outputs": []
    },
    {
      "cell_type": "code",
      "metadata": {
        "id": "vrBNWfB8vm8J"
      },
      "source": [
        "#runs for 6 min find a way to save\n",
        "for sen in decoder_input_data:\n",
        "  senvec = [embedding_matrix[w] for w in sen if w in words]\n",
        "  enc_ans.append(senvec)"
      ],
      "execution_count": null,
      "outputs": []
    },
    {
      "cell_type": "code",
      "metadata": {
        "id": "dRsQ60l2FD-L"
      },
      "source": [
        "questions = np.array(encoder_input_data,dtype=np.float64)\n",
        "answers = np.array(decoder_input_data,dtype=np.float64)"
      ],
      "execution_count": null,
      "outputs": []
    },
    {
      "cell_type": "code",
      "metadata": {
        "id": "H93NGW9a57nT"
      },
      "source": [
        "X_train, X_test, y_train, y_test = train_test_split(questions, answers, train_size=0.8) "
      ],
      "execution_count": null,
      "outputs": []
    },
    {
      "cell_type": "code",
      "metadata": {
        "colab": {
          "base_uri": "https://localhost:8080/"
        },
        "id": "fE-UnYUGy9ei",
        "outputId": "4b9f7d5d-800e-4bdc-8cb4-6ae9de075c4a"
      },
      "source": [
        "X_train.shape"
      ],
      "execution_count": null,
      "outputs": [
        {
          "output_type": "execute_result",
          "data": {
            "text/plain": [
              "(8000, 20)"
            ]
          },
          "metadata": {
            "tags": []
          },
          "execution_count": 114
        }
      ]
    },
    {
      "cell_type": "code",
      "metadata": {
        "colab": {
          "base_uri": "https://localhost:8080/"
        },
        "id": "n4Z2DrWX5UBX",
        "outputId": "8101e35a-9469-457c-fa24-a0c124b2f464"
      },
      "source": [
        "len(embedding_matrix)"
      ],
      "execution_count": null,
      "outputs": [
        {
          "output_type": "execute_result",
          "data": {
            "text/plain": [
              "2005"
            ]
          },
          "metadata": {
            "tags": []
          },
          "execution_count": 98
        }
      ]
    },
    {
      "cell_type": "code",
      "metadata": {
        "id": "aRbLGZPqonO8"
      },
      "source": [
        "from tensorflow.keras.layers import Embedding, SimpleRNN\n",
        "from tensorflow.keras.layers import Input, Dense, Reshape\n",
        "from tensorflow.keras.models import Model"
      ],
      "execution_count": null,
      "outputs": []
    },
    {
      "cell_type": "code",
      "metadata": {
        "id": "IoJr6zgJ3f6i"
      },
      "source": [
        "model.compile(loss='categorical_crossentropy',\n",
        "              optimizer='adam',\n",
        "              metrics='accuracy')"
      ],
      "execution_count": null,
      "outputs": []
    },
    {
      "cell_type": "code",
      "metadata": {
        "colab": {
          "base_uri": "https://localhost:8080/"
        },
        "id": "UJfXsJc57klG",
        "outputId": "f2061068-a07f-46ea-acc3-c382e19a7355"
      },
      "source": [
        "X_train.shape"
      ],
      "execution_count": null,
      "outputs": [
        {
          "output_type": "execute_result",
          "data": {
            "text/plain": [
              "(8000, 20)"
            ]
          },
          "metadata": {
            "tags": []
          },
          "execution_count": 125
        }
      ]
    },
    {
      "cell_type": "code",
      "metadata": {
        "id": "aA9A9Hn97ZoS"
      },
      "source": [
        "X = X_train.reshape(len(X_train),20,1)"
      ],
      "execution_count": null,
      "outputs": []
    },
    {
      "cell_type": "code",
      "metadata": {
        "colab": {
          "base_uri": "https://localhost:8080/"
        },
        "id": "zIRnjFp8CbSw",
        "outputId": "1fff70d0-2ee4-4cec-e071-ca6fa7f901d0"
      },
      "source": [
        "y_train.shape"
      ],
      "execution_count": null,
      "outputs": [
        {
          "output_type": "execute_result",
          "data": {
            "text/plain": [
              "(8000, 20)"
            ]
          },
          "metadata": {
            "tags": []
          },
          "execution_count": 132
        }
      ]
    },
    {
      "cell_type": "code",
      "metadata": {
        "id": "6syN6a4A4NRM"
      },
      "source": [
        "model.fit(X, # for stateful we need \n",
        "          y_train, # number of samples divisible by the batch size\n",
        "          epochs=500, \n",
        "          batch_size=batch_size,\n",
        "          validation_split = 0.2, \n",
        "          shuffle= True # don't shuffle if stateful \n",
        "         )"
      ],
      "execution_count": null,
      "outputs": []
    },
    {
      "cell_type": "code",
      "metadata": {
        "id": "Hp6PJfolqBUB"
      },
      "source": [
        "from tensorflow.keras.utils import to_categorical"
      ],
      "execution_count": null,
      "outputs": []
    },
    {
      "cell_type": "code",
      "metadata": {
        "id": "ihE07QIJp4x9"
      },
      "source": [
        "y_train_pad = [to_categorical(j, num_classes=2005) for j in y_train]"
      ],
      "execution_count": null,
      "outputs": []
    },
    {
      "cell_type": "code",
      "metadata": {
        "colab": {
          "base_uri": "https://localhost:8080/"
        },
        "id": "rBSzSrD5nsTo",
        "outputId": "f4e28013-8565-4e6c-9977-94378bca12b0"
      },
      "source": [
        "input = Input(shape=(20,))\n",
        "model = Embedding(input_dim=2005,output_dim=200,input_length=20)(input)\n",
        "model = SimpleRNN(64, return_sequences = True)(model)\n",
        "model = SimpleRNN(64, return_sequences = True)(model)\n",
        "\n",
        "out = Dense(2005,activation='softmax')(model)\n",
        "model = Model(input,out)\n",
        "model.summary()"
      ],
      "execution_count": null,
      "outputs": [
        {
          "output_type": "stream",
          "text": [
            "Model: \"model_2\"\n",
            "_________________________________________________________________\n",
            "Layer (type)                 Output Shape              Param #   \n",
            "=================================================================\n",
            "input_6 (InputLayer)         [(None, 20)]              0         \n",
            "_________________________________________________________________\n",
            "embedding_5 (Embedding)      (None, 20, 200)           401000    \n",
            "_________________________________________________________________\n",
            "simple_rnn_9 (SimpleRNN)     (None, 20, 64)            16960     \n",
            "_________________________________________________________________\n",
            "simple_rnn_10 (SimpleRNN)    (None, 20, 64)            8256      \n",
            "_________________________________________________________________\n",
            "dense_3 (Dense)              (None, 20, 2005)          130325    \n",
            "=================================================================\n",
            "Total params: 556,541\n",
            "Trainable params: 556,541\n",
            "Non-trainable params: 0\n",
            "_________________________________________________________________\n"
          ],
          "name": "stdout"
        }
      ]
    },
    {
      "cell_type": "code",
      "metadata": {
        "id": "BUBk_HwcpCFn"
      },
      "source": [
        "model.compile(\n",
        "    optimizer='adam', loss='categorical_crossentropy', metrics=['accuracy'])"
      ],
      "execution_count": null,
      "outputs": []
    },
    {
      "cell_type": "code",
      "metadata": {
        "colab": {
          "base_uri": "https://localhost:8080/"
        },
        "id": "B96D24vrpH39",
        "outputId": "a297d6fc-6598-48c0-8374-e91aeae8c25b"
      },
      "source": [
        "history = model.fit(X_train,np.array(y_train_pad),validation_split=0.2, epochs=10)"
      ],
      "execution_count": null,
      "outputs": [
        {
          "output_type": "stream",
          "text": [
            "Epoch 1/10\n",
            "200/200 [==============================] - 13s 56ms/step - loss: 3.8505 - accuracy: 0.5064 - val_loss: 3.0368 - val_accuracy: 0.5422\n",
            "Epoch 2/10\n",
            "200/200 [==============================] - 11s 54ms/step - loss: 2.9701 - accuracy: 0.5467 - val_loss: 2.9611 - val_accuracy: 0.5481\n",
            "Epoch 3/10\n",
            "200/200 [==============================] - 11s 54ms/step - loss: 2.9217 - accuracy: 0.5518 - val_loss: 2.9659 - val_accuracy: 0.5501\n",
            "Epoch 4/10\n",
            "200/200 [==============================] - 11s 54ms/step - loss: 2.8981 - accuracy: 0.5534 - val_loss: 2.9597 - val_accuracy: 0.5502\n",
            "Epoch 5/10\n",
            "200/200 [==============================] - 11s 54ms/step - loss: 2.8784 - accuracy: 0.5533 - val_loss: 2.9661 - val_accuracy: 0.5507\n",
            "Epoch 6/10\n",
            "200/200 [==============================] - 11s 55ms/step - loss: 2.8544 - accuracy: 0.5536 - val_loss: 2.9888 - val_accuracy: 0.5501\n",
            "Epoch 7/10\n",
            "200/200 [==============================] - 11s 55ms/step - loss: 2.8403 - accuracy: 0.5537 - val_loss: 3.0019 - val_accuracy: 0.5497\n",
            "Epoch 8/10\n",
            "200/200 [==============================] - 11s 55ms/step - loss: 2.8186 - accuracy: 0.5538 - val_loss: 3.0047 - val_accuracy: 0.5493\n",
            "Epoch 9/10\n",
            "200/200 [==============================] - 11s 54ms/step - loss: 2.8104 - accuracy: 0.5540 - val_loss: 3.0375 - val_accuracy: 0.5460\n",
            "Epoch 10/10\n",
            "200/200 [==============================] - 11s 54ms/step - loss: 2.7878 - accuracy: 0.5539 - val_loss: 3.0494 - val_accuracy: 0.5491\n"
          ],
          "name": "stdout"
        }
      ]
    }
  ]
}